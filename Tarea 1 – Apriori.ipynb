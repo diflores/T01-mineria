{
 "cells": [
  {
   "cell_type": "code",
   "execution_count": 1,
   "metadata": {
    "ExecuteTime": {
     "end_time": "2018-09-18T02:35:57.515869Z",
     "start_time": "2018-09-18T02:35:57.283734Z"
    }
   },
   "outputs": [],
   "source": [
    "import numpy as np\n",
    "import collections"
   ]
  },
  {
   "cell_type": "code",
   "execution_count": 2,
   "metadata": {
    "ExecuteTime": {
     "end_time": "2018-09-18T02:35:57.533570Z",
     "start_time": "2018-09-18T02:35:57.518724Z"
    }
   },
   "outputs": [],
   "source": [
    "class Apriori:\n",
    "    def __init__(self,\n",
    "                 data,\n",
    "                 min_support=0.01,\n",
    "                 min_confidence=0.01,\n",
    "                 min_lift=0.01):\n",
    "        self.data = data\n",
    "        self.min_support = min_confidence\n",
    "        self.min_lift = min_lift\n",
    "\n",
    "    def prepare_data(self):\n",
    "        self.playlists = list(spotify_data.item().values())\n",
    "        self.playlists = [set(playlist) for playlist in self.playlists]\n",
    "        unique_songs = [item for sublist in self.playlists for item in sublist]\n",
    "        self.songs_counter = collections.Counter(unique_songs)\n",
    "\n",
    "    def calculate_song_frequency(self):\n",
    "        songs_in_playlists = collections.defaultdict(set)\n",
    "        for index, playlist in enumerate(self.playlists):\n",
    "            for song in playlist:\n",
    "                songs_in_playlists[song].add(index)\n",
    "        self.songs_in_playlists = songs_in_playlists\n",
    "\n",
    "    def generate_L_1(self):\n",
    "        self.L_1_counter = {\n",
    "            song: times\n",
    "            for song, times in self.songs_counter.items()\n",
    "            if times / len(self.playlists) >= self.min_support\n",
    "        }\n",
    "        self.L_1 = [{song} for song in self.L_1_counter.keys()]\n",
    "\n",
    "    def generate_new_candidates(self, current_itemsets, k):\n",
    "        C_k = set()\n",
    "        for candidate in current_itemsets:\n",
    "            for song in self.L_1:\n",
    "                new_candidate = frozenset(candidate).union(song)\n",
    "                if len(new_candidate) == k:\n",
    "                    C_k.add(new_candidate)\n",
    "        return C_k\n",
    "\n",
    "    def prune_itemsets(self, C_k):\n",
    "        C_k_counter = {}\n",
    "        for candidate in C_k:\n",
    "            playlists_inter = []\n",
    "            for song in candidate:\n",
    "                playlists_inter.append(self.songs_in_playlists[song])\n",
    "            C_k_counter[candidate] = len(set.intersection(*playlists_inter))\n",
    "\n",
    "        L_k_counter = {\n",
    "            subset: times\n",
    "            for subset, times in C_k_counter.items()\n",
    "            if times / len(self.playlists) >= self.min_support\n",
    "        }\n",
    "        return L_k_counter\n",
    "\n",
    "    def fit(self):\n",
    "        self.prepare_data()\n",
    "        self.calculate_song_frequency()\n",
    "        self.generate_L_1()\n",
    "\n",
    "        self.frequent_itemsets = []\n",
    "        k = 2\n",
    "        current = self.L_1\n",
    "        while len(current) != 0:\n",
    "            C_k = self.generate_new_candidates(current, k)\n",
    "            L_k_counter = self.prune_itemsets(C_k)\n",
    "            L_k = L_k_counter.keys()\n",
    "            self.frequent_itemsets.append(L_k)\n",
    "            print(\"K = {}: {}\".format(k, L_k_counter))\n",
    "            k += 1\n",
    "            current = L_k"
   ]
  },
  {
   "cell_type": "code",
   "execution_count": 3,
   "metadata": {
    "ExecuteTime": {
     "end_time": "2018-09-18T02:35:57.959235Z",
     "start_time": "2018-09-18T02:35:57.538801Z"
    }
   },
   "outputs": [],
   "source": [
    "spotify_data = np.load(\"spotify.npy\")"
   ]
  },
  {
   "cell_type": "code",
   "execution_count": 4,
   "metadata": {
    "ExecuteTime": {
     "end_time": "2018-09-18T02:35:57.976492Z",
     "start_time": "2018-09-18T02:35:57.964041Z"
    }
   },
   "outputs": [],
   "source": [
    "apriori = Apriori(\n",
    "    data=spotify_data, min_support=0.01, min_confidence=0.01, min_lift=0.01)"
   ]
  },
  {
   "cell_type": "code",
   "execution_count": 5,
   "metadata": {
    "ExecuteTime": {
     "end_time": "2018-09-18T02:36:05.390614Z",
     "start_time": "2018-09-18T02:35:57.991058Z"
    }
   },
   "outputs": [
    {
     "name": "stdout",
     "output_type": "stream",
     "text": [
      "K = 2: {frozenset({'Swang', 'HUMBLE.'}): 113, frozenset({'Slippery (feat. Gucci Mane)', 'XO TOUR Llif3'}): 132, frozenset({'Broccoli (feat. Lil Yachty)', 'Fake Love'}): 110, frozenset({'Closer', 'Cold Water (feat. Justin Bieber & MØ)'}): 145, frozenset({'Mask Off', 'Swang'}): 112, frozenset({'Bad and Boujee (feat. Lil Uzi Vert)', 'Broccoli (feat. Lil Yachty)'}): 155, frozenset({'Bad and Boujee (feat. Lil Uzi Vert)', 'Mask Off'}): 151, frozenset({'T-Shirt', 'Bounce Back'}): 102, frozenset({'HUMBLE.', '1-800-273-8255'}): 107, frozenset({'679 (feat. Remy Boyz)', 'Trap Queen'}): 122, frozenset({'HUMBLE.', 'Caroline'}): 130, frozenset({'Slippery (feat. Gucci Mane)', 'Mask Off'}): 126, frozenset({'You Was Right', 'Money Longer'}): 117, frozenset({'Closer', 'Starving'}): 112, frozenset({'Butterfly Effect', 'Bank Account'}): 111, frozenset({'Mask Off', 'Fake Love'}): 100, frozenset({'Closer', 'One Dance'}): 121, frozenset({'goosebumps', 'pick up the phone'}): 103, frozenset({'Broccoli (feat. Lil Yachty)', 'iSpy (feat. Lil Yachty)'}): 117, frozenset({'Tunnel Vision', 'XO TOUR Llif3'}): 136, frozenset({'Knee Deep (feat. Jimmy Buffett)', 'Chicken Fried'}): 107, frozenset({'Bounce Back', 'Black Beatles'}): 114, frozenset({'Slippery (feat. Gucci Mane)', 'Bank Account'}): 105, frozenset({'Swang', 'XO TOUR Llif3'}): 113, frozenset({'XO TOUR Llif3', 'iSpy (feat. Lil Yachty)'}): 118, frozenset({'Paris', 'Closer'}): 102, frozenset({'Closer', 'Ride'}): 118, frozenset({'goosebumps', 'Bank Account'}): 100, frozenset({'goosebumps', 'Tunnel Vision'}): 111, frozenset({'Caroline', 'Congratulations'}): 116, frozenset({'Mask Off', 'Tunnel Vision'}): 127, frozenset({'Unforgettable', 'Congratulations'}): 104, frozenset({\"Don't Let Me Down\", 'One Dance'}): 103, frozenset({'goosebumps', 'HUMBLE.'}): 167, frozenset({'Bounce Back', 'iSpy (feat. Lil Yachty)'}): 134, frozenset({'HUMBLE.', \"I'm the One\"}): 139, frozenset({'Roses', \"Don't Let Me Down\"}): 111, frozenset({'Closer', 'Roses'}): 139, frozenset({'No Problem (feat. Lil Wayne & 2 Chainz)', 'Black Beatles'}): 100, frozenset({'Bad and Boujee (feat. Lil Uzi Vert)', 'Caroline'}): 153, frozenset({'No Role Modelz', 'Wet Dreamz'}): 100, frozenset({'Panda', 'One Dance'}): 128, frozenset({'Butterfly Effect', 'XO TOUR Llif3'}): 107, frozenset({'Bad and Boujee (feat. Lil Uzi Vert)', 'You Was Right'}): 105, frozenset({'No Problem (feat. Lil Wayne & 2 Chainz)', 'Congratulations'}): 100, frozenset({'Bad and Boujee (feat. Lil Uzi Vert)', 'Swang'}): 103, frozenset({'Broccoli (feat. Lil Yachty)', 'Congratulations'}): 115, frozenset({'Bank Account', 'HUMBLE.'}): 125, frozenset({'Unforgettable', 'XO TOUR Llif3'}): 103, frozenset({'Butterfly Effect', 'HUMBLE.'}): 101, frozenset({'Broccoli (feat. Lil Yachty)', 'Black Beatles'}): 138, frozenset({'Congratulations', 'iSpy (feat. Lil Yachty)'}): 162, frozenset({'T-Shirt', 'XO TOUR Llif3'}): 110, frozenset({'Swang', 'Congratulations'}): 112, frozenset({'Bad and Boujee (feat. Lil Uzi Vert)', 'XO TOUR Llif3'}): 131, frozenset({'Fake Love', 'Congratulations'}): 106, frozenset({'XO TOUR Llif3', 'rockstar'}): 112, frozenset({'T-Shirt', 'HUMBLE.'}): 124, frozenset({'Black Beatles', 'Caroline'}): 128, frozenset({'Bad and Boujee (feat. Lil Uzi Vert)', 'iSpy (feat. Lil Yachty)'}): 152, frozenset({'Mask Off', 'Congratulations'}): 162, frozenset({'Broccoli (feat. Lil Yachty)', 'Bounce Back'}): 129, frozenset({'Fake Love', 'Caroline'}): 135, frozenset({'No Problem (feat. Lil Wayne & 2 Chainz)', 'Fake Love'}): 102, frozenset({'T-Shirt', 'Tunnel Vision'}): 107, frozenset({'Broccoli (feat. Lil Yachty)', 'Caroline'}): 172, frozenset({'Bad and Boujee (feat. Lil Uzi Vert)', 'HUMBLE.'}): 167, frozenset({'No Problem (feat. Lil Wayne & 2 Chainz)', 'Caroline'}): 135, frozenset({'Chill Bill', 'Broccoli (feat. Lil Yachty)'}): 121, frozenset({'Bank Account', 'rockstar'}): 104, frozenset({'goosebumps', 'Mask Off'}): 148, frozenset({'DNA.', 'XO TOUR Llif3'}): 118, frozenset({'Bad and Boujee (feat. Lil Uzi Vert)', 'Money Longer'}): 108, frozenset({'Tunnel Vision', 'iSpy (feat. Lil Yachty)'}): 115, frozenset({'Controlla', 'One Dance'}): 124, frozenset({'Slippery (feat. Gucci Mane)', 'Congratulations'}): 132, frozenset({'HUMBLE.', 'Tunnel Vision'}): 139, frozenset({'XO TOUR Llif3', 'Portland'}): 102, frozenset({'goosebumps', 'Bounce Back'}): 127, frozenset({'Bounce Back', 'HUMBLE.'}): 156, frozenset({'goosebumps', 'Drowning (feat. Kodak Black)'}): 100, frozenset({'HUMBLE.', 'Passionfruit'}): 123, frozenset({'Swang', 'iSpy (feat. Lil Yachty)'}): 100, frozenset({'HUMBLE.', 'Congratulations'}): 214, frozenset({'Drowning (feat. Kodak Black)', 'HUMBLE.'}): 117, frozenset({'Too Good', 'One Dance'}): 132, frozenset({\"I'm the One\", 'XO TOUR Llif3'}): 104, frozenset({'Bad and Boujee (feat. Lil Uzi Vert)', 'Chill Bill'}): 104, frozenset({'Bounce Back', 'XO TOUR Llif3'}): 117, frozenset({'Bad and Boujee (feat. Lil Uzi Vert)', 'Fake Love'}): 138, frozenset({'Closer', 'Let Me Love You'}): 159, frozenset({'Closer', 'Shape of You'}): 111, frozenset({'Work', 'One Dance'}): 103, frozenset({'Broccoli (feat. Lil Yachty)', 'HUMBLE.'}): 130, frozenset({'Broccoli (feat. Lil Yachty)', 'No Problem (feat. Lil Wayne & 2 Chainz)'}): 158, frozenset({'Closer', 'Broccoli (feat. Lil Yachty)'}): 107, frozenset({'Drowning (feat. Kodak Black)', 'XO TOUR Llif3'}): 124, frozenset({'Drowning (feat. Kodak Black)', 'Congratulations'}): 105, frozenset({'goosebumps', 'Swang'}): 106, frozenset({'HUMBLE.', 'Portland'}): 106, frozenset({'Mask Off', 'Bounce Back'}): 136, frozenset({'No Problem (feat. Lil Wayne & 2 Chainz)', 'HUMBLE.'}): 119, frozenset({'DNA.', 'HUMBLE.'}): 190, frozenset({'goosebumps', 'No Problem (feat. Lil Wayne & 2 Chainz)'}): 100, frozenset({\"I'm the One\", 'Congratulations'}): 117, frozenset({'Bad and Boujee (feat. Lil Uzi Vert)', 'X (feat. Future)'}): 109, frozenset({'XO TOUR Llif3', 'Magnolia'}): 117, frozenset({'Mask Off', 'Caroline'}): 101, frozenset({'Bad and Boujee (feat. Lil Uzi Vert)', 'Tunnel Vision'}): 107, frozenset({'Closer', 'Gold'}): 118, frozenset({'Bad and Boujee (feat. Lil Uzi Vert)', 'Bounce Back'}): 169, frozenset({'Bad and Boujee (feat. Lil Uzi Vert)', 'Slippery (feat. Gucci Mane)'}): 121, frozenset({'HUMBLE.', 'Magnolia'}): 108, frozenset({'Chill Bill', 'Caroline'}): 115, frozenset({'T-Shirt', 'Congratulations'}): 115, frozenset({'Bank Account', 'Magnolia'}): 113, frozenset({'Caroline', 'iSpy (feat. Lil Yachty)'}): 134, frozenset({'Bounce Back', 'Congratulations'}): 136, frozenset({'Cold Water (feat. Justin Bieber & MØ)', 'Let Me Love You'}): 115, frozenset({'HUMBLE.', 'Black Beatles'}): 100, frozenset({'Panda', 'Broccoli (feat. Lil Yachty)'}): 132, frozenset({'DNA.', 'Mask Off'}): 110, frozenset({'No Heart', 'X (feat. Future)'}): 103, frozenset({'HUMBLE.', 'iSpy (feat. Lil Yachty)'}): 155, frozenset({'Love Yourself', 'Sorry'}): 117, frozenset({'Fake Love', 'Black Beatles'}): 100, frozenset({'Bank Account', 'XO TOUR Llif3'}): 128, frozenset({'goosebumps', 'Congratulations'}): 155, frozenset({'Mask Off', 'XO TOUR Llif3'}): 163, frozenset({'Bounce Back', 'Caroline'}): 139, frozenset({'Slippery (feat. Gucci Mane)', 'Tunnel Vision'}): 110, frozenset({'This Is What You Came For', 'Closer'}): 104, frozenset({'Mask Off', 'HUMBLE.'}): 204, frozenset({'Bounce Back', 'No Problem (feat. Lil Wayne & 2 Chainz)'}): 108, frozenset({'Bad and Boujee (feat. Lil Uzi Vert)', 'pick up the phone'}): 100, frozenset({'goosebumps', 'XO TOUR Llif3'}): 152, frozenset({'HUMBLE.', 'rockstar'}): 117, frozenset({'Jumpman', 'One Dance'}): 100, frozenset({'Slippery (feat. Gucci Mane)', 'T-Shirt'}): 111, frozenset({'Closer', \"Don't Let Me Down\"}): 149, frozenset({'T-Shirt', 'Mask Off'}): 117, frozenset({'DNA.', 'Congratulations'}): 105, frozenset({'goosebumps', 'T-Shirt'}): 118, frozenset({'goosebumps', 'Caroline'}): 106, frozenset({'XO TOUR Llif3', 'Congratulations'}): 179, frozenset({'Bad and Boujee (feat. Lil Uzi Vert)', 'goosebumps'}): 133, frozenset({'Slippery (feat. Gucci Mane)', 'HUMBLE.'}): 148, frozenset({'Sorry', 'What Do You Mean?'}): 128, frozenset({'Tunnel Vision', 'Congratulations'}): 120, frozenset({'Unforgettable', 'HUMBLE.'}): 106, frozenset({'Fake Love', 'iSpy (feat. Lil Yachty)'}): 114, frozenset({'HUMBLE.', 'XO TOUR Llif3'}): 204, frozenset({'Mask Off', 'iSpy (feat. Lil Yachty)'}): 147, frozenset({'Panda', 'Jumpman'}): 113, frozenset({'goosebumps', 'Fake Love'}): 101, frozenset({'Congratulations', 'rockstar'}): 112, frozenset({'Bad and Boujee (feat. Lil Uzi Vert)', 'No Problem (feat. Lil Wayne & 2 Chainz)'}): 121, frozenset({'Bad and Boujee (feat. Lil Uzi Vert)', 'T-Shirt'}): 127, frozenset({'Bad and Boujee (feat. Lil Uzi Vert)', 'Black Beatles'}): 131, frozenset({'Bounce Back', 'Fake Love'}): 120, frozenset({'Despacito - Remix', \"I'm the One\"}): 120, frozenset({'goosebumps', 'Slippery (feat. Gucci Mane)'}): 125, frozenset({'Mask Off', 'Broccoli (feat. Lil Yachty)'}): 104, frozenset({'Broccoli (feat. Lil Yachty)', 'One Dance'}): 121, frozenset({'goosebumps', 'iSpy (feat. Lil Yachty)'}): 122, frozenset({'goosebumps', 'rockstar'}): 105, frozenset({'Bad and Boujee (feat. Lil Uzi Vert)', 'Congratulations'}): 149}\n"
     ]
    },
    {
     "name": "stdout",
     "output_type": "stream",
     "text": [
      "K = 3: {frozenset({'Bad and Boujee (feat. Lil Uzi Vert)', 'Mask Off', 'HUMBLE.'}): 110, frozenset({'goosebumps', 'Mask Off', 'HUMBLE.'}): 110, frozenset({'goosebumps', 'HUMBLE.', 'XO TOUR Llif3'}): 111, frozenset({'goosebumps', 'XO TOUR Llif3', 'Congratulations'}): 104, frozenset({'Mask Off', 'Bounce Back', 'HUMBLE.'}): 101, frozenset({'Bad and Boujee (feat. Lil Uzi Vert)', 'Broccoli (feat. Lil Yachty)', 'Bounce Back'}): 100, frozenset({'Mask Off', 'HUMBLE.', 'iSpy (feat. Lil Yachty)'}): 101, frozenset({'DNA.', 'HUMBLE.', 'XO TOUR Llif3'}): 102, frozenset({'goosebumps', 'HUMBLE.', 'Congratulations'}): 112, frozenset({'DNA.', 'Mask Off', 'HUMBLE.'}): 100, frozenset({'HUMBLE.', 'XO TOUR Llif3', 'Congratulations'}): 128, frozenset({'Mask Off', 'XO TOUR Llif3', 'Congratulations'}): 107, frozenset({'HUMBLE.', 'Congratulations', 'iSpy (feat. Lil Yachty)'}): 109, frozenset({'Bad and Boujee (feat. Lil Uzi Vert)', 'HUMBLE.', 'Congratulations'}): 101, frozenset({'goosebumps', 'Mask Off', 'XO TOUR Llif3'}): 101, frozenset({'Tunnel Vision', 'XO TOUR Llif3', 'HUMBLE.'}): 102, frozenset({'Mask Off', 'HUMBLE.', 'Congratulations'}): 121, frozenset({'Slippery (feat. Gucci Mane)', 'XO TOUR Llif3', 'HUMBLE.'}): 101, frozenset({'HUMBLE.', 'Mask Off', 'XO TOUR Llif3'}): 131}\n",
      "K = 4: {}\n"
     ]
    }
   ],
   "source": [
    "apriori.fit()"
   ]
  }
 ],
 "metadata": {
  "kernelspec": {
   "display_name": "Python 3",
   "language": "python",
   "name": "python3"
  },
  "language_info": {
   "codemirror_mode": {
    "name": "ipython",
    "version": 3
   },
   "file_extension": ".py",
   "mimetype": "text/x-python",
   "name": "python",
   "nbconvert_exporter": "python",
   "pygments_lexer": "ipython3",
   "version": "3.6.4"
  },
  "notify_time": "5"
 },
 "nbformat": 4,
 "nbformat_minor": 2
}
