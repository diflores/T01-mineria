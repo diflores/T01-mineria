{
 "cells": [
  {
   "cell_type": "markdown",
   "metadata": {},
   "source": [
    "# Implementación del algoritmo Apriori\n",
    "\n",
    "##### Por: Daniela Flores Villanueva\n",
    "\n",
    "En este *notebook* se define lo necesario para implementar el algoritmo Apriori con la menor dependencia de código externo posible. Posteriormente, se emplea la implementación propuesta para minar reglas de asociación que presenten altos valores para ciertas métricas y se analizan separadamente. Finalmente, se entrega una forma de visualizar un conjunto de reglas de asociación.\n",
    "\n",
    "## Librerías utilizadas\n",
    "\n",
    "- `numpy`: se utilizó para cargar los datos del Spotify RecSys Challenge, que venían en una arreglo serializado de `numpy`.\n",
    "- `collections`: se usó su clase `defaultdict`, para formar los diccionarios con los contadores de soporte de cada *itemset*.\n",
    "- `pandas`: para obtener el contador de soporte de las canciones.\n",
    "- `altair`: para realizar visualizaciones."
   ]
  },
  {
   "cell_type": "code",
   "execution_count": 1,
   "metadata": {
    "ExecuteTime": {
     "end_time": "2018-09-22T17:39:26.320185Z",
     "start_time": "2018-09-22T17:39:24.851822Z"
    }
   },
   "outputs": [
    {
     "data": {
      "text/plain": [
       "RendererRegistry.enable('notebook')"
      ]
     },
     "execution_count": 1,
     "metadata": {},
     "output_type": "execute_result"
    }
   ],
   "source": [
    "import numpy as np\n",
    "import collections\n",
    "import pandas as pd\n",
    "import altair as alt\n",
    "alt.renderers.enable('notebook')"
   ]
  },
  {
   "cell_type": "markdown",
   "metadata": {},
   "source": [
    "Para generar todas las combinaciones largo $r$ que pueden extraerse de un iterable, se define la siguiente función. Esta implementación fue extraída de [este](https://docs.python.org/3/library/itertools.html#itertools.combinations) recurso. "
   ]
  },
  {
   "cell_type": "code",
   "execution_count": 2,
   "metadata": {
    "ExecuteTime": {
     "end_time": "2018-09-22T17:39:26.329675Z",
     "start_time": "2018-09-22T17:39:26.323221Z"
    }
   },
   "outputs": [],
   "source": [
    "def combinations(iterable, r):\n",
    "    pool = tuple(iterable)\n",
    "    n = len(pool)\n",
    "    if r > n:\n",
    "        return\n",
    "    indices = list(range(r))\n",
    "    yield tuple(pool[i] for i in indices)\n",
    "    while True:\n",
    "        for i in reversed(range(r)):\n",
    "            if indices[i] != i + n - r:\n",
    "                break\n",
    "        else:\n",
    "            return\n",
    "        indices[i] += 1\n",
    "        for j in range(i + 1, r):\n",
    "            indices[j] = indices[j - 1] + 1\n",
    "        yield tuple(pool[i] for i in indices)"
   ]
  },
  {
   "cell_type": "markdown",
   "metadata": {},
   "source": [
    "## Clase Apriori\n",
    "\n",
    "La implementación presentada en este *notebook* se basa en la creación de un objeto de clase `Apriori` que, en primer lugar, recibe los siguientes parámetros:\n",
    "\n",
    "- `data`: corresponde a las transacciones, en forma de `numpy.array`.\n",
    "- `min_support`: soporte mínimo para que un `itemset` sea considerado frecuente.\n",
    "- `min_confidence`: confianza mínima para que cierta regla de asociación sea retornada.\n",
    "- `min_lift`: *lift* mínimo para que cierta regla de asociación sea retornada.\n",
    "\n",
    "### Métodos\n",
    "\n",
    "- `prepare_data`: convierte los datos recibidos (`self.data`) en una lista de conjuntos, donde cada conjunto corresponde a una lista de reproducción. De esta forma, se evitan canciones repetidas en las listas. También, se guarda en `self.songs_counter` un contador con la frecuencia de cada canción. Esta información permitirá formar el conjunto L_1.\n",
    "- `get_songs_appearances`: gracias a este método, se guarda un diccionario cuyas llaves son nombres de canciones y los valores el conjunto de índices de las listas de reproducción donde aparece dicha canción. Esto permitirá obtener el contador de soporte de un *itemset* con facilidad.\n",
    "- `generate_L_1`: con esto se obtienen los *itemsets* frecuentes de largo 1, es decir, las canciones que aparecen un porcentaje de veces mayor al mínimo soporte definido.\n",
    "- `has_unfrequent_subset`: este método permite verificar la propiedad de monotonicidad de un *k-itemset*: si el itemset es frecuente, entonces todos sus subconjuntos deben serlo también. Este método finalmente no se ocupó, pues demoraba la ejecución del método `fit`. Cabe destacar, eso sí, que la poda (realizada en `prune_itemsets`) es lo suficientemente veloz como para prescindir de este paso al menos en esta implementación. Lo correcto hubiese sido, por supuesto, incluir este paso de verificación al generar candidatos a *itemsets* frecuentes.\n",
    "- `generate_new_candidates`: este método permite generar un nuevo conjunto de posibles *itemsets* frecuentes. Esto se hace a partir de la unión de un conjunto de *itemsets* frecuentes consigo mismo. Un *itemset* se \"fusiona\" con otro solo si sus primeros $k - 2$ elementos son iguales. Puede observarse que se dejó comentada la verificación de la propiedad de monotonocidad (`if not self.has_unfrequent_subset(c, current_itemsets, k)`), puesto que su utilización, aunque correcta, agrega alrededor de 8 segundos extra al tiempo de ejecución del método `fit`.\n",
    "- `calculate_subset_count`: calcula el contador de soporte de un *itemset*. Gracias al diccionario generado con `get_songs_appearances`, es fácil obtener el contador de soporte de un *itemset*: basta con obtener las listas de reproducción en que aparece cada canción del *itemset* y luego intersectar esos conjuntos de *playlists*. El largo de la intersección corresponderá al contador de soporte de *itemset*.\n",
    "- `prune_itemsets`: retorna el conjunto de *itemsets* que superan el mínimo soporte definido.\n",
    "- `export_frequent_itemsets_to_csv`: permite exportar los *itemsets* frecuentes junto a su contador de soporte y a su soporte a un archivo `csv`.\n",
    "- `fit`: método que genera los *itemsets* frecuentes.\n",
    "- `get_association_rule_from_itemset`: Dado un *itemset* $I$ se forman todas las combinaciones posibles de $X \\rightarrow Y$, donde $X \\subset I$ y $Y = I - X$. Es importante notar que solo se consideran reglas de asociación aquellas en que tanto X como Y tengan largo mayor o igual a 1.\n",
    "- `generate`: se generan todas las reglas de asociación posibles a partir de los *itemsets* frecuentes encontrados. Por defecto, se retornan ordenadas por *confidence*. El usuario puede cambiar esto mediante la modificación del parámetro `order_by`.\n",
    "- `export_rules_to_csv`: se exportan las reglas a `csv`, gracias a un `DataFrame` de `pandas`.\n",
    "- `get_n_top_rules`: permite obtener las $n$ reglas con mayor valor de la métrica determinada por el usuario (*confidence*, por defecto). Esta métrica puede corresponder a *confidence* o a *lift*. El criterio de ordenación se cambia a través de la modificación del parámetro `order_by`.\n",
    "- `filter_rules`: método que permite filtrar las reglas según los umbrales de *confidence* y *lift* definidos al inicializar el objeto. Se puede filtrar por *confidence* y *lift* tanto de forma separada como integrada."
   ]
  },
  {
   "cell_type": "code",
   "execution_count": 3,
   "metadata": {
    "ExecuteTime": {
     "end_time": "2018-09-22T17:39:26.377133Z",
     "start_time": "2018-09-22T17:39:26.333852Z"
    }
   },
   "outputs": [],
   "source": [
    "class Apriori:\n",
    "    def __init__(self, data, min_support=0.01, min_confidence=0.01,\n",
    "                 min_lift=1):\n",
    "        self.data = data\n",
    "        self.min_support = min_support\n",
    "        self.min_confidence = min_confidence\n",
    "        self.min_lift = min_lift\n",
    "\n",
    "    def prepare_data(self):\n",
    "        self.playlists = list(self.data.item().values())\n",
    "        self.playlists = [set(playlist) for playlist in self.playlists]\n",
    "        unique_songs = [item for sublist in self.playlists for item in sublist]\n",
    "        self.songs_counter = pd.Series(\n",
    "            data=unique_songs).value_counts().to_dict()\n",
    "\n",
    "    def get_songs_appearances(self):\n",
    "        songs_in_playlists = collections.defaultdict(set)\n",
    "        for index, playlist in enumerate(self.playlists):\n",
    "            for song in playlist:\n",
    "                songs_in_playlists[song].add(index)\n",
    "        self.songs_in_playlists = songs_in_playlists\n",
    "\n",
    "    def generate_L_1(self):\n",
    "        self.L_1_counter = {\n",
    "            song: times\n",
    "            for song, times in self.songs_counter.items()\n",
    "            if times / len(self.playlists) >= self.min_support\n",
    "        }\n",
    "        self.L_1 = [{song} for song in self.L_1_counter.keys()]\n",
    "\n",
    "    def has_unfrequent_subset(self, candidate, current_itemsets, k):\n",
    "        subsets = combinations(candidate, k - 1)\n",
    "        for subset in subsets:\n",
    "            if frozenset(subset) not in current_itemsets:\n",
    "                return True\n",
    "        return False\n",
    "\n",
    "    def generate_new_candidates(self, current_itemsets, k):\n",
    "        C_k = set()\n",
    "        m = k - 2\n",
    "        for candidate in current_itemsets:\n",
    "            candidate = list(candidate)\n",
    "            for aux_candidate in current_itemsets:\n",
    "                aux_candidate = list(aux_candidate)\n",
    "                can_join = True\n",
    "                for i in range(k - 2):\n",
    "                    if candidate[i] != aux_candidate[i]:\n",
    "                        can_join = False\n",
    "                        break\n",
    "                if not can_join:\n",
    "                    continue\n",
    "                if candidate[k - 2] < aux_candidate[k - 2]:\n",
    "                    c = candidate + [aux_candidate[k - 2]]\n",
    "                    c = frozenset(sorted(c))\n",
    "                    #                     if not self.has_unfrequent_subset(c, current_itemsets, k):\n",
    "                    #                         C_k.add(c)\n",
    "                    C_k.add(c)\n",
    "        return C_k\n",
    "\n",
    "    def calculate_subset_count(self, subset):\n",
    "        playlists_inter = []\n",
    "        for song in subset:\n",
    "            playlists_inter.append(self.songs_in_playlists[song])\n",
    "        return len(set.intersection(*playlists_inter))\n",
    "\n",
    "    def prune_itemsets(self, C_k):\n",
    "        C_k_counter = {}\n",
    "        playlist_length = len(self.playlists)\n",
    "        for candidate in C_k:\n",
    "            C_k_counter[candidate] = self.calculate_subset_count(candidate)\n",
    "        L_k_counter = {\n",
    "            subset: times\n",
    "            for subset, times in C_k_counter.items()\n",
    "            if times / playlist_length >= self.min_support\n",
    "        }\n",
    "        return L_k_counter\n",
    "\n",
    "    def export_frequent_itemsets_to_csv(self):\n",
    "        self.frequent_itemsets_df = pd.DataFrame([\n",
    "            item for sublist in self.k_frequent_itemsets.values()\n",
    "            for item in sublist\n",
    "        ]).round(3)\n",
    "        self.frequent_itemsets_df.columns = [\"itemset\", \"count_support\"]\n",
    "        self.frequent_itemsets_df[\"support\"] = self.frequent_itemsets_df[\n",
    "            \"count_support\"] / len(self.playlists)\n",
    "        print(\"Generating file with frequent itemsets.\")\n",
    "        self.frequent_itemsets_df.to_csv(\n",
    "            \"frequent_itemsets.csv\", index=\"False\")\n",
    "        return self.frequent_itemsets_df\n",
    "\n",
    "    def fit(self):\n",
    "        self.prepare_data()\n",
    "        self.get_songs_appearances()\n",
    "        self.generate_L_1()\n",
    "        self.k_frequent_itemsets = {}\n",
    "        self.k_frequent_itemsets[1] = sorted(\n",
    "            self.L_1_counter.items(), key=lambda x: x[1], reverse=True)\n",
    "        self.frequent_itemsets_length_gt2 = []\n",
    "        k = 2\n",
    "        current = self.L_1\n",
    "        while len(current) != 0:\n",
    "            C_k = self.generate_new_candidates(current, k)\n",
    "            L_k_counter = self.prune_itemsets(C_k)\n",
    "            L_k = L_k_counter.keys()\n",
    "            self.frequent_itemsets_length_gt2.extend(L_k)\n",
    "            self.k_frequent_itemsets[k] = sorted(\n",
    "                L_k_counter.items(), key=lambda x: x[1], reverse=True)\n",
    "            k += 1\n",
    "            current = L_k\n",
    "        self.export_frequent_itemsets_to_csv()\n",
    "\n",
    "    def get_association_rule_from_itemset(self, itemset):\n",
    "        itemset_count = self.calculate_subset_count(itemset)\n",
    "        itemset_support = itemset_count / len(self.playlists)\n",
    "        for i in range(1, len(itemset) + 1):\n",
    "            for x_set in combinations(itemset, i):\n",
    "                x_set = set(x_set)\n",
    "                y_set = set(itemset) - x_set\n",
    "                x_support = self.calculate_subset_count(x_set) / len(\n",
    "                    self.playlists)\n",
    "                x_y_support = self.calculate_subset_count(\n",
    "                    x_set.union(y_set)) / len(self.playlists)\n",
    "                rule_confidence = x_y_support / x_support\n",
    "                if len(x_set) > 0 and len(y_set) > 0:\n",
    "                    y_support = self.calculate_subset_count(y_set) / len(\n",
    "                        self.playlists)\n",
    "                    rule_lift = x_y_support / (x_support * y_support)\n",
    "                    self.rules.append((x_set, y_set, rule_confidence,\n",
    "                                       rule_lift))\n",
    "\n",
    "    def generate(self):\n",
    "        self.rules = []\n",
    "        for itemset in self.frequent_itemsets_length_gt2:\n",
    "            self.get_association_rule_from_itemset(itemset)\n",
    "        self.export_rules_to_csv()\n",
    "\n",
    "    def export_rules_to_csv(self):\n",
    "        self.rules_df = pd.DataFrame(\n",
    "            data=self.rules,\n",
    "            columns=[\"antecedent\", \"consequent\", \"confidence\",\n",
    "                     \"lift\"]).round(3)\n",
    "        print(\"Generating file with association rules.\")\n",
    "        self.rules_df[\"antecedent\"] = list(\n",
    "            map(tuple, self.rules_df[\"antecedent\"]))\n",
    "        self.rules_df[\"consequent\"] = list(\n",
    "            map(tuple, self.rules_df[\"consequent\"]))\n",
    "        self.rules_df.to_csv(\"association_rules.csv\", index=False)\n",
    "\n",
    "        return self.rules_df\n",
    "\n",
    "    def get_n_top_rules(self, n, order_by=\"confidence\"):\n",
    "        sorted_df = self.rules_df.sort_values(\n",
    "            order_by, ascending=False).head(n)\n",
    "        print(\"Generating file with top {} rules sorted by {}.\".format(\n",
    "            n, order_by))\n",
    "        sorted_df.to_csv(\n",
    "            \"top_{}_rule_by_{}.csv\".format(n, order_by), index=False)\n",
    "        return sorted_df\n",
    "\n",
    "    def filter_rules(self, filter_by=\"both\"):\n",
    "        if filter_by == \"both\":\n",
    "            filtered_rules = self.rules_df[\n",
    "                (self.rules_df[\"confidence\"] >= self.min_confidence)\n",
    "                & (self.rules_df[\"lift\"] >= self.min_lift)]\n",
    "        elif filter_by == \"confidence\":\n",
    "            filtered_rules = self.rules_df[self.rules_df[\"confidence\"] >= self.\n",
    "                                           min_confidence].sort_values(\n",
    "                                               filter_by, ascending=False)\n",
    "        else:\n",
    "            filtered_rules = self.rules_df[\n",
    "                self.rules_df[\"lift\"] >= self.min_lift].sort_values(\n",
    "                    filter_by, ascending=False)\n",
    "        print(\n",
    "            \"Generating file with filtered rules. These are the first 10 rules.\"\n",
    "        )\n",
    "        display(filtered_rules.head(10))\n",
    "        filtered_rules.to_csv(\"filtered_rules.csv\", index=False)"
   ]
  },
  {
   "cell_type": "markdown",
   "metadata": {},
   "source": [
    "## Prueba de la implementación sobre la base de datos entregada\n",
    "\n",
    "En primer lugar, se cargan los datos."
   ]
  },
  {
   "cell_type": "code",
   "execution_count": 4,
   "metadata": {
    "ExecuteTime": {
     "end_time": "2018-09-22T17:39:26.647060Z",
     "start_time": "2018-09-22T17:39:26.386830Z"
    }
   },
   "outputs": [],
   "source": [
    "spotify_data = np.load(\"spotify.npy\")"
   ]
  },
  {
   "cell_type": "markdown",
   "metadata": {},
   "source": [
    "Para definir un mínimo soporte adecuado, conviene estudiar la frecuencia de aparición de las distintas canciones del *data set*."
   ]
  },
  {
   "cell_type": "code",
   "execution_count": 5,
   "metadata": {
    "ExecuteTime": {
     "end_time": "2018-09-22T17:39:27.294048Z",
     "start_time": "2018-09-22T17:39:26.649386Z"
    }
   },
   "outputs": [
    {
     "data": {
      "text/plain": [
       "Closer                         761\n",
       "Home                           489\n",
       "HUMBLE.                        470\n",
       "Roses                          436\n",
       "One Dance                      433\n",
       "Ride                           429\n",
       "Congratulations                410\n",
       "Let Me Love You                403\n",
       "Broccoli (feat. Lil Yachty)    402\n",
       "Caroline                       395\n",
       "dtype: int64"
      ]
     },
     "execution_count": 5,
     "metadata": {},
     "output_type": "execute_result"
    }
   ],
   "source": [
    "playlists = spotify_data.item().values()\n",
    "unique_songs = [item for sublist in playlists for item in sublist]\n",
    "pd.Series(unique_songs).value_counts().sort_values(ascending=False)[0:10]"
   ]
  },
  {
   "cell_type": "markdown",
   "metadata": {},
   "source": [
    "Es posible notar que la canción que más veces aparece, lo hace tan solo 761, lo que equivale al 7%. Por esta razón, el mínimo soporte empleado será 0.01. Así, se define un objeto de clase `Apriori`, al que se le entregan los datos (guardados en la variable `spotify_data`), el soporte mínimo deseado, la confianza mínima deseada y el mínimo lift requerido."
   ]
  },
  {
   "cell_type": "code",
   "execution_count": 6,
   "metadata": {
    "ExecuteTime": {
     "end_time": "2018-09-22T17:39:27.301805Z",
     "start_time": "2018-09-22T17:39:27.297108Z"
    }
   },
   "outputs": [],
   "source": [
    "apriori = Apriori(\n",
    "    data=spotify_data, min_support=0.01, min_confidence=0.5, min_lift=0.9)"
   ]
  },
  {
   "cell_type": "markdown",
   "metadata": {},
   "source": [
    "Con el método *fit*, se generan los *itemsets* frecuentes, que permitirán obtener las reglas de asociación. Los *itemsets* se guardan en un archivo `.csv`."
   ]
  },
  {
   "cell_type": "code",
   "execution_count": 7,
   "metadata": {
    "ExecuteTime": {
     "end_time": "2018-09-22T17:39:33.234427Z",
     "start_time": "2018-09-22T17:39:27.305857Z"
    }
   },
   "outputs": [
    {
     "name": "stdout",
     "output_type": "stream",
     "text": [
      "Generating file with frequent itemsets.\n"
     ]
    }
   ],
   "source": [
    "apriori.fit()"
   ]
  },
  {
   "cell_type": "markdown",
   "metadata": {},
   "source": [
    "Con los *itemsets* frecuentes ya encontrados, se procede a generar las reglas de asociación. Para no llenar el *notebook* con estas reglas (son 448), se guardan en un archivo `.csv`."
   ]
  },
  {
   "cell_type": "code",
   "execution_count": 8,
   "metadata": {
    "ExecuteTime": {
     "end_time": "2018-09-22T17:39:33.306893Z",
     "start_time": "2018-09-22T17:39:33.238238Z"
    }
   },
   "outputs": [
    {
     "name": "stdout",
     "output_type": "stream",
     "text": [
      "Generating file with association rules.\n"
     ]
    }
   ],
   "source": [
    "apriori.generate()"
   ]
  },
  {
   "cell_type": "markdown",
   "metadata": {
    "ExecuteTime": {
     "end_time": "2018-09-21T15:52:22.682801Z",
     "start_time": "2018-09-21T15:52:22.672716Z"
    }
   },
   "source": [
    "A continuación, se puede obtener las reglas ordenadas según un criterio definido por el usuario. En la siguiente celda, por ejemplo, se seleccionan las 10 reglas con mayor *confidence*"
   ]
  },
  {
   "cell_type": "code",
   "execution_count": 9,
   "metadata": {
    "ExecuteTime": {
     "end_time": "2018-09-22T17:39:33.339236Z",
     "start_time": "2018-09-22T17:39:33.310257Z"
    }
   },
   "outputs": [
    {
     "name": "stdout",
     "output_type": "stream",
     "text": [
      "Generating file with top 10 rules sorted by confidence.\n"
     ]
    },
    {
     "data": {
      "text/html": [
       "<div>\n",
       "<style scoped>\n",
       "    .dataframe tbody tr th:only-of-type {\n",
       "        vertical-align: middle;\n",
       "    }\n",
       "\n",
       "    .dataframe tbody tr th {\n",
       "        vertical-align: top;\n",
       "    }\n",
       "\n",
       "    .dataframe thead th {\n",
       "        text-align: right;\n",
       "    }\n",
       "</style>\n",
       "<table border=\"1\" class=\"dataframe\">\n",
       "  <thead>\n",
       "    <tr style=\"text-align: right;\">\n",
       "      <th></th>\n",
       "      <th>antecedent</th>\n",
       "      <th>consequent</th>\n",
       "      <th>confidence</th>\n",
       "      <th>lift</th>\n",
       "    </tr>\n",
       "  </thead>\n",
       "  <tbody>\n",
       "    <tr>\n",
       "      <th>439</th>\n",
       "      <td>(Mask Off, DNA.)</td>\n",
       "      <td>(HUMBLE.,)</td>\n",
       "      <td>0.909</td>\n",
       "      <td>19.550</td>\n",
       "    </tr>\n",
       "    <tr>\n",
       "      <th>398</th>\n",
       "      <td>(DNA., XO TOUR Llif3)</td>\n",
       "      <td>(HUMBLE.,)</td>\n",
       "      <td>0.864</td>\n",
       "      <td>18.589</td>\n",
       "    </tr>\n",
       "    <tr>\n",
       "      <th>314</th>\n",
       "      <td>(DNA.,)</td>\n",
       "      <td>(HUMBLE.,)</td>\n",
       "      <td>0.823</td>\n",
       "      <td>17.688</td>\n",
       "    </tr>\n",
       "    <tr>\n",
       "      <th>337</th>\n",
       "      <td>(Mask Off, XO TOUR Llif3)</td>\n",
       "      <td>(HUMBLE.,)</td>\n",
       "      <td>0.804</td>\n",
       "      <td>17.283</td>\n",
       "    </tr>\n",
       "    <tr>\n",
       "      <th>350</th>\n",
       "      <td>(Bounce Back, Broccoli (feat. Lil Yachty))</td>\n",
       "      <td>(Bad and Boujee (feat. Lil Uzi Vert),)</td>\n",
       "      <td>0.775</td>\n",
       "      <td>22.469</td>\n",
       "    </tr>\n",
       "    <tr>\n",
       "      <th>368</th>\n",
       "      <td>(XO TOUR Llif3, Slippery (feat. Gucci Mane))</td>\n",
       "      <td>(HUMBLE.,)</td>\n",
       "      <td>0.765</td>\n",
       "      <td>16.455</td>\n",
       "    </tr>\n",
       "    <tr>\n",
       "      <th>373</th>\n",
       "      <td>(Tunnel Vision, XO TOUR Llif3)</td>\n",
       "      <td>(HUMBLE.,)</td>\n",
       "      <td>0.750</td>\n",
       "      <td>16.129</td>\n",
       "    </tr>\n",
       "    <tr>\n",
       "      <th>433</th>\n",
       "      <td>(Congratulations, Mask Off)</td>\n",
       "      <td>(HUMBLE.,)</td>\n",
       "      <td>0.747</td>\n",
       "      <td>16.063</td>\n",
       "    </tr>\n",
       "    <tr>\n",
       "      <th>403</th>\n",
       "      <td>(Bounce Back, Mask Off)</td>\n",
       "      <td>(HUMBLE.,)</td>\n",
       "      <td>0.743</td>\n",
       "      <td>15.971</td>\n",
       "    </tr>\n",
       "    <tr>\n",
       "      <th>355</th>\n",
       "      <td>(Mask Off, goosebumps)</td>\n",
       "      <td>(HUMBLE.,)</td>\n",
       "      <td>0.743</td>\n",
       "      <td>15.984</td>\n",
       "    </tr>\n",
       "  </tbody>\n",
       "</table>\n",
       "</div>"
      ],
      "text/plain": [
       "                                       antecedent  \\\n",
       "439                              (Mask Off, DNA.)   \n",
       "398                         (DNA., XO TOUR Llif3)   \n",
       "314                                       (DNA.,)   \n",
       "337                     (Mask Off, XO TOUR Llif3)   \n",
       "350    (Bounce Back, Broccoli (feat. Lil Yachty))   \n",
       "368  (XO TOUR Llif3, Slippery (feat. Gucci Mane))   \n",
       "373                (Tunnel Vision, XO TOUR Llif3)   \n",
       "433                   (Congratulations, Mask Off)   \n",
       "403                       (Bounce Back, Mask Off)   \n",
       "355                        (Mask Off, goosebumps)   \n",
       "\n",
       "                                 consequent  confidence    lift  \n",
       "439                              (HUMBLE.,)       0.909  19.550  \n",
       "398                              (HUMBLE.,)       0.864  18.589  \n",
       "314                              (HUMBLE.,)       0.823  17.688  \n",
       "337                              (HUMBLE.,)       0.804  17.283  \n",
       "350  (Bad and Boujee (feat. Lil Uzi Vert),)       0.775  22.469  \n",
       "368                              (HUMBLE.,)       0.765  16.455  \n",
       "373                              (HUMBLE.,)       0.750  16.129  \n",
       "433                              (HUMBLE.,)       0.747  16.063  \n",
       "403                              (HUMBLE.,)       0.743  15.971  \n",
       "355                              (HUMBLE.,)       0.743  15.984  "
      ]
     },
     "execution_count": 9,
     "metadata": {},
     "output_type": "execute_result"
    }
   ],
   "source": [
    "apriori.get_n_top_rules(10, \"confidence\")"
   ]
  },
  {
   "cell_type": "markdown",
   "metadata": {},
   "source": [
    "También pueden obtenerse las 10 reglas con mayor *lift*:"
   ]
  },
  {
   "cell_type": "code",
   "execution_count": 10,
   "metadata": {
    "ExecuteTime": {
     "end_time": "2018-09-22T17:39:33.389323Z",
     "start_time": "2018-09-22T17:39:33.341970Z"
    }
   },
   "outputs": [
    {
     "name": "stdout",
     "output_type": "stream",
     "text": [
      "Generating file with top 10 rules sorted by lift.\n"
     ]
    },
    {
     "data": {
      "text/html": [
       "<div>\n",
       "<style scoped>\n",
       "    .dataframe tbody tr th:only-of-type {\n",
       "        vertical-align: middle;\n",
       "    }\n",
       "\n",
       "    .dataframe tbody tr th {\n",
       "        vertical-align: top;\n",
       "    }\n",
       "\n",
       "    .dataframe thead th {\n",
       "        text-align: right;\n",
       "    }\n",
       "</style>\n",
       "<table border=\"1\" class=\"dataframe\">\n",
       "  <thead>\n",
       "    <tr style=\"text-align: right;\">\n",
       "      <th></th>\n",
       "      <th>antecedent</th>\n",
       "      <th>consequent</th>\n",
       "      <th>confidence</th>\n",
       "      <th>lift</th>\n",
       "    </tr>\n",
       "  </thead>\n",
       "  <tbody>\n",
       "    <tr>\n",
       "      <th>270</th>\n",
       "      <td>(X (feat. Future),)</td>\n",
       "      <td>(No Heart,)</td>\n",
       "      <td>0.505</td>\n",
       "      <td>34.115</td>\n",
       "    </tr>\n",
       "    <tr>\n",
       "      <th>271</th>\n",
       "      <td>(No Heart,)</td>\n",
       "      <td>(X (feat. Future),)</td>\n",
       "      <td>0.696</td>\n",
       "      <td>34.115</td>\n",
       "    </tr>\n",
       "    <tr>\n",
       "      <th>313</th>\n",
       "      <td>(Chicken Fried,)</td>\n",
       "      <td>(Knee Deep (feat. Jimmy Buffett),)</td>\n",
       "      <td>0.500</td>\n",
       "      <td>31.847</td>\n",
       "    </tr>\n",
       "    <tr>\n",
       "      <th>312</th>\n",
       "      <td>(Knee Deep (feat. Jimmy Buffett),)</td>\n",
       "      <td>(Chicken Fried,)</td>\n",
       "      <td>0.682</td>\n",
       "      <td>31.847</td>\n",
       "    </tr>\n",
       "    <tr>\n",
       "      <th>254</th>\n",
       "      <td>(You Was Right,)</td>\n",
       "      <td>(Money Longer,)</td>\n",
       "      <td>0.603</td>\n",
       "      <td>31.087</td>\n",
       "    </tr>\n",
       "    <tr>\n",
       "      <th>255</th>\n",
       "      <td>(Money Longer,)</td>\n",
       "      <td>(You Was Right,)</td>\n",
       "      <td>0.603</td>\n",
       "      <td>31.087</td>\n",
       "    </tr>\n",
       "    <tr>\n",
       "      <th>35</th>\n",
       "      <td>(Bank Account,)</td>\n",
       "      <td>(Butterfly Effect,)</td>\n",
       "      <td>0.483</td>\n",
       "      <td>24.877</td>\n",
       "    </tr>\n",
       "    <tr>\n",
       "      <th>34</th>\n",
       "      <td>(Butterfly Effect,)</td>\n",
       "      <td>(Bank Account,)</td>\n",
       "      <td>0.572</td>\n",
       "      <td>24.877</td>\n",
       "    </tr>\n",
       "    <tr>\n",
       "      <th>95</th>\n",
       "      <td>(Bank Account,)</td>\n",
       "      <td>(Magnolia,)</td>\n",
       "      <td>0.491</td>\n",
       "      <td>24.813</td>\n",
       "    </tr>\n",
       "    <tr>\n",
       "      <th>94</th>\n",
       "      <td>(Magnolia,)</td>\n",
       "      <td>(Bank Account,)</td>\n",
       "      <td>0.571</td>\n",
       "      <td>24.813</td>\n",
       "    </tr>\n",
       "  </tbody>\n",
       "</table>\n",
       "</div>"
      ],
      "text/plain": [
       "                             antecedent                          consequent  \\\n",
       "270                 (X (feat. Future),)                         (No Heart,)   \n",
       "271                         (No Heart,)                 (X (feat. Future),)   \n",
       "313                    (Chicken Fried,)  (Knee Deep (feat. Jimmy Buffett),)   \n",
       "312  (Knee Deep (feat. Jimmy Buffett),)                    (Chicken Fried,)   \n",
       "254                    (You Was Right,)                     (Money Longer,)   \n",
       "255                     (Money Longer,)                    (You Was Right,)   \n",
       "35                      (Bank Account,)                 (Butterfly Effect,)   \n",
       "34                  (Butterfly Effect,)                     (Bank Account,)   \n",
       "95                      (Bank Account,)                         (Magnolia,)   \n",
       "94                          (Magnolia,)                     (Bank Account,)   \n",
       "\n",
       "     confidence    lift  \n",
       "270       0.505  34.115  \n",
       "271       0.696  34.115  \n",
       "313       0.500  31.847  \n",
       "312       0.682  31.847  \n",
       "254       0.603  31.087  \n",
       "255       0.603  31.087  \n",
       "35        0.483  24.877  \n",
       "34        0.572  24.877  \n",
       "95        0.491  24.813  \n",
       "94        0.571  24.813  "
      ]
     },
     "execution_count": 10,
     "metadata": {},
     "output_type": "execute_result"
    }
   ],
   "source": [
    "apriori.get_n_top_rules(10, \"lift\")"
   ]
  },
  {
   "cell_type": "markdown",
   "metadata": {},
   "source": [
    "Finalmente, se filtran las reglas para que se guarden en un archivo solo las que superan los umbrales de *confidence* y de *lift* de manera simultánea."
   ]
  },
  {
   "cell_type": "code",
   "execution_count": 11,
   "metadata": {
    "ExecuteTime": {
     "end_time": "2018-09-22T17:39:33.457772Z",
     "start_time": "2018-09-22T17:39:33.393408Z"
    }
   },
   "outputs": [
    {
     "name": "stdout",
     "output_type": "stream",
     "text": [
      "Generating file with filtered rules. These are the first 10 rules.\n"
     ]
    },
    {
     "data": {
      "text/html": [
       "<div>\n",
       "<style scoped>\n",
       "    .dataframe tbody tr th:only-of-type {\n",
       "        vertical-align: middle;\n",
       "    }\n",
       "\n",
       "    .dataframe tbody tr th {\n",
       "        vertical-align: top;\n",
       "    }\n",
       "\n",
       "    .dataframe thead th {\n",
       "        text-align: right;\n",
       "    }\n",
       "</style>\n",
       "<table border=\"1\" class=\"dataframe\">\n",
       "  <thead>\n",
       "    <tr style=\"text-align: right;\">\n",
       "      <th></th>\n",
       "      <th>antecedent</th>\n",
       "      <th>consequent</th>\n",
       "      <th>confidence</th>\n",
       "      <th>lift</th>\n",
       "    </tr>\n",
       "  </thead>\n",
       "  <tbody>\n",
       "    <tr>\n",
       "      <th>4</th>\n",
       "      <td>(Magnolia,)</td>\n",
       "      <td>(XO TOUR Llif3,)</td>\n",
       "      <td>0.591</td>\n",
       "      <td>18.294</td>\n",
       "    </tr>\n",
       "    <tr>\n",
       "      <th>9</th>\n",
       "      <td>(Controlla,)</td>\n",
       "      <td>(One Dance,)</td>\n",
       "      <td>0.602</td>\n",
       "      <td>14.646</td>\n",
       "    </tr>\n",
       "    <tr>\n",
       "      <th>15</th>\n",
       "      <td>(goosebumps,)</td>\n",
       "      <td>(Congratulations,)</td>\n",
       "      <td>0.503</td>\n",
       "      <td>12.488</td>\n",
       "    </tr>\n",
       "    <tr>\n",
       "      <th>17</th>\n",
       "      <td>(Money Longer,)</td>\n",
       "      <td>(Bad and Boujee (feat. Lil Uzi Vert),)</td>\n",
       "      <td>0.557</td>\n",
       "      <td>16.136</td>\n",
       "    </tr>\n",
       "    <tr>\n",
       "      <th>22</th>\n",
       "      <td>(Mask Off,)</td>\n",
       "      <td>(HUMBLE.,)</td>\n",
       "      <td>0.646</td>\n",
       "      <td>13.883</td>\n",
       "    </tr>\n",
       "    <tr>\n",
       "      <th>28</th>\n",
       "      <td>(Swang,)</td>\n",
       "      <td>(HUMBLE.,)</td>\n",
       "      <td>0.516</td>\n",
       "      <td>11.096</td>\n",
       "    </tr>\n",
       "    <tr>\n",
       "      <th>34</th>\n",
       "      <td>(Butterfly Effect,)</td>\n",
       "      <td>(Bank Account,)</td>\n",
       "      <td>0.572</td>\n",
       "      <td>24.877</td>\n",
       "    </tr>\n",
       "    <tr>\n",
       "      <th>42</th>\n",
       "      <td>(Butterfly Effect,)</td>\n",
       "      <td>(XO TOUR Llif3,)</td>\n",
       "      <td>0.552</td>\n",
       "      <td>17.076</td>\n",
       "    </tr>\n",
       "    <tr>\n",
       "      <th>45</th>\n",
       "      <td>(Swang,)</td>\n",
       "      <td>(Mask Off,)</td>\n",
       "      <td>0.511</td>\n",
       "      <td>16.184</td>\n",
       "    </tr>\n",
       "    <tr>\n",
       "      <th>49</th>\n",
       "      <td>(X (feat. Future),)</td>\n",
       "      <td>(Bad and Boujee (feat. Lil Uzi Vert),)</td>\n",
       "      <td>0.534</td>\n",
       "      <td>15.487</td>\n",
       "    </tr>\n",
       "  </tbody>\n",
       "</table>\n",
       "</div>"
      ],
      "text/plain": [
       "             antecedent                              consequent  confidence  \\\n",
       "4           (Magnolia,)                        (XO TOUR Llif3,)       0.591   \n",
       "9          (Controlla,)                            (One Dance,)       0.602   \n",
       "15        (goosebumps,)                      (Congratulations,)       0.503   \n",
       "17      (Money Longer,)  (Bad and Boujee (feat. Lil Uzi Vert),)       0.557   \n",
       "22          (Mask Off,)                              (HUMBLE.,)       0.646   \n",
       "28             (Swang,)                              (HUMBLE.,)       0.516   \n",
       "34  (Butterfly Effect,)                         (Bank Account,)       0.572   \n",
       "42  (Butterfly Effect,)                        (XO TOUR Llif3,)       0.552   \n",
       "45             (Swang,)                             (Mask Off,)       0.511   \n",
       "49  (X (feat. Future),)  (Bad and Boujee (feat. Lil Uzi Vert),)       0.534   \n",
       "\n",
       "      lift  \n",
       "4   18.294  \n",
       "9   14.646  \n",
       "15  12.488  \n",
       "17  16.136  \n",
       "22  13.883  \n",
       "28  11.096  \n",
       "34  24.877  \n",
       "42  17.076  \n",
       "45  16.184  \n",
       "49  15.487  "
      ]
     },
     "metadata": {},
     "output_type": "display_data"
    }
   ],
   "source": [
    "apriori.filter_rules(\"both\")"
   ]
  },
  {
   "cell_type": "markdown",
   "metadata": {},
   "source": [
    "## Análisis de 4 reglas"
   ]
  },
  {
   "cell_type": "markdown",
   "metadata": {},
   "source": [
    "Las reglas que se analizaron son las 4 que presentan el valor más alto de *lift*. Estas son:"
   ]
  },
  {
   "cell_type": "code",
   "execution_count": 12,
   "metadata": {
    "ExecuteTime": {
     "end_time": "2018-09-22T17:39:33.767419Z",
     "start_time": "2018-09-22T17:39:33.460278Z"
    }
   },
   "outputs": [
    {
     "name": "stdout",
     "output_type": "stream",
     "text": [
      "Generating file with top 10 rules sorted by lift.\n"
     ]
    }
   ],
   "source": [
    "top_4 = apriori.get_n_top_rules(10, \"lift\").head(4)\n",
    "top_4[\"antecedent\"] = list(map(tuple, top_4[\"antecedent\"]))\n",
    "top_4[\"consequent\"] = list(map(tuple, top_4[\"consequent\"]))"
   ]
  },
  {
   "cell_type": "markdown",
   "metadata": {},
   "source": [
    "Se escogieron las reglas con mayor *lift* debido a que esta métrica permite medir cuán común es que el antecendente y el consecuente aparezcan juntos si se asume que ambos son independientes. Así, un alto valor de *lift* permite determinar que la regla encontrada no es mera coincidencia."
   ]
  },
  {
   "cell_type": "code",
   "execution_count": 13,
   "metadata": {
    "ExecuteTime": {
     "end_time": "2018-09-22T17:39:33.821181Z",
     "start_time": "2018-09-22T17:39:33.779800Z"
    }
   },
   "outputs": [
    {
     "data": {
      "text/html": [
       "<div>\n",
       "<style scoped>\n",
       "    .dataframe tbody tr th:only-of-type {\n",
       "        vertical-align: middle;\n",
       "    }\n",
       "\n",
       "    .dataframe tbody tr th {\n",
       "        vertical-align: top;\n",
       "    }\n",
       "\n",
       "    .dataframe thead th {\n",
       "        text-align: right;\n",
       "    }\n",
       "</style>\n",
       "<table border=\"1\" class=\"dataframe\">\n",
       "  <thead>\n",
       "    <tr style=\"text-align: right;\">\n",
       "      <th></th>\n",
       "      <th>antecedent</th>\n",
       "      <th>consequent</th>\n",
       "      <th>confidence</th>\n",
       "      <th>lift</th>\n",
       "    </tr>\n",
       "  </thead>\n",
       "  <tbody>\n",
       "    <tr>\n",
       "      <th>270</th>\n",
       "      <td>(X (feat. Future),)</td>\n",
       "      <td>(No Heart,)</td>\n",
       "      <td>0.505</td>\n",
       "      <td>34.115</td>\n",
       "    </tr>\n",
       "    <tr>\n",
       "      <th>271</th>\n",
       "      <td>(No Heart,)</td>\n",
       "      <td>(X (feat. Future),)</td>\n",
       "      <td>0.696</td>\n",
       "      <td>34.115</td>\n",
       "    </tr>\n",
       "    <tr>\n",
       "      <th>313</th>\n",
       "      <td>(Chicken Fried,)</td>\n",
       "      <td>(Knee Deep (feat. Jimmy Buffett),)</td>\n",
       "      <td>0.500</td>\n",
       "      <td>31.847</td>\n",
       "    </tr>\n",
       "    <tr>\n",
       "      <th>312</th>\n",
       "      <td>(Knee Deep (feat. Jimmy Buffett),)</td>\n",
       "      <td>(Chicken Fried,)</td>\n",
       "      <td>0.682</td>\n",
       "      <td>31.847</td>\n",
       "    </tr>\n",
       "  </tbody>\n",
       "</table>\n",
       "</div>"
      ],
      "text/plain": [
       "                             antecedent                          consequent  \\\n",
       "270                 (X (feat. Future),)                         (No Heart,)   \n",
       "271                         (No Heart,)                 (X (feat. Future),)   \n",
       "313                    (Chicken Fried,)  (Knee Deep (feat. Jimmy Buffett),)   \n",
       "312  (Knee Deep (feat. Jimmy Buffett),)                    (Chicken Fried,)   \n",
       "\n",
       "     confidence    lift  \n",
       "270       0.505  34.115  \n",
       "271       0.696  34.115  \n",
       "313       0.500  31.847  \n",
       "312       0.682  31.847  "
      ]
     },
     "execution_count": 13,
     "metadata": {},
     "output_type": "execute_result"
    }
   ],
   "source": [
    "top_4"
   ]
  },
  {
   "cell_type": "markdown",
   "metadata": {},
   "source": [
    "### Regla 1\n",
    "\n",
    "Al buscar las canciones que componen la regla, se descubrió que ambas son de los mismos: 21 Savage & Metro Boomin, ambos intérpretes de rap. Así que, a simple vista, tiene sentido que se cumpla esta regla de asociación. Además, el alto valor de *lift* indica que ambas canciones aparecen juntas más de lo esperado. El valor de *confidence* de la regla supera ligeramente el umbral definido (0.5), lo que indica que, bajo este criterio, la regla es fidedigna según ese criterio.\n",
    "\n",
    "### Regla 2\n",
    "\n",
    "Aparecen las mismas canciones que en la regla 1, por lo que el análisis es análogo. El valor de *confidence*, sin embargo, es ligeramente mayor, por lo que la regla es más fiable bajo ese criterio.\n",
    "\n",
    "### Regla 3\n",
    "\n",
    "Ambas canciones involucradas son del mismo artista, quien se dedica a la música *country*, por lo que, a simple vista, la regla tiene sentido. Es posible notar que la regla presenta un valor de *lift* menor que el de las anteriores. Sin embargo, sigue siendo mayor que 1, por lo que se concluye que la aparición de la regla no es solo coincidencia. Su valor de *confidence*, por otro lado, es exactamente igual al umbral definido.\n",
    "\n",
    "### Regla 4\n",
    "\n",
    "Las canciones que aparecen en esta regla son las mismas que las de la regla anterior. En este caso, la confianza es mayor, por lo que la regla ofrece mayor *fidelidad* bajo ese criterio.\n",
    "\n"
   ]
  },
  {
   "cell_type": "markdown",
   "metadata": {},
   "source": [
    "## Visualización de las reglas de asociación encontradas\n",
    "\n",
    "A continuación, se presenta un gráfico de dispersión de las reglas. En él, se grafican los valores de *confidence* y *lift*. Se puede identificar cada regla a través de *hover* con el mouse. De esta forma, se mostrará un *tooltip* con el antecedente, consecuente, *confidence* y *lift* de la regla."
   ]
  },
  {
   "cell_type": "code",
   "execution_count": 14,
   "metadata": {
    "ExecuteTime": {
     "end_time": "2018-09-22T17:39:33.967553Z",
     "start_time": "2018-09-22T17:39:33.828745Z"
    }
   },
   "outputs": [
    {
     "data": {
      "application/javascript": [
       "var spec = {\"config\": {\"view\": {\"width\": 400, \"height\": 300}}, \"data\": {\"name\": \"data-99cde64590a35181ee493484b17593e5\"}, \"mark\": {\"type\": \"circle\", \"size\": 60}, \"encoding\": {\"color\": {\"type\": \"quantitative\", \"field\": \"confidence\"}, \"tooltip\": [{\"type\": \"nominal\", \"field\": \"antecedent\"}, {\"type\": \"nominal\", \"field\": \"consequent\"}, {\"type\": \"quantitative\", \"field\": \"confidence\"}, {\"type\": \"quantitative\", \"field\": \"lift\"}], \"x\": {\"type\": \"quantitative\", \"field\": \"confidence\"}, \"y\": {\"type\": \"quantitative\", \"field\": \"lift\"}}, \"selection\": {\"selector001\": {\"type\": \"interval\", \"bind\": \"scales\", \"encodings\": [\"x\", \"y\"]}}, \"$schema\": \"https://vega.github.io/schema/vega-lite/v2.6.0.json\", \"datasets\": {\"data-99cde64590a35181ee493484b17593e5\": [{\"antecedent\": [\"Bad and Boujee (feat. Lil Uzi Vert)\"], \"consequent\": [\"Black Beatles\"], \"confidence\": 0.38, \"lift\": 13.323}, {\"antecedent\": [\"Black Beatles\"], \"consequent\": [\"Bad and Boujee (feat. Lil Uzi Vert)\"], \"confidence\": 0.46, \"lift\": 13.323}, {\"antecedent\": [\"Bounce Back\"], \"consequent\": [\"Black Beatles\"], \"confidence\": 0.384, \"lift\": 13.468}, {\"antecedent\": [\"Black Beatles\"], \"consequent\": [\"Bounce Back\"], \"confidence\": 0.4, \"lift\": 13.468}, {\"antecedent\": [\"Magnolia\"], \"consequent\": [\"XO TOUR Llif3\"], \"confidence\": 0.591, \"lift\": 18.294}, {\"antecedent\": [\"XO TOUR Llif3\"], \"consequent\": [\"Magnolia\"], \"confidence\": 0.362, \"lift\": 18.294}, {\"antecedent\": [\"Bad and Boujee (feat. Lil Uzi Vert)\"], \"consequent\": [\"No Problem (feat. Lil Wayne & 2 Chainz)\"], \"confidence\": 0.351, \"lift\": 10.926}, {\"antecedent\": [\"No Problem (feat. Lil Wayne & 2 Chainz)\"], \"consequent\": [\"Bad and Boujee (feat. Lil Uzi Vert)\"], \"confidence\": 0.377, \"lift\": 10.926}, {\"antecedent\": [\"One Dance\"], \"consequent\": [\"Controlla\"], \"confidence\": 0.302, \"lift\": 14.646}, {\"antecedent\": [\"Controlla\"], \"consequent\": [\"One Dance\"], \"confidence\": 0.602, \"lift\": 14.646}, {\"antecedent\": [\"Bad and Boujee (feat. Lil Uzi Vert)\"], \"consequent\": [\"Broccoli (feat. Lil Yachty)\"], \"confidence\": 0.449, \"lift\": 11.26}, {\"antecedent\": [\"Broccoli (feat. Lil Yachty)\"], \"consequent\": [\"Bad and Boujee (feat. Lil Uzi Vert)\"], \"confidence\": 0.388, \"lift\": 11.26}, {\"antecedent\": [\"Bad and Boujee (feat. Lil Uzi Vert)\"], \"consequent\": [\"goosebumps\"], \"confidence\": 0.386, \"lift\": 12.516}, {\"antecedent\": [\"goosebumps\"], \"consequent\": [\"Bad and Boujee (feat. Lil Uzi Vert)\"], \"confidence\": 0.432, \"lift\": 12.516}, {\"antecedent\": [\"Congratulations\"], \"consequent\": [\"goosebumps\"], \"confidence\": 0.385, \"lift\": 12.488}, {\"antecedent\": [\"goosebumps\"], \"consequent\": [\"Congratulations\"], \"confidence\": 0.503, \"lift\": 12.488}, {\"antecedent\": [\"Bad and Boujee (feat. Lil Uzi Vert)\"], \"consequent\": [\"Money Longer\"], \"confidence\": 0.313, \"lift\": 16.136}, {\"antecedent\": [\"Money Longer\"], \"consequent\": [\"Bad and Boujee (feat. Lil Uzi Vert)\"], \"confidence\": 0.557, \"lift\": 16.136}, {\"antecedent\": [\"Black Beatles\"], \"consequent\": [\"Caroline\"], \"confidence\": 0.449, \"lift\": 11.516}, {\"antecedent\": [\"Caroline\"], \"consequent\": [\"Black Beatles\"], \"confidence\": 0.328, \"lift\": 11.516}, {\"antecedent\": [\"No Problem (feat. Lil Wayne & 2 Chainz)\"], \"consequent\": [\"Broccoli (feat. Lil Yachty)\"], \"confidence\": 0.492, \"lift\": 12.336}, {\"antecedent\": [\"Broccoli (feat. Lil Yachty)\"], \"consequent\": [\"No Problem (feat. Lil Wayne & 2 Chainz)\"], \"confidence\": 0.396, \"lift\": 12.336}, {\"antecedent\": [\"Mask Off\"], \"consequent\": [\"HUMBLE.\"], \"confidence\": 0.646, \"lift\": 13.883}, {\"antecedent\": [\"HUMBLE.\"], \"consequent\": [\"Mask Off\"], \"confidence\": 0.439, \"lift\": 13.883}, {\"antecedent\": [\"No Problem (feat. Lil Wayne & 2 Chainz)\"], \"consequent\": [\"HUMBLE.\"], \"confidence\": 0.371, \"lift\": 7.972}, {\"antecedent\": [\"HUMBLE.\"], \"consequent\": [\"No Problem (feat. Lil Wayne & 2 Chainz)\"], \"confidence\": 0.256, \"lift\": 7.972}, {\"antecedent\": [\"Broccoli (feat. Lil Yachty)\"], \"consequent\": [\"HUMBLE.\"], \"confidence\": 0.326, \"lift\": 7.007}, {\"antecedent\": [\"HUMBLE.\"], \"consequent\": [\"Broccoli (feat. Lil Yachty)\"], \"confidence\": 0.28, \"lift\": 7.007}, {\"antecedent\": [\"Swang\"], \"consequent\": [\"HUMBLE.\"], \"confidence\": 0.516, \"lift\": 11.096}, {\"antecedent\": [\"HUMBLE.\"], \"consequent\": [\"Swang\"], \"confidence\": 0.243, \"lift\": 11.096}, {\"antecedent\": [\"Bad and Boujee (feat. Lil Uzi Vert)\"], \"consequent\": [\"Caroline\"], \"confidence\": 0.443, \"lift\": 11.371}, {\"antecedent\": [\"Caroline\"], \"consequent\": [\"Bad and Boujee (feat. Lil Uzi Vert)\"], \"confidence\": 0.392, \"lift\": 11.371}, {\"antecedent\": [\"Jumpman\"], \"consequent\": [\"Panda\"], \"confidence\": 0.394, \"lift\": 12.825}, {\"antecedent\": [\"Panda\"], \"consequent\": [\"Jumpman\"], \"confidence\": 0.368, \"lift\": 12.825}, {\"antecedent\": [\"Butterfly Effect\"], \"consequent\": [\"Bank Account\"], \"confidence\": 0.572, \"lift\": 24.877}, {\"antecedent\": [\"Bank Account\"], \"consequent\": [\"Butterfly Effect\"], \"confidence\": 0.483, \"lift\": 24.877}, {\"antecedent\": [\"Closer\"], \"consequent\": [\"Paris\"], \"confidence\": 0.141, \"lift\": 5.447}, {\"antecedent\": [\"Paris\"], \"consequent\": [\"Closer\"], \"confidence\": 0.394, \"lift\": 5.447}, {\"antecedent\": [\"Congratulations\"], \"consequent\": [\"Fake Love\"], \"confidence\": 0.263, \"lift\": 8.856}, {\"antecedent\": [\"Fake Love\"], \"consequent\": [\"Congratulations\"], \"confidence\": 0.357, \"lift\": 8.856}, {\"antecedent\": [\"Mask Off\"], \"consequent\": [\"Broccoli (feat. Lil Yachty)\"], \"confidence\": 0.329, \"lift\": 8.248}, {\"antecedent\": [\"Broccoli (feat. Lil Yachty)\"], \"consequent\": [\"Mask Off\"], \"confidence\": 0.261, \"lift\": 8.248}, {\"antecedent\": [\"Butterfly Effect\"], \"consequent\": [\"XO TOUR Llif3\"], \"confidence\": 0.552, \"lift\": 17.076}, {\"antecedent\": [\"XO TOUR Llif3\"], \"consequent\": [\"Butterfly Effect\"], \"confidence\": 0.331, \"lift\": 17.076}, {\"antecedent\": [\"Mask Off\"], \"consequent\": [\"Swang\"], \"confidence\": 0.354, \"lift\": 16.184}, {\"antecedent\": [\"Swang\"], \"consequent\": [\"Mask Off\"], \"confidence\": 0.511, \"lift\": 16.184}, {\"antecedent\": [\"Tunnel Vision\"], \"consequent\": [\"Slippery (feat. Gucci Mane)\"], \"confidence\": 0.445, \"lift\": 18.871}, {\"antecedent\": [\"Slippery (feat. Gucci Mane)\"], \"consequent\": [\"Tunnel Vision\"], \"confidence\": 0.466, \"lift\": 18.871}, {\"antecedent\": [\"Bad and Boujee (feat. Lil Uzi Vert)\"], \"consequent\": [\"X (feat. Future)\"], \"confidence\": 0.316, \"lift\": 15.487}, {\"antecedent\": [\"X (feat. Future)\"], \"consequent\": [\"Bad and Boujee (feat. Lil Uzi Vert)\"], \"confidence\": 0.534, \"lift\": 15.487}, {\"antecedent\": [\"XO TOUR Llif3\"], \"consequent\": [\"goosebumps\"], \"confidence\": 0.471, \"lift\": 15.279}, {\"antecedent\": [\"goosebumps\"], \"consequent\": [\"XO TOUR Llif3\"], \"confidence\": 0.494, \"lift\": 15.279}, {\"antecedent\": [\"Mask Off\"], \"consequent\": [\"goosebumps\"], \"confidence\": 0.468, \"lift\": 15.206}, {\"antecedent\": [\"goosebumps\"], \"consequent\": [\"Mask Off\"], \"confidence\": 0.481, \"lift\": 15.206}, {\"antecedent\": [\"Portland\"], \"consequent\": [\"HUMBLE.\"], \"confidence\": 0.616, \"lift\": 13.253}, {\"antecedent\": [\"HUMBLE.\"], \"consequent\": [\"Portland\"], \"confidence\": 0.228, \"lift\": 13.253}, {\"antecedent\": [\"One Dance\"], \"consequent\": [\"Too Good\"], \"confidence\": 0.321, \"lift\": 15.899}, {\"antecedent\": [\"Too Good\"], \"consequent\": [\"One Dance\"], \"confidence\": 0.653, \"lift\": 15.899}, {\"antecedent\": [\"Black Beatles\"], \"consequent\": [\"No Problem (feat. Lil Wayne & 2 Chainz)\"], \"confidence\": 0.351, \"lift\": 10.931}, {\"antecedent\": [\"No Problem (feat. Lil Wayne & 2 Chainz)\"], \"consequent\": [\"Black Beatles\"], \"confidence\": 0.312, \"lift\": 10.931}, {\"antecedent\": [\"Bad and Boujee (feat. Lil Uzi Vert)\"], \"consequent\": [\"Swang\"], \"confidence\": 0.299, \"lift\": 13.632}, {\"antecedent\": [\"Swang\"], \"consequent\": [\"Bad and Boujee (feat. Lil Uzi Vert)\"], \"confidence\": 0.47, \"lift\": 13.632}, {\"antecedent\": [\"HUMBLE.\"], \"consequent\": [\"I'm the One\"], \"confidence\": 0.299, \"lift\": 9.371}, {\"antecedent\": [\"I'm the One\"], \"consequent\": [\"HUMBLE.\"], \"confidence\": 0.436, \"lift\": 9.371}, {\"antecedent\": [\"Closer\"], \"consequent\": [\"Starving\"], \"confidence\": 0.155, \"lift\": 8.559}, {\"antecedent\": [\"Starving\"], \"consequent\": [\"Closer\"], \"confidence\": 0.619, \"lift\": 8.559}, {\"antecedent\": [\"Unforgettable\"], \"consequent\": [\"HUMBLE.\"], \"confidence\": 0.325, \"lift\": 6.993}, {\"antecedent\": [\"HUMBLE.\"], \"consequent\": [\"Unforgettable\"], \"confidence\": 0.228, \"lift\": 6.993}, {\"antecedent\": [\"Bounce Back\"], \"consequent\": [\"Caroline\"], \"confidence\": 0.468, \"lift\": 12.0}, {\"antecedent\": [\"Caroline\"], \"consequent\": [\"Bounce Back\"], \"confidence\": 0.356, \"lift\": 12.0}, {\"antecedent\": [\"T-Shirt\"], \"consequent\": [\"Bad and Boujee (feat. Lil Uzi Vert)\"], \"confidence\": 0.362, \"lift\": 10.488}, {\"antecedent\": [\"Bad and Boujee (feat. Lil Uzi Vert)\"], \"consequent\": [\"T-Shirt\"], \"confidence\": 0.368, \"lift\": 10.488}, {\"antecedent\": [\"HUMBLE.\"], \"consequent\": [\"Slippery (feat. Gucci Mane)\"], \"confidence\": 0.318, \"lift\": 13.486}, {\"antecedent\": [\"Slippery (feat. Gucci Mane)\"], \"consequent\": [\"HUMBLE.\"], \"confidence\": 0.627, \"lift\": 13.486}, {\"antecedent\": [\"Broccoli (feat. Lil Yachty)\"], \"consequent\": [\"iSpy (feat. Lil Yachty)\"], \"confidence\": 0.293, \"lift\": 8.859}, {\"antecedent\": [\"iSpy (feat. Lil Yachty)\"], \"consequent\": [\"Broccoli (feat. Lil Yachty)\"], \"confidence\": 0.353, \"lift\": 8.859}, {\"antecedent\": [\"Bounce Back\"], \"consequent\": [\"T-Shirt\"], \"confidence\": 0.343, \"lift\": 9.784}, {\"antecedent\": [\"T-Shirt\"], \"consequent\": [\"Bounce Back\"], \"confidence\": 0.291, \"lift\": 9.784}, {\"antecedent\": [\"T-Shirt\"], \"consequent\": [\"XO TOUR Llif3\"], \"confidence\": 0.313, \"lift\": 9.702}, {\"antecedent\": [\"XO TOUR Llif3\"], \"consequent\": [\"T-Shirt\"], \"confidence\": 0.341, \"lift\": 9.702}, {\"antecedent\": [\"Congratulations\"], \"consequent\": [\"Broccoli (feat. Lil Yachty)\"], \"confidence\": 0.285, \"lift\": 7.152}, {\"antecedent\": [\"Broccoli (feat. Lil Yachty)\"], \"consequent\": [\"Congratulations\"], \"confidence\": 0.288, \"lift\": 7.152}, {\"antecedent\": [\"One Dance\"], \"consequent\": [\"Work\"], \"confidence\": 0.251, \"lift\": 9.602}, {\"antecedent\": [\"Work\"], \"consequent\": [\"One Dance\"], \"confidence\": 0.395, \"lift\": 9.602}, {\"antecedent\": [\"goosebumps\"], \"consequent\": [\"Slippery (feat. Gucci Mane)\"], \"confidence\": 0.406, \"lift\": 17.197}, {\"antecedent\": [\"Slippery (feat. Gucci Mane)\"], \"consequent\": [\"goosebumps\"], \"confidence\": 0.53, \"lift\": 17.197}, {\"antecedent\": [\"Closer\"], \"consequent\": [\"Broccoli (feat. Lil Yachty)\"], \"confidence\": 0.148, \"lift\": 3.709}, {\"antecedent\": [\"Broccoli (feat. Lil Yachty)\"], \"consequent\": [\"Closer\"], \"confidence\": 0.268, \"lift\": 3.709}, {\"antecedent\": [\"Congratulations\"], \"consequent\": [\"Mask Off\"], \"confidence\": 0.402, \"lift\": 12.721}, {\"antecedent\": [\"Mask Off\"], \"consequent\": [\"Congratulations\"], \"confidence\": 0.513, \"lift\": 12.721}, {\"antecedent\": [\"HUMBLE.\"], \"consequent\": [\"Drowning (feat. Kodak Black)\"], \"confidence\": 0.252, \"lift\": 13.037}, {\"antecedent\": [\"Drowning (feat. Kodak Black)\"], \"consequent\": [\"HUMBLE.\"], \"confidence\": 0.606, \"lift\": 13.037}, {\"antecedent\": [\"Bad and Boujee (feat. Lil Uzi Vert)\"], \"consequent\": [\"Slippery (feat. Gucci Mane)\"], \"confidence\": 0.351, \"lift\": 14.861}, {\"antecedent\": [\"Slippery (feat. Gucci Mane)\"], \"consequent\": [\"Bad and Boujee (feat. Lil Uzi Vert)\"], \"confidence\": 0.513, \"lift\": 14.861}, {\"antecedent\": [\"Magnolia\"], \"consequent\": [\"Bank Account\"], \"confidence\": 0.571, \"lift\": 24.813}, {\"antecedent\": [\"Bank Account\"], \"consequent\": [\"Magnolia\"], \"confidence\": 0.491, \"lift\": 24.813}, {\"antecedent\": [\"Broccoli (feat. Lil Yachty)\"], \"consequent\": [\"Caroline\"], \"confidence\": 0.431, \"lift\": 11.053}, {\"antecedent\": [\"Caroline\"], \"consequent\": [\"Broccoli (feat. Lil Yachty)\"], \"confidence\": 0.441, \"lift\": 11.053}, {\"antecedent\": [\"Bad and Boujee (feat. Lil Uzi Vert)\"], \"consequent\": [\"XO TOUR Llif3\"], \"confidence\": 0.38, \"lift\": 11.756}, {\"antecedent\": [\"XO TOUR Llif3\"], \"consequent\": [\"Bad and Boujee (feat. Lil Uzi Vert)\"], \"confidence\": 0.406, \"lift\": 11.756}, {\"antecedent\": [\"iSpy (feat. Lil Yachty)\"], \"consequent\": [\"Caroline\"], \"confidence\": 0.405, \"lift\": 10.38}, {\"antecedent\": [\"Caroline\"], \"consequent\": [\"iSpy (feat. Lil Yachty)\"], \"confidence\": 0.344, \"lift\": 10.38}, {\"antecedent\": [\"Passionfruit\"], \"consequent\": [\"HUMBLE.\"], \"confidence\": 0.484, \"lift\": 10.414}, {\"antecedent\": [\"HUMBLE.\"], \"consequent\": [\"Passionfruit\"], \"confidence\": 0.265, \"lift\": 10.414}, {\"antecedent\": [\"Sorry\"], \"consequent\": [\"Love Yourself\"], \"confidence\": 0.368, \"lift\": 16.955}, {\"antecedent\": [\"Love Yourself\"], \"consequent\": [\"Sorry\"], \"confidence\": 0.539, \"lift\": 16.955}, {\"antecedent\": [\"Bad and Boujee (feat. Lil Uzi Vert)\"], \"consequent\": [\"pick up the phone\"], \"confidence\": 0.29, \"lift\": 14.789}, {\"antecedent\": [\"pick up the phone\"], \"consequent\": [\"Bad and Boujee (feat. Lil Uzi Vert)\"], \"confidence\": 0.51, \"lift\": 14.789}, {\"antecedent\": [\"Unforgettable\"], \"consequent\": [\"XO TOUR Llif3\"], \"confidence\": 0.316, \"lift\": 9.782}, {\"antecedent\": [\"XO TOUR Llif3\"], \"consequent\": [\"Unforgettable\"], \"confidence\": 0.319, \"lift\": 9.782}, {\"antecedent\": [\"Closer\"], \"consequent\": [\"One Dance\"], \"confidence\": 0.167, \"lift\": 4.072}, {\"antecedent\": [\"One Dance\"], \"consequent\": [\"Closer\"], \"confidence\": 0.294, \"lift\": 4.072}, {\"antecedent\": [\"Closer\"], \"consequent\": [\"Don't Let Me Down\"], \"confidence\": 0.206, \"lift\": 6.501}, {\"antecedent\": [\"Don't Let Me Down\"], \"consequent\": [\"Closer\"], \"confidence\": 0.47, \"lift\": 6.501}, {\"antecedent\": [\"Sorry\"], \"consequent\": [\"What Do You Mean?\"], \"confidence\": 0.403, \"lift\": 18.635}, {\"antecedent\": [\"What Do You Mean?\"], \"consequent\": [\"Sorry\"], \"confidence\": 0.593, \"lift\": 18.635}, {\"antecedent\": [\"Closer\"], \"consequent\": [\"Gold\"], \"confidence\": 0.163, \"lift\": 4.423}, {\"antecedent\": [\"Gold\"], \"consequent\": [\"Closer\"], \"confidence\": 0.32, \"lift\": 4.423}, {\"antecedent\": [\"No Problem (feat. Lil Wayne & 2 Chainz)\"], \"consequent\": [\"goosebumps\"], \"confidence\": 0.312, \"lift\": 10.114}, {\"antecedent\": [\"goosebumps\"], \"consequent\": [\"No Problem (feat. Lil Wayne & 2 Chainz)\"], \"confidence\": 0.325, \"lift\": 10.114}, {\"antecedent\": [\"goosebumps\"], \"consequent\": [\"iSpy (feat. Lil Yachty)\"], \"confidence\": 0.396, \"lift\": 11.967}, {\"antecedent\": [\"iSpy (feat. Lil Yachty)\"], \"consequent\": [\"goosebumps\"], \"confidence\": 0.369, \"lift\": 11.967}, {\"antecedent\": [\"XO TOUR Llif3\"], \"consequent\": [\"I'm the One\"], \"confidence\": 0.322, \"lift\": 10.093}, {\"antecedent\": [\"I'm the One\"], \"consequent\": [\"XO TOUR Llif3\"], \"confidence\": 0.326, \"lift\": 10.093}, {\"antecedent\": [\"One Dance\"], \"consequent\": [\"Broccoli (feat. Lil Yachty)\"], \"confidence\": 0.294, \"lift\": 7.379}, {\"antecedent\": [\"Broccoli (feat. Lil Yachty)\"], \"consequent\": [\"One Dance\"], \"confidence\": 0.303, \"lift\": 7.379}, {\"antecedent\": [\"Congratulations\"], \"consequent\": [\"Caroline\"], \"confidence\": 0.288, \"lift\": 7.381}, {\"antecedent\": [\"Caroline\"], \"consequent\": [\"Congratulations\"], \"confidence\": 0.297, \"lift\": 7.381}, {\"antecedent\": [\"Bounce Back\"], \"consequent\": [\"Mask Off\"], \"confidence\": 0.458, \"lift\": 14.491}, {\"antecedent\": [\"Mask Off\"], \"consequent\": [\"Bounce Back\"], \"confidence\": 0.43, \"lift\": 14.491}, {\"antecedent\": [\"Bounce Back\"], \"consequent\": [\"goosebumps\"], \"confidence\": 0.428, \"lift\": 13.883}, {\"antecedent\": [\"goosebumps\"], \"consequent\": [\"Bounce Back\"], \"confidence\": 0.412, \"lift\": 13.883}, {\"antecedent\": [\"Congratulations\"], \"consequent\": [\"rockstar\"], \"confidence\": 0.278, \"lift\": 11.979}, {\"antecedent\": [\"rockstar\"], \"consequent\": [\"Congratulations\"], \"confidence\": 0.483, \"lift\": 11.979}, {\"antecedent\": [\"One Dance\"], \"consequent\": [\"Panda\"], \"confidence\": 0.311, \"lift\": 10.144}, {\"antecedent\": [\"Panda\"], \"consequent\": [\"One Dance\"], \"confidence\": 0.417, \"lift\": 10.144}, {\"antecedent\": [\"One Dance\"], \"consequent\": [\"Don't Let Me Down\"], \"confidence\": 0.251, \"lift\": 7.906}, {\"antecedent\": [\"Don't Let Me Down\"], \"consequent\": [\"One Dance\"], \"confidence\": 0.325, \"lift\": 7.906}, {\"antecedent\": [\"Roses\"], \"consequent\": [\"Don't Let Me Down\"], \"confidence\": 0.262, \"lift\": 8.258}, {\"antecedent\": [\"Don't Let Me Down\"], \"consequent\": [\"Roses\"], \"confidence\": 0.35, \"lift\": 8.258}, {\"antecedent\": [\"Congratulations\"], \"consequent\": [\"DNA.\"], \"confidence\": 0.261, \"lift\": 11.279}, {\"antecedent\": [\"DNA.\"], \"consequent\": [\"Congratulations\"], \"confidence\": 0.455, \"lift\": 11.279}, {\"antecedent\": [\"Congratulations\"], \"consequent\": [\"Drowning (feat. Kodak Black)\"], \"confidence\": 0.261, \"lift\": 13.5}, {\"antecedent\": [\"Drowning (feat. Kodak Black)\"], \"consequent\": [\"Congratulations\"], \"confidence\": 0.544, \"lift\": 13.5}, {\"antecedent\": [\"Mask Off\"], \"consequent\": [\"Fake Love\"], \"confidence\": 0.316, \"lift\": 10.655}, {\"antecedent\": [\"Fake Love\"], \"consequent\": [\"Mask Off\"], \"confidence\": 0.337, \"lift\": 10.655}, {\"antecedent\": [\"T-Shirt\"], \"consequent\": [\"HUMBLE.\"], \"confidence\": 0.353, \"lift\": 7.597}, {\"antecedent\": [\"HUMBLE.\"], \"consequent\": [\"T-Shirt\"], \"confidence\": 0.267, \"lift\": 7.597}, {\"antecedent\": [\"Bounce Back\"], \"consequent\": [\"Congratulations\"], \"confidence\": 0.458, \"lift\": 11.363}, {\"antecedent\": [\"Congratulations\"], \"consequent\": [\"Bounce Back\"], \"confidence\": 0.337, \"lift\": 11.363}, {\"antecedent\": [\"Bounce Back\"], \"consequent\": [\"HUMBLE.\"], \"confidence\": 0.525, \"lift\": 11.296}, {\"antecedent\": [\"HUMBLE.\"], \"consequent\": [\"Bounce Back\"], \"confidence\": 0.335, \"lift\": 11.296}, {\"antecedent\": [\"Mask Off\"], \"consequent\": [\"Caroline\"], \"confidence\": 0.32, \"lift\": 8.195}, {\"antecedent\": [\"Caroline\"], \"consequent\": [\"Mask Off\"], \"confidence\": 0.259, \"lift\": 8.195}, {\"antecedent\": [\"XO TOUR Llif3\"], \"consequent\": [\"Swang\"], \"confidence\": 0.35, \"lift\": 15.975}, {\"antecedent\": [\"Swang\"], \"consequent\": [\"XO TOUR Llif3\"], \"confidence\": 0.516, \"lift\": 15.975}, {\"antecedent\": [\"Closer\"], \"consequent\": [\"This Is What You Came For\"], \"confidence\": 0.144, \"lift\": 6.69}, {\"antecedent\": [\"This Is What You Came For\"], \"consequent\": [\"Closer\"], \"confidence\": 0.484, \"lift\": 6.69}, {\"antecedent\": [\"T-Shirt\"], \"consequent\": [\"Tunnel Vision\"], \"confidence\": 0.305, \"lift\": 12.342}, {\"antecedent\": [\"Tunnel Vision\"], \"consequent\": [\"T-Shirt\"], \"confidence\": 0.433, \"lift\": 12.342}, {\"antecedent\": [\"Bounce Back\"], \"consequent\": [\"Broccoli (feat. Lil Yachty)\"], \"confidence\": 0.434, \"lift\": 10.886}, {\"antecedent\": [\"Broccoli (feat. Lil Yachty)\"], \"consequent\": [\"Bounce Back\"], \"confidence\": 0.323, \"lift\": 10.886}, {\"antecedent\": [\"1-800-273-8255\"], \"consequent\": [\"HUMBLE.\"], \"confidence\": 0.405, \"lift\": 8.716}, {\"antecedent\": [\"HUMBLE.\"], \"consequent\": [\"1-800-273-8255\"], \"confidence\": 0.23, \"lift\": 8.716}, {\"antecedent\": [\"rockstar\"], \"consequent\": [\"HUMBLE.\"], \"confidence\": 0.504, \"lift\": 10.845}, {\"antecedent\": [\"HUMBLE.\"], \"consequent\": [\"rockstar\"], \"confidence\": 0.252, \"lift\": 10.845}, {\"antecedent\": [\"Bounce Back\"], \"consequent\": [\"Fake Love\"], \"confidence\": 0.404, \"lift\": 13.604}, {\"antecedent\": [\"Fake Love\"], \"consequent\": [\"Bounce Back\"], \"confidence\": 0.404, \"lift\": 13.604}, {\"antecedent\": [\"Mask Off\"], \"consequent\": [\"XO TOUR Llif3\"], \"confidence\": 0.516, \"lift\": 15.97}, {\"antecedent\": [\"XO TOUR Llif3\"], \"consequent\": [\"Mask Off\"], \"confidence\": 0.505, \"lift\": 15.97}, {\"antecedent\": [\"T-Shirt\"], \"consequent\": [\"Slippery (feat. Gucci Mane)\"], \"confidence\": 0.316, \"lift\": 13.4}, {\"antecedent\": [\"Slippery (feat. Gucci Mane)\"], \"consequent\": [\"T-Shirt\"], \"confidence\": 0.47, \"lift\": 13.4}, {\"antecedent\": [\"Bad and Boujee (feat. Lil Uzi Vert)\"], \"consequent\": [\"iSpy (feat. Lil Yachty)\"], \"confidence\": 0.441, \"lift\": 13.311}, {\"antecedent\": [\"iSpy (feat. Lil Yachty)\"], \"consequent\": [\"Bad and Boujee (feat. Lil Uzi Vert)\"], \"confidence\": 0.459, \"lift\": 13.311}, {\"antecedent\": [\"Congratulations\"], \"consequent\": [\"No Problem (feat. Lil Wayne & 2 Chainz)\"], \"confidence\": 0.248, \"lift\": 7.73}, {\"antecedent\": [\"No Problem (feat. Lil Wayne & 2 Chainz)\"], \"consequent\": [\"Congratulations\"], \"confidence\": 0.312, \"lift\": 7.73}, {\"antecedent\": [\"Bad and Boujee (feat. Lil Uzi Vert)\"], \"consequent\": [\"You Was Right\"], \"confidence\": 0.304, \"lift\": 15.688}, {\"antecedent\": [\"You Was Right\"], \"consequent\": [\"Bad and Boujee (feat. Lil Uzi Vert)\"], \"confidence\": 0.541, \"lift\": 15.688}, {\"antecedent\": [\"Bad and Boujee (feat. Lil Uzi Vert)\"], \"consequent\": [\"Tunnel Vision\"], \"confidence\": 0.31, \"lift\": 12.556}, {\"antecedent\": [\"Tunnel Vision\"], \"consequent\": [\"Bad and Boujee (feat. Lil Uzi Vert)\"], \"confidence\": 0.433, \"lift\": 12.556}, {\"antecedent\": [\"Portland\"], \"consequent\": [\"XO TOUR Llif3\"], \"confidence\": 0.593, \"lift\": 18.36}, {\"antecedent\": [\"XO TOUR Llif3\"], \"consequent\": [\"Portland\"], \"confidence\": 0.316, \"lift\": 18.36}, {\"antecedent\": [\"T-Shirt\"], \"consequent\": [\"Congratulations\"], \"confidence\": 0.328, \"lift\": 8.13}, {\"antecedent\": [\"Congratulations\"], \"consequent\": [\"T-Shirt\"], \"confidence\": 0.285, \"lift\": 8.13}, {\"antecedent\": [\"Chill Bill\"], \"consequent\": [\"Broccoli (feat. Lil Yachty)\"], \"confidence\": 0.531, \"lift\": 13.301}, {\"antecedent\": [\"Broccoli (feat. Lil Yachty)\"], \"consequent\": [\"Chill Bill\"], \"confidence\": 0.303, \"lift\": 13.301}, {\"antecedent\": [\"Black Beatles\"], \"consequent\": [\"Fake Love\"], \"confidence\": 0.351, \"lift\": 11.814}, {\"antecedent\": [\"Fake Love\"], \"consequent\": [\"Black Beatles\"], \"confidence\": 0.337, \"lift\": 11.814}, {\"antecedent\": [\"Bad and Boujee (feat. Lil Uzi Vert)\"], \"consequent\": [\"Congratulations\"], \"confidence\": 0.432, \"lift\": 10.717}, {\"antecedent\": [\"Congratulations\"], \"consequent\": [\"Bad and Boujee (feat. Lil Uzi Vert)\"], \"confidence\": 0.37, \"lift\": 10.717}, {\"antecedent\": [\"goosebumps\"], \"consequent\": [\"Drowning (feat. Kodak Black)\"], \"confidence\": 0.325, \"lift\": 16.823}, {\"antecedent\": [\"Drowning (feat. Kodak Black)\"], \"consequent\": [\"goosebumps\"], \"confidence\": 0.518, \"lift\": 16.823}, {\"antecedent\": [\"Fake Love\"], \"consequent\": [\"No Problem (feat. Lil Wayne & 2 Chainz)\"], \"confidence\": 0.343, \"lift\": 10.699}, {\"antecedent\": [\"No Problem (feat. Lil Wayne & 2 Chainz)\"], \"consequent\": [\"Fake Love\"], \"confidence\": 0.318, \"lift\": 10.699}, {\"antecedent\": [\"Closer\"], \"consequent\": [\"Ride\"], \"confidence\": 0.163, \"lift\": 3.942}, {\"antecedent\": [\"Ride\"], \"consequent\": [\"Closer\"], \"confidence\": 0.285, \"lift\": 3.942}, {\"antecedent\": [\"HUMBLE.\"], \"consequent\": [\"Caroline\"], \"confidence\": 0.28, \"lift\": 7.168}, {\"antecedent\": [\"Caroline\"], \"consequent\": [\"HUMBLE.\"], \"confidence\": 0.333, \"lift\": 7.168}, {\"antecedent\": [\"Slippery (feat. Gucci Mane)\"], \"consequent\": [\"Bank Account\"], \"confidence\": 0.445, \"lift\": 19.344}, {\"antecedent\": [\"Bank Account\"], \"consequent\": [\"Slippery (feat. Gucci Mane)\"], \"confidence\": 0.457, \"lift\": 19.344}, {\"antecedent\": [\"rockstar\"], \"consequent\": [\"Bank Account\"], \"confidence\": 0.448, \"lift\": 19.49}, {\"antecedent\": [\"Bank Account\"], \"consequent\": [\"rockstar\"], \"confidence\": 0.452, \"lift\": 19.49}, {\"antecedent\": [\"Fake Love\"], \"consequent\": [\"Caroline\"], \"confidence\": 0.455, \"lift\": 11.655}, {\"antecedent\": [\"Caroline\"], \"consequent\": [\"Fake Love\"], \"confidence\": 0.346, \"lift\": 11.655}, {\"antecedent\": [\"Cold Water (feat. Justin Bieber & M\\u00d8)\"], \"consequent\": [\"Let Me Love You\"], \"confidence\": 0.491, \"lift\": 12.865}, {\"antecedent\": [\"Let Me Love You\"], \"consequent\": [\"Cold Water (feat. Justin Bieber & M\\u00d8)\"], \"confidence\": 0.301, \"lift\": 12.865}, {\"antecedent\": [\"Broccoli (feat. Lil Yachty)\"], \"consequent\": [\"Panda\"], \"confidence\": 0.331, \"lift\": 10.776}, {\"antecedent\": [\"Panda\"], \"consequent\": [\"Broccoli (feat. Lil Yachty)\"], \"confidence\": 0.43, \"lift\": 10.776}, {\"antecedent\": [\"Fake Love\"], \"consequent\": [\"Broccoli (feat. Lil Yachty)\"], \"confidence\": 0.37, \"lift\": 9.282}, {\"antecedent\": [\"Broccoli (feat. Lil Yachty)\"], \"consequent\": [\"Fake Love\"], \"confidence\": 0.276, \"lift\": 9.282}, {\"antecedent\": [\"goosebumps\"], \"consequent\": [\"Bank Account\"], \"confidence\": 0.325, \"lift\": 14.116}, {\"antecedent\": [\"Bank Account\"], \"consequent\": [\"goosebumps\"], \"confidence\": 0.435, \"lift\": 14.116}, {\"antecedent\": [\"T-Shirt\"], \"consequent\": [\"goosebumps\"], \"confidence\": 0.336, \"lift\": 10.915}, {\"antecedent\": [\"goosebumps\"], \"consequent\": [\"T-Shirt\"], \"confidence\": 0.383, \"lift\": 10.915}, {\"antecedent\": [\"Black Beatles\"], \"consequent\": [\"HUMBLE.\"], \"confidence\": 0.351, \"lift\": 7.546}, {\"antecedent\": [\"HUMBLE.\"], \"consequent\": [\"Black Beatles\"], \"confidence\": 0.215, \"lift\": 7.546}, {\"antecedent\": [\"XO TOUR Llif3\"], \"consequent\": [\"iSpy (feat. Lil Yachty)\"], \"confidence\": 0.365, \"lift\": 11.037}, {\"antecedent\": [\"iSpy (feat. Lil Yachty)\"], \"consequent\": [\"XO TOUR Llif3\"], \"confidence\": 0.356, \"lift\": 11.037}, {\"antecedent\": [\"Swang\"], \"consequent\": [\"iSpy (feat. Lil Yachty)\"], \"confidence\": 0.457, \"lift\": 13.795}, {\"antecedent\": [\"iSpy (feat. Lil Yachty)\"], \"consequent\": [\"Swang\"], \"confidence\": 0.302, \"lift\": 13.795}, {\"antecedent\": [\"Congratulations\"], \"consequent\": [\"Swang\"], \"confidence\": 0.278, \"lift\": 12.69}, {\"antecedent\": [\"Swang\"], \"consequent\": [\"Congratulations\"], \"confidence\": 0.511, \"lift\": 12.69}, {\"antecedent\": [\"Mask Off\"], \"consequent\": [\"iSpy (feat. Lil Yachty)\"], \"confidence\": 0.465, \"lift\": 14.054}, {\"antecedent\": [\"iSpy (feat. Lil Yachty)\"], \"consequent\": [\"Mask Off\"], \"confidence\": 0.444, \"lift\": 14.054}, {\"antecedent\": [\"Tunnel Vision\"], \"consequent\": [\"HUMBLE.\"], \"confidence\": 0.563, \"lift\": 12.102}, {\"antecedent\": [\"HUMBLE.\"], \"consequent\": [\"Tunnel Vision\"], \"confidence\": 0.299, \"lift\": 12.102}, {\"antecedent\": [\"Closer\"], \"consequent\": [\"Shape of You\"], \"confidence\": 0.154, \"lift\": 4.952}, {\"antecedent\": [\"Shape of You\"], \"consequent\": [\"Closer\"], \"confidence\": 0.358, \"lift\": 4.952}, {\"antecedent\": [\"Jumpman\"], \"consequent\": [\"One Dance\"], \"confidence\": 0.348, \"lift\": 8.478}, {\"antecedent\": [\"One Dance\"], \"consequent\": [\"Jumpman\"], \"confidence\": 0.243, \"lift\": 8.478}, {\"antecedent\": [\"Wet Dreamz\"], \"consequent\": [\"No Role Modelz\"], \"confidence\": 0.529, \"lift\": 17.013}, {\"antecedent\": [\"No Role Modelz\"], \"consequent\": [\"Wet Dreamz\"], \"confidence\": 0.322, \"lift\": 17.013}, {\"antecedent\": [\"Closer\"], \"consequent\": [\"Cold Water (feat. Justin Bieber & M\\u00d8)\"], \"confidence\": 0.201, \"lift\": 8.571}, {\"antecedent\": [\"Cold Water (feat. Justin Bieber & M\\u00d8)\"], \"consequent\": [\"Closer\"], \"confidence\": 0.62, \"lift\": 8.571}, {\"antecedent\": [\"Bounce Back\"], \"consequent\": [\"XO TOUR Llif3\"], \"confidence\": 0.394, \"lift\": 12.196}, {\"antecedent\": [\"XO TOUR Llif3\"], \"consequent\": [\"Bounce Back\"], \"confidence\": 0.362, \"lift\": 12.196}, {\"antecedent\": [\"goosebumps\"], \"consequent\": [\"Caroline\"], \"confidence\": 0.344, \"lift\": 8.825}, {\"antecedent\": [\"Caroline\"], \"consequent\": [\"goosebumps\"], \"confidence\": 0.272, \"lift\": 8.825}, {\"antecedent\": [\"Fake Love\"], \"consequent\": [\"goosebumps\"], \"confidence\": 0.34, \"lift\": 11.041}, {\"antecedent\": [\"goosebumps\"], \"consequent\": [\"Fake Love\"], \"confidence\": 0.328, \"lift\": 11.041}, {\"antecedent\": [\"Magnolia\"], \"consequent\": [\"HUMBLE.\"], \"confidence\": 0.545, \"lift\": 11.73}, {\"antecedent\": [\"HUMBLE.\"], \"consequent\": [\"Magnolia\"], \"confidence\": 0.232, \"lift\": 11.73}, {\"antecedent\": [\"Congratulations\"], \"consequent\": [\"Tunnel Vision\"], \"confidence\": 0.298, \"lift\": 12.055}, {\"antecedent\": [\"Tunnel Vision\"], \"consequent\": [\"Congratulations\"], \"confidence\": 0.486, \"lift\": 12.055}, {\"antecedent\": [\"Mask Off\"], \"consequent\": [\"Slippery (feat. Gucci Mane)\"], \"confidence\": 0.399, \"lift\": 16.896}, {\"antecedent\": [\"Slippery (feat. Gucci Mane)\"], \"consequent\": [\"Mask Off\"], \"confidence\": 0.534, \"lift\": 16.896}, {\"antecedent\": [\"Black Beatles\"], \"consequent\": [\"Broccoli (feat. Lil Yachty)\"], \"confidence\": 0.484, \"lift\": 12.136}, {\"antecedent\": [\"Broccoli (feat. Lil Yachty)\"], \"consequent\": [\"Black Beatles\"], \"confidence\": 0.346, \"lift\": 12.136}, {\"antecedent\": [\"Mask Off\"], \"consequent\": [\"DNA.\"], \"confidence\": 0.348, \"lift\": 15.069}, {\"antecedent\": [\"DNA.\"], \"consequent\": [\"Mask Off\"], \"confidence\": 0.476, \"lift\": 15.069}, {\"antecedent\": [\"T-Shirt\"], \"consequent\": [\"Mask Off\"], \"confidence\": 0.333, \"lift\": 10.549}, {\"antecedent\": [\"Mask Off\"], \"consequent\": [\"T-Shirt\"], \"confidence\": 0.37, \"lift\": 10.549}, {\"antecedent\": [\"Closer\"], \"consequent\": [\"Let Me Love You\"], \"confidence\": 0.22, \"lift\": 5.757}, {\"antecedent\": [\"Let Me Love You\"], \"consequent\": [\"Closer\"], \"confidence\": 0.416, \"lift\": 5.757}, {\"antecedent\": [\"You Was Right\"], \"consequent\": [\"Money Longer\"], \"confidence\": 0.603, \"lift\": 31.087}, {\"antecedent\": [\"Money Longer\"], \"consequent\": [\"You Was Right\"], \"confidence\": 0.603, \"lift\": 31.087}, {\"antecedent\": [\"Closer\"], \"consequent\": [\"Roses\"], \"confidence\": 0.192, \"lift\": 4.534}, {\"antecedent\": [\"Roses\"], \"consequent\": [\"Closer\"], \"confidence\": 0.328, \"lift\": 4.534}, {\"antecedent\": [\"Congratulations\"], \"consequent\": [\"Slippery (feat. Gucci Mane)\"], \"confidence\": 0.328, \"lift\": 13.879}, {\"antecedent\": [\"Slippery (feat. Gucci Mane)\"], \"consequent\": [\"Congratulations\"], \"confidence\": 0.559, \"lift\": 13.879}, {\"antecedent\": [\"DNA.\"], \"consequent\": [\"XO TOUR Llif3\"], \"confidence\": 0.511, \"lift\": 15.815}, {\"antecedent\": [\"XO TOUR Llif3\"], \"consequent\": [\"DNA.\"], \"confidence\": 0.365, \"lift\": 15.815}, {\"antecedent\": [\"I'm the One\"], \"consequent\": [\"Despacito - Remix\"], \"confidence\": 0.376, \"lift\": 13.34}, {\"antecedent\": [\"Despacito - Remix\"], \"consequent\": [\"I'm the One\"], \"confidence\": 0.426, \"lift\": 13.34}, {\"antecedent\": [\"Congratulations\"], \"consequent\": [\"Unforgettable\"], \"confidence\": 0.258, \"lift\": 7.916}, {\"antecedent\": [\"Unforgettable\"], \"consequent\": [\"Congratulations\"], \"confidence\": 0.319, \"lift\": 7.916}, {\"antecedent\": [\"XO TOUR Llif3\"], \"consequent\": [\"rockstar\"], \"confidence\": 0.347, \"lift\": 14.946}, {\"antecedent\": [\"rockstar\"], \"consequent\": [\"XO TOUR Llif3\"], \"confidence\": 0.483, \"lift\": 14.946}, {\"antecedent\": [\"Chill Bill\"], \"consequent\": [\"Caroline\"], \"confidence\": 0.504, \"lift\": 12.933}, {\"antecedent\": [\"Caroline\"], \"consequent\": [\"Chill Bill\"], \"confidence\": 0.295, \"lift\": 12.933}, {\"antecedent\": [\"X (feat. Future)\"], \"consequent\": [\"No Heart\"], \"confidence\": 0.505, \"lift\": 34.115}, {\"antecedent\": [\"No Heart\"], \"consequent\": [\"X (feat. Future)\"], \"confidence\": 0.696, \"lift\": 34.115}, {\"antecedent\": [\"HUMBLE.\"], \"consequent\": [\"Bank Account\"], \"confidence\": 0.269, \"lift\": 11.688}, {\"antecedent\": [\"Bank Account\"], \"consequent\": [\"HUMBLE.\"], \"confidence\": 0.543, \"lift\": 11.688}, {\"antecedent\": [\"Congratulations\"], \"consequent\": [\"XO TOUR Llif3\"], \"confidence\": 0.444, \"lift\": 13.751}, {\"antecedent\": [\"XO TOUR Llif3\"], \"consequent\": [\"Congratulations\"], \"confidence\": 0.554, \"lift\": 13.751}, {\"antecedent\": [\"Bad and Boujee (feat. Lil Uzi Vert)\"], \"consequent\": [\"Chill Bill\"], \"confidence\": 0.301, \"lift\": 13.221}, {\"antecedent\": [\"Chill Bill\"], \"consequent\": [\"Bad and Boujee (feat. Lil Uzi Vert)\"], \"confidence\": 0.456, \"lift\": 13.221}, {\"antecedent\": [\"Trap Queen\"], \"consequent\": [\"679 (feat. Remy Boyz)\"], \"confidence\": 0.422, \"lift\": 17.301}, {\"antecedent\": [\"679 (feat. Remy Boyz)\"], \"consequent\": [\"Trap Queen\"], \"confidence\": 0.5, \"lift\": 17.301}, {\"antecedent\": [\"Bounce Back\"], \"consequent\": [\"No Problem (feat. Lil Wayne & 2 Chainz)\"], \"confidence\": 0.364, \"lift\": 11.328}, {\"antecedent\": [\"No Problem (feat. Lil Wayne & 2 Chainz)\"], \"consequent\": [\"Bounce Back\"], \"confidence\": 0.336, \"lift\": 11.328}, {\"antecedent\": [\"goosebumps\"], \"consequent\": [\"Swang\"], \"confidence\": 0.344, \"lift\": 15.715}, {\"antecedent\": [\"Swang\"], \"consequent\": [\"goosebumps\"], \"confidence\": 0.484, \"lift\": 15.715}, {\"antecedent\": [\"XO TOUR Llif3\"], \"consequent\": [\"HUMBLE.\"], \"confidence\": 0.632, \"lift\": 13.582}, {\"antecedent\": [\"HUMBLE.\"], \"consequent\": [\"XO TOUR Llif3\"], \"confidence\": 0.439, \"lift\": 13.582}, {\"antecedent\": [\"Tunnel Vision\"], \"consequent\": [\"iSpy (feat. Lil Yachty)\"], \"confidence\": 0.466, \"lift\": 14.066}, {\"antecedent\": [\"iSpy (feat. Lil Yachty)\"], \"consequent\": [\"Tunnel Vision\"], \"confidence\": 0.347, \"lift\": 14.066}, {\"antecedent\": [\"XO TOUR Llif3\"], \"consequent\": [\"Bank Account\"], \"confidence\": 0.396, \"lift\": 17.23}, {\"antecedent\": [\"Bank Account\"], \"consequent\": [\"XO TOUR Llif3\"], \"confidence\": 0.557, \"lift\": 17.23}, {\"antecedent\": [\"Bad and Boujee (feat. Lil Uzi Vert)\"], \"consequent\": [\"HUMBLE.\"], \"confidence\": 0.484, \"lift\": 10.41}, {\"antecedent\": [\"HUMBLE.\"], \"consequent\": [\"Bad and Boujee (feat. Lil Uzi Vert)\"], \"confidence\": 0.359, \"lift\": 10.41}, {\"antecedent\": [\"XO TOUR Llif3\"], \"consequent\": [\"Drowning (feat. Kodak Black)\"], \"confidence\": 0.384, \"lift\": 19.891}, {\"antecedent\": [\"Drowning (feat. Kodak Black)\"], \"consequent\": [\"XO TOUR Llif3\"], \"confidence\": 0.642, \"lift\": 19.891}, {\"antecedent\": [\"Tunnel Vision\"], \"consequent\": [\"Mask Off\"], \"confidence\": 0.514, \"lift\": 16.271}, {\"antecedent\": [\"Mask Off\"], \"consequent\": [\"Tunnel Vision\"], \"confidence\": 0.402, \"lift\": 16.271}, {\"antecedent\": [\"goosebumps\"], \"consequent\": [\"pick up the phone\"], \"confidence\": 0.334, \"lift\": 17.062}, {\"antecedent\": [\"pick up the phone\"], \"consequent\": [\"goosebumps\"], \"confidence\": 0.526, \"lift\": 17.062}, {\"antecedent\": [\"Congratulations\"], \"consequent\": [\"I'm the One\"], \"confidence\": 0.29, \"lift\": 9.101}, {\"antecedent\": [\"I'm the One\"], \"consequent\": [\"Congratulations\"], \"confidence\": 0.367, \"lift\": 9.101}, {\"antecedent\": [\"Tunnel Vision\"], \"consequent\": [\"XO TOUR Llif3\"], \"confidence\": 0.551, \"lift\": 17.047}, {\"antecedent\": [\"XO TOUR Llif3\"], \"consequent\": [\"Tunnel Vision\"], \"confidence\": 0.421, \"lift\": 17.047}, {\"antecedent\": [\"Bad and Boujee (feat. Lil Uzi Vert)\"], \"consequent\": [\"Mask Off\"], \"confidence\": 0.438, \"lift\": 13.851}, {\"antecedent\": [\"Mask Off\"], \"consequent\": [\"Bad and Boujee (feat. Lil Uzi Vert)\"], \"confidence\": 0.478, \"lift\": 13.851}, {\"antecedent\": [\"Fake Love\"], \"consequent\": [\"iSpy (feat. Lil Yachty)\"], \"confidence\": 0.384, \"lift\": 11.596}, {\"antecedent\": [\"iSpy (feat. Lil Yachty)\"], \"consequent\": [\"Fake Love\"], \"confidence\": 0.344, \"lift\": 11.596}, {\"antecedent\": [\"Congratulations\"], \"consequent\": [\"HUMBLE.\"], \"confidence\": 0.531, \"lift\": 11.42}, {\"antecedent\": [\"HUMBLE.\"], \"consequent\": [\"Congratulations\"], \"confidence\": 0.46, \"lift\": 11.42}, {\"antecedent\": [\"Congratulations\"], \"consequent\": [\"iSpy (feat. Lil Yachty)\"], \"confidence\": 0.402, \"lift\": 12.145}, {\"antecedent\": [\"iSpy (feat. Lil Yachty)\"], \"consequent\": [\"Congratulations\"], \"confidence\": 0.489, \"lift\": 12.145}, {\"antecedent\": [\"goosebumps\"], \"consequent\": [\"rockstar\"], \"confidence\": 0.341, \"lift\": 14.694}, {\"antecedent\": [\"rockstar\"], \"consequent\": [\"goosebumps\"], \"confidence\": 0.453, \"lift\": 14.694}, {\"antecedent\": [\"Knee Deep (feat. Jimmy Buffett)\"], \"consequent\": [\"Chicken Fried\"], \"confidence\": 0.682, \"lift\": 31.847}, {\"antecedent\": [\"Chicken Fried\"], \"consequent\": [\"Knee Deep (feat. Jimmy Buffett)\"], \"confidence\": 0.5, \"lift\": 31.847}, {\"antecedent\": [\"DNA.\"], \"consequent\": [\"HUMBLE.\"], \"confidence\": 0.823, \"lift\": 17.688}, {\"antecedent\": [\"HUMBLE.\"], \"consequent\": [\"DNA.\"], \"confidence\": 0.409, \"lift\": 17.688}, {\"antecedent\": [\"HUMBLE.\"], \"consequent\": [\"iSpy (feat. Lil Yachty)\"], \"confidence\": 0.333, \"lift\": 10.07}, {\"antecedent\": [\"iSpy (feat. Lil Yachty)\"], \"consequent\": [\"HUMBLE.\"], \"confidence\": 0.468, \"lift\": 10.07}, {\"antecedent\": [\"Tunnel Vision\"], \"consequent\": [\"goosebumps\"], \"confidence\": 0.449, \"lift\": 14.591}, {\"antecedent\": [\"goosebumps\"], \"consequent\": [\"Tunnel Vision\"], \"confidence\": 0.36, \"lift\": 14.591}, {\"antecedent\": [\"XO TOUR Llif3\"], \"consequent\": [\"Slippery (feat. Gucci Mane)\"], \"confidence\": 0.409, \"lift\": 17.316}, {\"antecedent\": [\"Slippery (feat. Gucci Mane)\"], \"consequent\": [\"XO TOUR Llif3\"], \"confidence\": 0.559, \"lift\": 17.316}, {\"antecedent\": [\"Bounce Back\"], \"consequent\": [\"iSpy (feat. Lil Yachty)\"], \"confidence\": 0.451, \"lift\": 13.631}, {\"antecedent\": [\"iSpy (feat. Lil Yachty)\"], \"consequent\": [\"Bounce Back\"], \"confidence\": 0.405, \"lift\": 13.631}, {\"antecedent\": [\"goosebumps\"], \"consequent\": [\"HUMBLE.\"], \"confidence\": 0.542, \"lift\": 11.66}, {\"antecedent\": [\"HUMBLE.\"], \"consequent\": [\"goosebumps\"], \"confidence\": 0.359, \"lift\": 11.66}, {\"antecedent\": [\"Bounce Back\"], \"consequent\": [\"Bad and Boujee (feat. Lil Uzi Vert)\"], \"confidence\": 0.569, \"lift\": 16.493}, {\"antecedent\": [\"Bad and Boujee (feat. Lil Uzi Vert)\"], \"consequent\": [\"Bounce Back\"], \"confidence\": 0.49, \"lift\": 16.493}, {\"antecedent\": [\"No Problem (feat. Lil Wayne & 2 Chainz)\"], \"consequent\": [\"Caroline\"], \"confidence\": 0.421, \"lift\": 10.784}, {\"antecedent\": [\"Caroline\"], \"consequent\": [\"No Problem (feat. Lil Wayne & 2 Chainz)\"], \"confidence\": 0.346, \"lift\": 10.784}, {\"antecedent\": [\"Bad and Boujee (feat. Lil Uzi Vert)\"], \"consequent\": [\"Fake Love\"], \"confidence\": 0.4, \"lift\": 13.468}, {\"antecedent\": [\"Fake Love\"], \"consequent\": [\"Bad and Boujee (feat. Lil Uzi Vert)\"], \"confidence\": 0.465, \"lift\": 13.468}, {\"antecedent\": [\"Butterfly Effect\"], \"consequent\": [\"HUMBLE.\"], \"confidence\": 0.521, \"lift\": 11.196}, {\"antecedent\": [\"HUMBLE.\"], \"consequent\": [\"Butterfly Effect\"], \"confidence\": 0.217, \"lift\": 11.196}, {\"antecedent\": [\"Mask Off\"], \"consequent\": [\"XO TOUR Llif3\", \"HUMBLE.\"], \"confidence\": 0.415, \"lift\": 20.321}, {\"antecedent\": [\"XO TOUR Llif3\"], \"consequent\": [\"Mask Off\", \"HUMBLE.\"], \"confidence\": 0.406, \"lift\": 19.881}, {\"antecedent\": [\"HUMBLE.\"], \"consequent\": [\"Mask Off\", \"XO TOUR Llif3\"], \"confidence\": 0.282, \"lift\": 17.283}, {\"antecedent\": [\"Mask Off\", \"XO TOUR Llif3\"], \"consequent\": [\"HUMBLE.\"], \"confidence\": 0.804, \"lift\": 17.283}, {\"antecedent\": [\"Mask Off\", \"HUMBLE.\"], \"consequent\": [\"XO TOUR Llif3\"], \"confidence\": 0.642, \"lift\": 19.881}, {\"antecedent\": [\"XO TOUR Llif3\", \"HUMBLE.\"], \"consequent\": [\"Mask Off\"], \"confidence\": 0.642, \"lift\": 20.321}, {\"antecedent\": [\"Mask Off\"], \"consequent\": [\"HUMBLE.\", \"iSpy (feat. Lil Yachty)\"], \"confidence\": 0.32, \"lift\": 20.621}, {\"antecedent\": [\"HUMBLE.\"], \"consequent\": [\"Mask Off\", \"iSpy (feat. Lil Yachty)\"], \"confidence\": 0.217, \"lift\": 14.776}, {\"antecedent\": [\"iSpy (feat. Lil Yachty)\"], \"consequent\": [\"Mask Off\", \"HUMBLE.\"], \"confidence\": 0.305, \"lift\": 14.958}, {\"antecedent\": [\"Mask Off\", \"HUMBLE.\"], \"consequent\": [\"iSpy (feat. Lil Yachty)\"], \"confidence\": 0.495, \"lift\": 14.958}, {\"antecedent\": [\"Mask Off\", \"iSpy (feat. Lil Yachty)\"], \"consequent\": [\"HUMBLE.\"], \"confidence\": 0.687, \"lift\": 14.776}, {\"antecedent\": [\"HUMBLE.\", \"iSpy (feat. Lil Yachty)\"], \"consequent\": [\"Mask Off\"], \"confidence\": 0.652, \"lift\": 20.621}, {\"antecedent\": [\"Bounce Back\"], \"consequent\": [\"Bad and Boujee (feat. Lil Uzi Vert)\", \"Broccoli (feat. Lil Yachty)\"], \"confidence\": 0.337, \"lift\": 21.723}, {\"antecedent\": [\"Bad and Boujee (feat. Lil Uzi Vert)\"], \"consequent\": [\"Bounce Back\", \"Broccoli (feat. Lil Yachty)\"], \"confidence\": 0.29, \"lift\": 22.469}, {\"antecedent\": [\"Broccoli (feat. Lil Yachty)\"], \"consequent\": [\"Bounce Back\", \"Bad and Boujee (feat. Lil Uzi Vert)\"], \"confidence\": 0.251, \"lift\": 14.83}, {\"antecedent\": [\"Bounce Back\", \"Bad and Boujee (feat. Lil Uzi Vert)\"], \"consequent\": [\"Broccoli (feat. Lil Yachty)\"], \"confidence\": 0.592, \"lift\": 14.83}, {\"antecedent\": [\"Bounce Back\", \"Broccoli (feat. Lil Yachty)\"], \"consequent\": [\"Bad and Boujee (feat. Lil Uzi Vert)\"], \"confidence\": 0.775, \"lift\": 22.469}, {\"antecedent\": [\"Bad and Boujee (feat. Lil Uzi Vert)\", \"Broccoli (feat. Lil Yachty)\"], \"consequent\": [\"Bounce Back\"], \"confidence\": 0.645, \"lift\": 21.723}, {\"antecedent\": [\"Mask Off\"], \"consequent\": [\"goosebumps\", \"HUMBLE.\"], \"confidence\": 0.348, \"lift\": 20.844}, {\"antecedent\": [\"goosebumps\"], \"consequent\": [\"Mask Off\", \"HUMBLE.\"], \"confidence\": 0.357, \"lift\": 17.507}, {\"antecedent\": [\"HUMBLE.\"], \"consequent\": [\"Mask Off\", \"goosebumps\"], \"confidence\": 0.237, \"lift\": 15.984}, {\"antecedent\": [\"Mask Off\", \"goosebumps\"], \"consequent\": [\"HUMBLE.\"], \"confidence\": 0.743, \"lift\": 15.984}, {\"antecedent\": [\"Mask Off\", \"HUMBLE.\"], \"consequent\": [\"goosebumps\"], \"confidence\": 0.539, \"lift\": 17.507}, {\"antecedent\": [\"goosebumps\", \"HUMBLE.\"], \"consequent\": [\"Mask Off\"], \"confidence\": 0.659, \"lift\": 20.844}, {\"antecedent\": [\"Bad and Boujee (feat. Lil Uzi Vert)\"], \"consequent\": [\"Mask Off\", \"HUMBLE.\"], \"confidence\": 0.319, \"lift\": 15.629}, {\"antecedent\": [\"Mask Off\"], \"consequent\": [\"Bad and Boujee (feat. Lil Uzi Vert)\", \"HUMBLE.\"], \"confidence\": 0.348, \"lift\": 20.844}, {\"antecedent\": [\"HUMBLE.\"], \"consequent\": [\"Bad and Boujee (feat. Lil Uzi Vert)\", \"Mask Off\"], \"confidence\": 0.237, \"lift\": 15.666}, {\"antecedent\": [\"Bad and Boujee (feat. Lil Uzi Vert)\", \"Mask Off\"], \"consequent\": [\"HUMBLE.\"], \"confidence\": 0.728, \"lift\": 15.666}, {\"antecedent\": [\"Bad and Boujee (feat. Lil Uzi Vert)\", \"HUMBLE.\"], \"consequent\": [\"Mask Off\"], \"confidence\": 0.659, \"lift\": 20.844}, {\"antecedent\": [\"Mask Off\", \"HUMBLE.\"], \"consequent\": [\"Bad and Boujee (feat. Lil Uzi Vert)\"], \"confidence\": 0.539, \"lift\": 15.629}, {\"antecedent\": [\"XO TOUR Llif3\"], \"consequent\": [\"HUMBLE.\", \"Slippery (feat. Gucci Mane)\"], \"confidence\": 0.313, \"lift\": 21.128}, {\"antecedent\": [\"HUMBLE.\"], \"consequent\": [\"XO TOUR Llif3\", \"Slippery (feat. Gucci Mane)\"], \"confidence\": 0.217, \"lift\": 16.455}, {\"antecedent\": [\"Slippery (feat. Gucci Mane)\"], \"consequent\": [\"XO TOUR Llif3\", \"HUMBLE.\"], \"confidence\": 0.428, \"lift\": 20.979}, {\"antecedent\": [\"XO TOUR Llif3\", \"HUMBLE.\"], \"consequent\": [\"Slippery (feat. Gucci Mane)\"], \"confidence\": 0.495, \"lift\": 20.979}, {\"antecedent\": [\"XO TOUR Llif3\", \"Slippery (feat. Gucci Mane)\"], \"consequent\": [\"HUMBLE.\"], \"confidence\": 0.765, \"lift\": 16.455}, {\"antecedent\": [\"HUMBLE.\", \"Slippery (feat. Gucci Mane)\"], \"consequent\": [\"XO TOUR Llif3\"], \"confidence\": 0.682, \"lift\": 21.128}, {\"antecedent\": [\"Tunnel Vision\"], \"consequent\": [\"XO TOUR Llif3\", \"HUMBLE.\"], \"confidence\": 0.413, \"lift\": 20.243}, {\"antecedent\": [\"XO TOUR Llif3\"], \"consequent\": [\"Tunnel Vision\", \"HUMBLE.\"], \"confidence\": 0.316, \"lift\": 22.719}, {\"antecedent\": [\"HUMBLE.\"], \"consequent\": [\"Tunnel Vision\", \"XO TOUR Llif3\"], \"confidence\": 0.219, \"lift\": 16.129}, {\"antecedent\": [\"Tunnel Vision\", \"XO TOUR Llif3\"], \"consequent\": [\"HUMBLE.\"], \"confidence\": 0.75, \"lift\": 16.129}, {\"antecedent\": [\"Tunnel Vision\", \"HUMBLE.\"], \"consequent\": [\"XO TOUR Llif3\"], \"confidence\": 0.734, \"lift\": 22.719}, {\"antecedent\": [\"XO TOUR Llif3\", \"HUMBLE.\"], \"consequent\": [\"Tunnel Vision\"], \"confidence\": 0.5, \"lift\": 20.243}, {\"antecedent\": [\"goosebumps\"], \"consequent\": [\"XO TOUR Llif3\", \"HUMBLE.\"], \"confidence\": 0.36, \"lift\": 17.666}, {\"antecedent\": [\"XO TOUR Llif3\"], \"consequent\": [\"goosebumps\", \"HUMBLE.\"], \"confidence\": 0.344, \"lift\": 20.578}, {\"antecedent\": [\"HUMBLE.\"], \"consequent\": [\"goosebumps\", \"XO TOUR Llif3\"], \"confidence\": 0.239, \"lift\": 15.705}, {\"antecedent\": [\"goosebumps\", \"XO TOUR Llif3\"], \"consequent\": [\"HUMBLE.\"], \"confidence\": 0.73, \"lift\": 15.705}, {\"antecedent\": [\"goosebumps\", \"HUMBLE.\"], \"consequent\": [\"XO TOUR Llif3\"], \"confidence\": 0.665, \"lift\": 20.578}, {\"antecedent\": [\"XO TOUR Llif3\", \"HUMBLE.\"], \"consequent\": [\"goosebumps\"], \"confidence\": 0.544, \"lift\": 17.666}, {\"antecedent\": [\"Congratulations\"], \"consequent\": [\"HUMBLE.\", \"iSpy (feat. Lil Yachty)\"], \"confidence\": 0.27, \"lift\": 17.45}, {\"antecedent\": [\"HUMBLE.\"], \"consequent\": [\"Congratulations\", \"iSpy (feat. Lil Yachty)\"], \"confidence\": 0.234, \"lift\": 14.47}, {\"antecedent\": [\"iSpy (feat. Lil Yachty)\"], \"consequent\": [\"Congratulations\", \"HUMBLE.\"], \"confidence\": 0.329, \"lift\": 15.388}, {\"antecedent\": [\"Congratulations\", \"HUMBLE.\"], \"consequent\": [\"iSpy (feat. Lil Yachty)\"], \"confidence\": 0.509, \"lift\": 15.388}, {\"antecedent\": [\"Congratulations\", \"iSpy (feat. Lil Yachty)\"], \"consequent\": [\"HUMBLE.\"], \"confidence\": 0.673, \"lift\": 14.47}, {\"antecedent\": [\"HUMBLE.\", \"iSpy (feat. Lil Yachty)\"], \"consequent\": [\"Congratulations\"], \"confidence\": 0.703, \"lift\": 17.45}, {\"antecedent\": [\"Congratulations\"], \"consequent\": [\"goosebumps\", \"HUMBLE.\"], \"confidence\": 0.278, \"lift\": 16.642}, {\"antecedent\": [\"goosebumps\"], \"consequent\": [\"Congratulations\", \"HUMBLE.\"], \"confidence\": 0.364, \"lift\": 16.992}, {\"antecedent\": [\"HUMBLE.\"], \"consequent\": [\"Congratulations\", \"goosebumps\"], \"confidence\": 0.241, \"lift\": 15.539}, {\"antecedent\": [\"Congratulations\", \"goosebumps\"], \"consequent\": [\"HUMBLE.\"], \"confidence\": 0.723, \"lift\": 15.539}, {\"antecedent\": [\"Congratulations\", \"HUMBLE.\"], \"consequent\": [\"goosebumps\"], \"confidence\": 0.523, \"lift\": 16.992}, {\"antecedent\": [\"goosebumps\", \"HUMBLE.\"], \"consequent\": [\"Congratulations\"], \"confidence\": 0.671, \"lift\": 16.642}, {\"antecedent\": [\"DNA.\"], \"consequent\": [\"XO TOUR Llif3\", \"HUMBLE.\"], \"confidence\": 0.442, \"lift\": 21.645}, {\"antecedent\": [\"HUMBLE.\"], \"consequent\": [\"DNA.\", \"XO TOUR Llif3\"], \"confidence\": 0.219, \"lift\": 18.589}, {\"antecedent\": [\"XO TOUR Llif3\"], \"consequent\": [\"DNA.\", \"HUMBLE.\"], \"confidence\": 0.316, \"lift\": 16.62}, {\"antecedent\": [\"DNA.\", \"HUMBLE.\"], \"consequent\": [\"XO TOUR Llif3\"], \"confidence\": 0.537, \"lift\": 16.62}, {\"antecedent\": [\"DNA.\", \"XO TOUR Llif3\"], \"consequent\": [\"HUMBLE.\"], \"confidence\": 0.864, \"lift\": 18.589}, {\"antecedent\": [\"XO TOUR Llif3\", \"HUMBLE.\"], \"consequent\": [\"DNA.\"], \"confidence\": 0.5, \"lift\": 21.645}, {\"antecedent\": [\"Bounce Back\"], \"consequent\": [\"Mask Off\", \"HUMBLE.\"], \"confidence\": 0.34, \"lift\": 16.67}, {\"antecedent\": [\"Mask Off\"], \"consequent\": [\"Bounce Back\", \"HUMBLE.\"], \"confidence\": 0.32, \"lift\": 20.488}, {\"antecedent\": [\"HUMBLE.\"], \"consequent\": [\"Bounce Back\", \"Mask Off\"], \"confidence\": 0.217, \"lift\": 15.971}, {\"antecedent\": [\"Bounce Back\", \"Mask Off\"], \"consequent\": [\"HUMBLE.\"], \"confidence\": 0.743, \"lift\": 15.971}, {\"antecedent\": [\"Bounce Back\", \"HUMBLE.\"], \"consequent\": [\"Mask Off\"], \"confidence\": 0.647, \"lift\": 20.488}, {\"antecedent\": [\"Mask Off\", \"HUMBLE.\"], \"consequent\": [\"Bounce Back\"], \"confidence\": 0.495, \"lift\": 16.67}, {\"antecedent\": [\"Mask Off\"], \"consequent\": [\"XO TOUR Llif3\", \"goosebumps\"], \"confidence\": 0.32, \"lift\": 21.028}, {\"antecedent\": [\"XO TOUR Llif3\"], \"consequent\": [\"Mask Off\", \"goosebumps\"], \"confidence\": 0.313, \"lift\": 21.128}, {\"antecedent\": [\"goosebumps\"], \"consequent\": [\"Mask Off\", \"XO TOUR Llif3\"], \"confidence\": 0.328, \"lift\": 20.118}, {\"antecedent\": [\"Mask Off\", \"XO TOUR Llif3\"], \"consequent\": [\"goosebumps\"], \"confidence\": 0.62, \"lift\": 20.118}, {\"antecedent\": [\"Mask Off\", \"goosebumps\"], \"consequent\": [\"XO TOUR Llif3\"], \"confidence\": 0.682, \"lift\": 21.128}, {\"antecedent\": [\"XO TOUR Llif3\", \"goosebumps\"], \"consequent\": [\"Mask Off\"], \"confidence\": 0.664, \"lift\": 21.028}, {\"antecedent\": [\"Congratulations\"], \"consequent\": [\"XO TOUR Llif3\", \"HUMBLE.\"], \"confidence\": 0.318, \"lift\": 15.57}, {\"antecedent\": [\"XO TOUR Llif3\"], \"consequent\": [\"Congratulations\", \"HUMBLE.\"], \"confidence\": 0.396, \"lift\": 18.518}, {\"antecedent\": [\"HUMBLE.\"], \"consequent\": [\"Congratulations\", \"XO TOUR Llif3\"], \"confidence\": 0.275, \"lift\": 15.378}, {\"antecedent\": [\"Congratulations\", \"XO TOUR Llif3\"], \"consequent\": [\"HUMBLE.\"], \"confidence\": 0.715, \"lift\": 15.378}, {\"antecedent\": [\"Congratulations\", \"HUMBLE.\"], \"consequent\": [\"XO TOUR Llif3\"], \"confidence\": 0.598, \"lift\": 18.518}, {\"antecedent\": [\"XO TOUR Llif3\", \"HUMBLE.\"], \"consequent\": [\"Congratulations\"], \"confidence\": 0.627, \"lift\": 15.57}, {\"antecedent\": [\"Bad and Boujee (feat. Lil Uzi Vert)\"], \"consequent\": [\"Congratulations\", \"HUMBLE.\"], \"confidence\": 0.293, \"lift\": 13.68}, {\"antecedent\": [\"Congratulations\"], \"consequent\": [\"Bad and Boujee (feat. Lil Uzi Vert)\", \"HUMBLE.\"], \"confidence\": 0.251, \"lift\": 15.007}, {\"antecedent\": [\"HUMBLE.\"], \"consequent\": [\"Bad and Boujee (feat. Lil Uzi Vert)\", \"Congratulations\"], \"confidence\": 0.217, \"lift\": 14.577}, {\"antecedent\": [\"Bad and Boujee (feat. Lil Uzi Vert)\", \"Congratulations\"], \"consequent\": [\"HUMBLE.\"], \"confidence\": 0.678, \"lift\": 14.577}, {\"antecedent\": [\"Bad and Boujee (feat. Lil Uzi Vert)\", \"HUMBLE.\"], \"consequent\": [\"Congratulations\"], \"confidence\": 0.605, \"lift\": 15.007}, {\"antecedent\": [\"Congratulations\", \"HUMBLE.\"], \"consequent\": [\"Bad and Boujee (feat. Lil Uzi Vert)\"], \"confidence\": 0.472, \"lift\": 13.68}, {\"antecedent\": [\"Congratulations\"], \"consequent\": [\"XO TOUR Llif3\", \"goosebumps\"], \"confidence\": 0.258, \"lift\": 16.978}, {\"antecedent\": [\"XO TOUR Llif3\"], \"consequent\": [\"Congratulations\", \"goosebumps\"], \"confidence\": 0.322, \"lift\": 20.773}, {\"antecedent\": [\"goosebumps\"], \"consequent\": [\"Congratulations\", \"XO TOUR Llif3\"], \"confidence\": 0.338, \"lift\": 18.864}, {\"antecedent\": [\"Congratulations\", \"XO TOUR Llif3\"], \"consequent\": [\"goosebumps\"], \"confidence\": 0.581, \"lift\": 18.864}, {\"antecedent\": [\"Congratulations\", \"goosebumps\"], \"consequent\": [\"XO TOUR Llif3\"], \"confidence\": 0.671, \"lift\": 20.773}, {\"antecedent\": [\"XO TOUR Llif3\", \"goosebumps\"], \"consequent\": [\"Congratulations\"], \"confidence\": 0.684, \"lift\": 16.978}, {\"antecedent\": [\"Congratulations\"], \"consequent\": [\"Mask Off\", \"HUMBLE.\"], \"confidence\": 0.3, \"lift\": 14.718}, {\"antecedent\": [\"Mask Off\"], \"consequent\": [\"Congratulations\", \"HUMBLE.\"], \"confidence\": 0.383, \"lift\": 17.893}, {\"antecedent\": [\"HUMBLE.\"], \"consequent\": [\"Congratulations\", \"Mask Off\"], \"confidence\": 0.26, \"lift\": 16.063}, {\"antecedent\": [\"Congratulations\", \"Mask Off\"], \"consequent\": [\"HUMBLE.\"], \"confidence\": 0.747, \"lift\": 16.063}, {\"antecedent\": [\"Congratulations\", \"HUMBLE.\"], \"consequent\": [\"Mask Off\"], \"confidence\": 0.565, \"lift\": 17.893}, {\"antecedent\": [\"Mask Off\", \"HUMBLE.\"], \"consequent\": [\"Congratulations\"], \"confidence\": 0.593, \"lift\": 14.718}, {\"antecedent\": [\"Mask Off\"], \"consequent\": [\"DNA.\", \"HUMBLE.\"], \"confidence\": 0.316, \"lift\": 16.656}, {\"antecedent\": [\"DNA.\"], \"consequent\": [\"Mask Off\", \"HUMBLE.\"], \"confidence\": 0.433, \"lift\": 21.221}, {\"antecedent\": [\"HUMBLE.\"], \"consequent\": [\"Mask Off\", \"DNA.\"], \"confidence\": 0.215, \"lift\": 19.55}, {\"antecedent\": [\"Mask Off\", \"DNA.\"], \"consequent\": [\"HUMBLE.\"], \"confidence\": 0.909, \"lift\": 19.55}, {\"antecedent\": [\"Mask Off\", \"HUMBLE.\"], \"consequent\": [\"DNA.\"], \"confidence\": 0.49, \"lift\": 21.221}, {\"antecedent\": [\"DNA.\", \"HUMBLE.\"], \"consequent\": [\"Mask Off\"], \"confidence\": 0.526, \"lift\": 16.656}, {\"antecedent\": [\"Congratulations\"], \"consequent\": [\"Mask Off\", \"XO TOUR Llif3\"], \"confidence\": 0.266, \"lift\": 16.289}, {\"antecedent\": [\"Mask Off\"], \"consequent\": [\"Congratulations\", \"XO TOUR Llif3\"], \"confidence\": 0.339, \"lift\": 18.917}, {\"antecedent\": [\"XO TOUR Llif3\"], \"consequent\": [\"Congratulations\", \"Mask Off\"], \"confidence\": 0.331, \"lift\": 20.449}, {\"antecedent\": [\"Congratulations\", \"Mask Off\"], \"consequent\": [\"XO TOUR Llif3\"], \"confidence\": 0.66, \"lift\": 20.449}, {\"antecedent\": [\"Congratulations\", \"XO TOUR Llif3\"], \"consequent\": [\"Mask Off\"], \"confidence\": 0.598, \"lift\": 18.917}, {\"antecedent\": [\"Mask Off\", \"XO TOUR Llif3\"], \"consequent\": [\"Congratulations\"], \"confidence\": 0.656, \"lift\": 16.289}]}};\n",
       "var opt = {};\n",
       "var type = \"vega-lite\";\n",
       "var id = \"ed5c5842-cc64-4080-b3d3-47806d09a2e1\";\n",
       "\n",
       "var output_area = this;\n",
       "\n",
       "require([\"nbextensions/jupyter-vega/index\"], function(vega) {\n",
       "  var target = document.createElement(\"div\");\n",
       "  target.id = id;\n",
       "  target.className = \"vega-embed\";\n",
       "\n",
       "  var style = document.createElement(\"style\");\n",
       "  style.textContent = [\n",
       "    \".vega-embed .error p {\",\n",
       "    \"  color: firebrick;\",\n",
       "    \"  font-size: 14px;\",\n",
       "    \"}\",\n",
       "  ].join(\"\\\\n\");\n",
       "\n",
       "  // element is a jQuery wrapped DOM element inside the output area\n",
       "  // see http://ipython.readthedocs.io/en/stable/api/generated/\\\n",
       "  // IPython.display.html#IPython.display.Javascript.__init__\n",
       "  element[0].appendChild(target);\n",
       "  element[0].appendChild(style);\n",
       "\n",
       "  vega.render(\"#\" + id, spec, type, opt, output_area);\n",
       "}, function (err) {\n",
       "  if (err.requireType !== \"scripterror\") {\n",
       "    throw(err);\n",
       "  }\n",
       "});\n"
      ],
      "text/plain": [
       "<vega.vegalite.VegaLite at 0x1170b7d68>"
      ]
     },
     "metadata": {
      "jupyter-vega": "#ed5c5842-cc64-4080-b3d3-47806d09a2e1"
     },
     "output_type": "display_data"
    },
    {
     "data": {
      "text/plain": []
     },
     "execution_count": 14,
     "metadata": {},
     "output_type": "execute_result"
    },
    {
     "data": {
      "image/png": "[encoded data removed]"
     },
     "metadata": {
      "jupyter-vega": "#ed5c5842-cc64-4080-b3d3-47806d09a2e1"
     },
     "output_type": "display_data"
    }
   ],
   "source": [
    "alt.Chart(apriori.rules_df).mark_circle(size=60).encode(\n",
    "    x='confidence',\n",
    "    y='lift',\n",
    "    color='confidence',\n",
    "    tooltip=['antecedent', 'consequent', 'confidence', 'lift']).interactive()"
   ]
  },
  {
   "cell_type": "code",
   "execution_count": null,
   "metadata": {},
   "outputs": [],
   "source": []
  }
 ],
 "metadata": {
  "kernelspec": {
   "display_name": "Python 3",
   "language": "python",
   "name": "python3"
  },
  "language_info": {
   "codemirror_mode": {
    "name": "ipython",
    "version": 3
   },
   "file_extension": ".py",
   "mimetype": "text/x-python",
   "name": "python",
   "nbconvert_exporter": "python",
   "pygments_lexer": "ipython3",
   "version": "3.6.4"
  },
  "notify_time": "30",
  "varInspector": {
   "cols": {
    "lenName": 16,
    "lenType": 16,
    "lenVar": 40
   },
   "kernels_config": {
    "python": {
     "delete_cmd_postfix": "",
     "delete_cmd_prefix": "del ",
     "library": "var_list.py",
     "varRefreshCmd": "print(var_dic_list())"
    },
    "r": {
     "delete_cmd_postfix": ") ",
     "delete_cmd_prefix": "rm(",
     "library": "var_list.r",
     "varRefreshCmd": "cat(var_dic_list()) "
    }
   },
   "position": {
    "height": "144px",
    "left": "1069px",
    "right": "20px",
    "top": "120px",
    "width": "350px"
   },
   "types_to_exclude": [
    "module",
    "function",
    "builtin_function_or_method",
    "instance",
    "_Feature"
   ],
   "window_display": false
  }
 },
 "nbformat": 4,
 "nbformat_minor": 2
}
