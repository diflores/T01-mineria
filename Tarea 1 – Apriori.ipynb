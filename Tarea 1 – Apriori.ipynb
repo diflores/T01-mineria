{
 "cells": [
  {
   "cell_type": "markdown",
   "metadata": {},
   "source": [
    "# Implementación del algoritmo Apriori\n",
    "\n",
    "##### Por: Daniela Flores Villanueva\n",
    "\n",
    "En este *notebook* se define una implementación de Apriori para ser probada sobre una base de datos que consiste en 10 mil listas de reproducción. Posteriormente, se emplea el código para minar reglas de asociación que presenten altos valores para ciertas métricas y se analizan separadamente. Finalmente, se entrega una forma de visualizar un conjunto de reglas de asociación según sus métricas asociadas.\n",
    "\n",
    "## Librerías utilizadas\n",
    "\n",
    "- `numpy`: se utilizó para cargar los datos del Spotify RecSys Challenge, que venían en una arreglo serializado de `numpy`.\n",
    "- `collections`: se usó su clase `defaultdict`, para formar los diccionarios con los contadores de soporte de cada *itemset*.\n",
    "- `pandas`: librería empleada para obtener el contador de soporte de las canciones.\n",
    "- `altair`: librería usada para realizar visualizaciones."
   ]
  },
  {
   "cell_type": "code",
   "execution_count": 1,
   "metadata": {
    "ExecuteTime": {
     "end_time": "2018-09-24T22:45:42.289778Z",
     "start_time": "2018-09-24T22:45:41.447477Z"
    }
   },
   "outputs": [
    {
     "data": {
      "text/plain": [
       "RendererRegistry.enable('notebook')"
      ]
     },
     "execution_count": 1,
     "metadata": {},
     "output_type": "execute_result"
    }
   ],
   "source": [
    "import numpy as np\n",
    "import collections\n",
    "import pandas as pd\n",
    "import altair as alt\n",
    "alt.renderers.enable('notebook')"
   ]
  },
  {
   "cell_type": "markdown",
   "metadata": {},
   "source": [
    "Para generar todas las combinaciones largo $r$ que pueden extraerse de un iterable, se define la siguiente función. Esta implementación fue extraída de [este](https://docs.python.org/3/library/itertools.html#itertools.combinations) recurso. "
   ]
  },
  {
   "cell_type": "code",
   "execution_count": 2,
   "metadata": {
    "ExecuteTime": {
     "end_time": "2018-09-24T22:45:42.299080Z",
     "start_time": "2018-09-24T22:45:42.292888Z"
    }
   },
   "outputs": [],
   "source": [
    "def combinations(iterable, r):\n",
    "    pool = tuple(iterable)\n",
    "    n = len(pool)\n",
    "    if r > n:\n",
    "        return\n",
    "    indices = list(range(r))\n",
    "    yield tuple(pool[i] for i in indices)\n",
    "    while True:\n",
    "        for i in reversed(range(r)):\n",
    "            if indices[i] != i + n - r:\n",
    "                break\n",
    "        else:\n",
    "            return\n",
    "        indices[i] += 1\n",
    "        for j in range(i + 1, r):\n",
    "            indices[j] = indices[j - 1] + 1\n",
    "        yield tuple(pool[i] for i in indices)"
   ]
  },
  {
   "cell_type": "markdown",
   "metadata": {},
   "source": [
    "## Clase Apriori\n",
    "\n",
    "La implementación presentada en este *notebook* se basa en la creación de un objeto de clase `Apriori` que, en primer lugar, recibe los siguientes parámetros:\n",
    "\n",
    "- `data`: corresponde a las transacciones, en forma de `numpy.array`.\n",
    "- `min_support`: soporte mínimo para que un `itemset` sea considerado frecuente.\n",
    "- `min_confidence`: confianza mínima para que cierta regla de asociación sea retornada.\n",
    "- `min_lift`: *lift* mínimo para que cierta regla de asociación sea retornada.\n",
    "\n",
    "### Métodos\n",
    "\n",
    "- `prepare_data`: convierte los datos recibidos (`self.data`) en una lista de conjuntos, donde cada conjunto corresponde a una lista de reproducción. De esta forma, se evitan canciones repetidas en las listas. También, se guarda en `self.songs_counter` un contador con la frecuencia de cada canción. Esta información permitirá formar el conjunto L_1.\n",
    "\n",
    "- `get_songs_appearances`: gracias a este método, se guarda un diccionario cuyas llaves son nombres de canciones y los valores el conjunto de índices de las listas de reproducción donde aparece dicha canción. Esto permitirá obtener el contador de soporte de un *itemset* con facilidad.\n",
    "\n",
    "- `generate_L_1`: con esto se obtienen los *itemsets* frecuentes de largo 1, es decir, las canciones que aparecen un porcentaje de veces mayor al mínimo soporte definido.\n",
    "\n",
    "- `generate_new_candidates`: este método permite generar un nuevo conjunto de posibles *itemsets* frecuentes. Esto se hace a partir de la unión de un conjunto de *itemsets* frecuentes consigo mismo. Un *itemset* se \"fusiona\" con otro solo si sus primeros $k - 2$ elementos son iguales.\n",
    "\n",
    "- `calculate_subset_count`: calcula el contador de soporte de un *itemset*. Gracias al diccionario generado con `get_songs_appearances`, es fácil obtener el contador de soporte de un *itemset*: basta con obtener las listas de reproducción en que aparece cada canción del *itemset* y luego intersectar esos conjuntos de *playlists*. El largo de la intersección corresponderá al contador de soporte de *itemset*. Esto no es lo que se indica en el paper donde se introdujo el algoritmo Apriori, donde se escanea la base de datos cada vez que se requiere determinar el soporte de los *itemsets* candidatos contenidos en $C_{k}$. Esta implementación, en cambio, permite saber de forma casi inmediata qué transacciones no pueden ser *supersets* de un candidato (puesto que no tienen al menos un elemento de él). Así, efectivamente se utiliza la propiedad de antimonotonía para obtener los *itemsets* frecuentes. Todo este proceso demora apenas unos segundos, versus los muchos minutos que puede tomar este paso si se realiza tal como se describe en el *paper*.\n",
    "\n",
    "- `prune_itemsets`: retorna el conjunto de *itemsets* que superan el mínimo soporte definido.\n",
    "\n",
    "- `export_frequent_itemsets_to_csv`: permite exportar los *itemsets* frecuentes junto a su contador de soporte y a su soporte a un archivo `csv`.\n",
    "\n",
    "- `fit`: método que genera los *itemsets* frecuentes.\n",
    "\n",
    "- `get_association_rule_from_itemset`: Dado un *itemset* $I$ se forman todas las combinaciones posibles de $X \\rightarrow Y$, donde $X \\subset I$ y $Y = I - X$. Es importante notar que solo se consideran reglas de asociación aquellas en que tanto X como Y tengan largo mayor o igual a 1.\n",
    "\n",
    "- `generate`: se generan todas las reglas de asociación posibles a partir de los *itemsets* frecuentes encontrados. Por defecto, se retornan ordenadas por *confidence*. El usuario puede cambiar esto mediante la modificación del parámetro `order_by`.\n",
    "\n",
    "- `export_rules_to_csv`: se exportan las reglas a `csv`, gracias a un `DataFrame` de `pandas`.\n",
    "\n",
    "- `get_n_top_rules`: permite obtener las $n$ reglas con mayor valor de la métrica determinada por el usuario (*confidence*, por defecto). Esta métrica puede corresponder a *confidence* o a *lift*. El criterio de ordenación se cambia a través de la modificación del parámetro `order_by`.\n",
    "\n",
    "- `filter_rules`: método que permite filtrar las reglas según los umbrales de *confidence* y *lift* definidos al inicializar el objeto. Se puede filtrar por *confidence* y *lift* tanto de forma separada como integrada."
   ]
  },
  {
   "cell_type": "code",
   "execution_count": 3,
   "metadata": {
    "ExecuteTime": {
     "end_time": "2018-09-24T22:45:42.332546Z",
     "start_time": "2018-09-24T22:45:42.303558Z"
    }
   },
   "outputs": [],
   "source": [
    "class Apriori:\n",
    "    def __init__(self, data, min_support=0.01, min_confidence=0.01,\n",
    "                 min_lift=1):\n",
    "        self.data = data\n",
    "        self.min_support = min_support\n",
    "        self.min_confidence = min_confidence\n",
    "        self.min_lift = min_lift\n",
    "\n",
    "    def prepare_data(self):\n",
    "        self.playlists = list(self.data.item().values())\n",
    "        self.playlists = [set(playlist) for playlist in self.playlists]\n",
    "        songs = [item for sublist in self.playlists for item in sublist]\n",
    "        self.songs_counter = pd.Series(data=songs).value_counts().to_dict()\n",
    "\n",
    "    def get_songs_appearances(self):\n",
    "        songs_in_playlists = collections.defaultdict(set)\n",
    "        for index, playlist in enumerate(self.playlists):\n",
    "            for song in playlist:\n",
    "                songs_in_playlists[song].add(index)\n",
    "        self.songs_in_playlists = songs_in_playlists\n",
    "\n",
    "    def generate_L_1(self):\n",
    "        self.L_1_counter = {\n",
    "            song: times\n",
    "            for song, times in self.songs_counter.items()\n",
    "            if times / len(self.playlists) >= self.min_support\n",
    "        }\n",
    "        self.L_1 = [{song} for song in self.L_1_counter.keys()]\n",
    "\n",
    "    def generate_new_candidates(self, current_itemsets, k):\n",
    "        C_k = set()\n",
    "        m = k - 2\n",
    "        for candidate in current_itemsets:\n",
    "            candidate = list(candidate)\n",
    "            for aux_candidate in current_itemsets:\n",
    "                aux_candidate = list(aux_candidate)\n",
    "                can_join = True\n",
    "                for i in range(k - 2):\n",
    "                    if candidate[i] != aux_candidate[i]:\n",
    "                        can_join = False\n",
    "                        break\n",
    "                if not can_join:\n",
    "                    continue\n",
    "                if candidate[k - 2] < aux_candidate[k - 2]:\n",
    "                    c = candidate + [aux_candidate[k - 2]]\n",
    "                    c = frozenset(sorted(c))\n",
    "                    C_k.add(c)\n",
    "        return C_k\n",
    "\n",
    "    def calculate_subset_count(self, subset):\n",
    "        playlists_inter = []\n",
    "        for song in subset:\n",
    "            playlists_inter.append(self.songs_in_playlists[song])\n",
    "        return len(set.intersection(*playlists_inter))\n",
    "\n",
    "    def prune_itemsets(self, C_k):\n",
    "        C_k_counter = {}\n",
    "        playlist_length = len(self.playlists)\n",
    "        for candidate in C_k:\n",
    "            C_k_counter[candidate] = self.calculate_subset_count(candidate)\n",
    "        L_k_counter = {\n",
    "            subset: times\n",
    "            for subset, times in C_k_counter.items()\n",
    "            if times / playlist_length >= self.min_support\n",
    "        }\n",
    "        return L_k_counter\n",
    "\n",
    "    def export_frequent_itemsets_to_csv(self):\n",
    "        self.frequent_itemsets_df = pd.DataFrame([\n",
    "            item for sublist in self.k_frequent_itemsets.values()\n",
    "            for item in sublist\n",
    "        ]).round(3)\n",
    "        self.frequent_itemsets_df.columns = [\"itemset\", \"count_support\"]\n",
    "        self.frequent_itemsets_df[\"support\"] = self.frequent_itemsets_df[\n",
    "            \"count_support\"] / len(self.playlists)\n",
    "        print(\"Generating file with frequent itemsets.\")\n",
    "        self.frequent_itemsets_df.to_csv(\n",
    "            \"frequent_itemsets.csv\", index=\"False\")\n",
    "        return self.frequent_itemsets_df\n",
    "\n",
    "    def fit(self):\n",
    "        self.prepare_data()\n",
    "        self.get_songs_appearances()\n",
    "        self.generate_L_1()\n",
    "        self.k_frequent_itemsets = {}\n",
    "        self.k_frequent_itemsets[1] = sorted(\n",
    "            self.L_1_counter.items(), key=lambda x: x[1], reverse=True)\n",
    "        self.frequent_itemsets_length_gt2 = []\n",
    "        k = 2\n",
    "        current = self.L_1\n",
    "        while len(current) != 0:\n",
    "            C_k = self.generate_new_candidates(current, k)\n",
    "            L_k_counter = self.prune_itemsets(C_k)\n",
    "            L_k = L_k_counter.keys()\n",
    "            self.frequent_itemsets_length_gt2.extend(L_k)\n",
    "            self.k_frequent_itemsets[k] = sorted(\n",
    "                L_k_counter.items(), key=lambda x: x[1], reverse=True)\n",
    "            k += 1\n",
    "            current = L_k\n",
    "        self.export_frequent_itemsets_to_csv()\n",
    "\n",
    "    def get_association_rule_from_itemset(self, itemset):\n",
    "        itemset_count = self.calculate_subset_count(itemset)\n",
    "        itemset_support = itemset_count / len(self.playlists)\n",
    "        for i in range(1, len(itemset) + 1):\n",
    "            for x_set in combinations(itemset, i):\n",
    "                x_set = set(x_set)\n",
    "                y_set = set(itemset) - x_set\n",
    "                x_support = self.calculate_subset_count(x_set) / len(\n",
    "                    self.playlists)\n",
    "                x_y_support = self.calculate_subset_count(\n",
    "                    x_set.union(y_set)) / len(self.playlists)\n",
    "                rule_confidence = x_y_support / x_support\n",
    "                if len(x_set) > 0 and len(y_set) > 0:\n",
    "                    y_support = self.calculate_subset_count(y_set) / len(\n",
    "                        self.playlists)\n",
    "                    rule_lift = x_y_support / (x_support * y_support)\n",
    "                    self.rules.append((x_set, y_set, rule_confidence,\n",
    "                                       x_y_support, rule_lift))\n",
    "\n",
    "    def generate(self):\n",
    "        self.rules = []\n",
    "        for itemset in self.frequent_itemsets_length_gt2:\n",
    "            self.get_association_rule_from_itemset(itemset)\n",
    "        self.export_rules_to_csv()\n",
    "\n",
    "    def export_rules_to_csv(self):\n",
    "        self.rules_df = pd.DataFrame(\n",
    "            data=self.rules,\n",
    "            columns=[\n",
    "                \"antecedent\", \"consequent\", \"confidence\", \"support\", \"lift\"\n",
    "            ]).round(3)\n",
    "        print(\"Generating file with association rules.\")\n",
    "        self.rules_df[\"antecedent\"] = list(\n",
    "            map(tuple, self.rules_df[\"antecedent\"]))\n",
    "        self.rules_df[\"consequent\"] = list(\n",
    "            map(tuple, self.rules_df[\"consequent\"]))\n",
    "        self.rules_df.to_csv(\"association_rules.csv\", index=False)\n",
    "\n",
    "        return self.rules_df\n",
    "\n",
    "    def get_n_top_rules(self, n, order_by=\"confidence\"):\n",
    "        sorted_df = self.rules_df.sort_values(\n",
    "            order_by, ascending=False).head(n)\n",
    "        print(\"Generating file with top {} rules sorted by {}.\".format(\n",
    "            n, order_by))\n",
    "        sorted_df.to_csv(\n",
    "            \"top_{}_rule_by_{}.csv\".format(n, order_by), index=False)\n",
    "        return sorted_df\n",
    "\n",
    "    def filter_rules(self, filter_by=\"both\"):\n",
    "        if filter_by == \"both\":\n",
    "            filtered_rules = self.rules_df[\n",
    "                (self.rules_df[\"confidence\"] >= self.min_confidence)\n",
    "                & (self.rules_df[\"lift\"] >= self.min_lift)]\n",
    "        elif filter_by == \"confidence\":\n",
    "            filtered_rules = self.rules_df[self.rules_df[\"confidence\"] >= self.\n",
    "                                           min_confidence].sort_values(\n",
    "                                               filter_by, ascending=False)\n",
    "        else:\n",
    "            filtered_rules = self.rules_df[\n",
    "                self.rules_df[\"lift\"] >= self.min_lift].sort_values(\n",
    "                    filter_by, ascending=False)\n",
    "        print(\n",
    "            \"Generating file with filtered rules. These are the first 10 rules.\"\n",
    "        )\n",
    "        display(filtered_rules.head(10))\n",
    "        filtered_rules.to_csv(\"filtered_rules.csv\", index=False)"
   ]
  },
  {
   "cell_type": "markdown",
   "metadata": {},
   "source": [
    "## Prueba de la implementación sobre la base de datos entregada\n",
    "\n",
    "En primer lugar, se cargan los datos."
   ]
  },
  {
   "cell_type": "code",
   "execution_count": 4,
   "metadata": {
    "ExecuteTime": {
     "end_time": "2018-09-24T22:45:42.561441Z",
     "start_time": "2018-09-24T22:45:42.337015Z"
    }
   },
   "outputs": [],
   "source": [
    "spotify_data = np.load(\"spotify.npy\")"
   ]
  },
  {
   "cell_type": "markdown",
   "metadata": {},
   "source": [
    "Para definir un mínimo soporte adecuado, conviene estudiar la frecuencia de aparición de las distintas canciones del *data set*."
   ]
  },
  {
   "cell_type": "code",
   "execution_count": 5,
   "metadata": {
    "ExecuteTime": {
     "end_time": "2018-09-24T22:45:43.086242Z",
     "start_time": "2018-09-24T22:45:42.564337Z"
    }
   },
   "outputs": [
    {
     "data": {
      "text/plain": [
       "Closer                         761\n",
       "Home                           489\n",
       "HUMBLE.                        470\n",
       "Roses                          436\n",
       "One Dance                      433\n",
       "Ride                           429\n",
       "Congratulations                410\n",
       "Let Me Love You                403\n",
       "Broccoli (feat. Lil Yachty)    402\n",
       "Caroline                       395\n",
       "dtype: int64"
      ]
     },
     "execution_count": 5,
     "metadata": {},
     "output_type": "execute_result"
    }
   ],
   "source": [
    "playlists = spotify_data.item().values()\n",
    "unique_songs = [item for sublist in playlists for item in sublist]\n",
    "pd.Series(unique_songs).value_counts().sort_values(ascending=False)[0:10]"
   ]
  },
  {
   "cell_type": "markdown",
   "metadata": {},
   "source": [
    "Es posible notar que la canción que más veces aparece, lo hace tan solo 761, lo que equivale al 7%. Por esta razón, el mínimo soporte empleado será 0.01. Así, se define un objeto de clase `Apriori`, al que se le entregan los datos (guardados en la variable `spotify_data`) y los valores de soporte, *confidence* y *lift* que servirán como umbrales."
   ]
  },
  {
   "cell_type": "code",
   "execution_count": 6,
   "metadata": {
    "ExecuteTime": {
     "end_time": "2018-09-24T22:45:43.094563Z",
     "start_time": "2018-09-24T22:45:43.089386Z"
    }
   },
   "outputs": [],
   "source": [
    "apriori = Apriori(\n",
    "    data=spotify_data, min_support=0.01, min_confidence=0.5, min_lift=0.9)"
   ]
  },
  {
   "cell_type": "markdown",
   "metadata": {},
   "source": [
    "Con el método *fit*, se generan los *itemsets* frecuentes, que permitirán obtener las reglas de asociación. Los *itemsets* se guardan en un archivo `.csv`."
   ]
  },
  {
   "cell_type": "code",
   "execution_count": 7,
   "metadata": {
    "ExecuteTime": {
     "end_time": "2018-09-24T22:45:48.887171Z",
     "start_time": "2018-09-24T22:45:43.098631Z"
    }
   },
   "outputs": [
    {
     "name": "stdout",
     "output_type": "stream",
     "text": [
      "Generating file with frequent itemsets.\n"
     ]
    }
   ],
   "source": [
    "apriori.fit()"
   ]
  },
  {
   "cell_type": "markdown",
   "metadata": {},
   "source": [
    "A continuación, se pueden observar los 10 *itemsets* frecuentes con mayor soporte."
   ]
  },
  {
   "cell_type": "code",
   "execution_count": 8,
   "metadata": {
    "ExecuteTime": {
     "end_time": "2018-09-24T22:45:48.919855Z",
     "start_time": "2018-09-24T22:45:48.891000Z"
    }
   },
   "outputs": [
    {
     "data": {
      "text/html": [
       "<div>\n",
       "<style scoped>\n",
       "    .dataframe tbody tr th:only-of-type {\n",
       "        vertical-align: middle;\n",
       "    }\n",
       "\n",
       "    .dataframe tbody tr th {\n",
       "        vertical-align: top;\n",
       "    }\n",
       "\n",
       "    .dataframe thead th {\n",
       "        text-align: right;\n",
       "    }\n",
       "</style>\n",
       "<table border=\"1\" class=\"dataframe\">\n",
       "  <thead>\n",
       "    <tr style=\"text-align: right;\">\n",
       "      <th></th>\n",
       "      <th>itemset</th>\n",
       "      <th>count_support</th>\n",
       "      <th>support</th>\n",
       "    </tr>\n",
       "  </thead>\n",
       "  <tbody>\n",
       "    <tr>\n",
       "      <th>1023</th>\n",
       "      <td>(HUMBLE., Mask Off, DNA.)</td>\n",
       "      <td>100</td>\n",
       "      <td>0.01</td>\n",
       "    </tr>\n",
       "    <tr>\n",
       "      <th>999</th>\n",
       "      <td>(goosebumps, No Problem (feat. Lil Wayne &amp; 2 C...</td>\n",
       "      <td>100</td>\n",
       "      <td>0.01</td>\n",
       "    </tr>\n",
       "    <tr>\n",
       "      <th>998</th>\n",
       "      <td>(Black Beatles, Fake Love)</td>\n",
       "      <td>100</td>\n",
       "      <td>0.01</td>\n",
       "    </tr>\n",
       "    <tr>\n",
       "      <th>997</th>\n",
       "      <td>(Jumpman, One Dance)</td>\n",
       "      <td>100</td>\n",
       "      <td>0.01</td>\n",
       "    </tr>\n",
       "    <tr>\n",
       "      <th>996</th>\n",
       "      <td>(pick up the phone, Bad and Boujee (feat. Lil ...</td>\n",
       "      <td>100</td>\n",
       "      <td>0.01</td>\n",
       "    </tr>\n",
       "  </tbody>\n",
       "</table>\n",
       "</div>"
      ],
      "text/plain": [
       "                                                itemset  count_support  \\\n",
       "1023                          (HUMBLE., Mask Off, DNA.)            100   \n",
       "999   (goosebumps, No Problem (feat. Lil Wayne & 2 C...            100   \n",
       "998                          (Black Beatles, Fake Love)            100   \n",
       "997                                (Jumpman, One Dance)            100   \n",
       "996   (pick up the phone, Bad and Boujee (feat. Lil ...            100   \n",
       "\n",
       "      support  \n",
       "1023     0.01  \n",
       "999      0.01  \n",
       "998      0.01  \n",
       "997      0.01  \n",
       "996      0.01  "
      ]
     },
     "execution_count": 8,
     "metadata": {},
     "output_type": "execute_result"
    }
   ],
   "source": [
    "apriori.frequent_itemsets_df.sort_values(by=\"support\").head()"
   ]
  },
  {
   "cell_type": "markdown",
   "metadata": {},
   "source": [
    "Con los *itemsets* frecuentes ya encontrados, se procede a generar las reglas de asociación. Para no llenar el *notebook* con estas reglas (son 448), se guardan en un archivo `.csv`. Es importante notar que el soporte que aparece en las reglas corresponde al soporte de $X \\cup Y$"
   ]
  },
  {
   "cell_type": "code",
   "execution_count": 9,
   "metadata": {
    "ExecuteTime": {
     "end_time": "2018-09-24T22:45:49.052623Z",
     "start_time": "2018-09-24T22:45:48.924092Z"
    }
   },
   "outputs": [
    {
     "name": "stdout",
     "output_type": "stream",
     "text": [
      "Generating file with association rules.\n"
     ]
    }
   ],
   "source": [
    "apriori.generate()"
   ]
  },
  {
   "cell_type": "markdown",
   "metadata": {
    "ExecuteTime": {
     "end_time": "2018-09-21T15:52:22.682801Z",
     "start_time": "2018-09-21T15:52:22.672716Z"
    }
   },
   "source": [
    "## Filtro de 10 reglas según distintos criterios\n",
    "\n",
    "A continuación, se puede obtener las reglas ordenadas según un criterio definido por el usuario. En la siguiente celda, por ejemplo, se seleccionan las 10 reglas con mayor *confidence*"
   ]
  },
  {
   "cell_type": "code",
   "execution_count": 10,
   "metadata": {
    "ExecuteTime": {
     "end_time": "2018-09-24T22:45:49.114206Z",
     "start_time": "2018-09-24T22:45:49.063861Z"
    }
   },
   "outputs": [
    {
     "name": "stdout",
     "output_type": "stream",
     "text": [
      "Generating file with top 10 rules sorted by confidence.\n"
     ]
    },
    {
     "data": {
      "text/html": [
       "<div>\n",
       "<style scoped>\n",
       "    .dataframe tbody tr th:only-of-type {\n",
       "        vertical-align: middle;\n",
       "    }\n",
       "\n",
       "    .dataframe tbody tr th {\n",
       "        vertical-align: top;\n",
       "    }\n",
       "\n",
       "    .dataframe thead th {\n",
       "        text-align: right;\n",
       "    }\n",
       "</style>\n",
       "<table border=\"1\" class=\"dataframe\">\n",
       "  <thead>\n",
       "    <tr style=\"text-align: right;\">\n",
       "      <th></th>\n",
       "      <th>antecedent</th>\n",
       "      <th>consequent</th>\n",
       "      <th>confidence</th>\n",
       "      <th>support</th>\n",
       "      <th>lift</th>\n",
       "    </tr>\n",
       "  </thead>\n",
       "  <tbody>\n",
       "    <tr>\n",
       "      <th>393</th>\n",
       "      <td>(Mask Off, DNA.)</td>\n",
       "      <td>(HUMBLE.,)</td>\n",
       "      <td>0.909</td>\n",
       "      <td>0.010</td>\n",
       "      <td>19.550</td>\n",
       "    </tr>\n",
       "    <tr>\n",
       "      <th>423</th>\n",
       "      <td>(XO TOUR Llif3, DNA.)</td>\n",
       "      <td>(HUMBLE.,)</td>\n",
       "      <td>0.864</td>\n",
       "      <td>0.010</td>\n",
       "      <td>18.589</td>\n",
       "    </tr>\n",
       "    <tr>\n",
       "      <th>329</th>\n",
       "      <td>(DNA.,)</td>\n",
       "      <td>(HUMBLE.,)</td>\n",
       "      <td>0.823</td>\n",
       "      <td>0.019</td>\n",
       "      <td>17.688</td>\n",
       "    </tr>\n",
       "    <tr>\n",
       "      <th>435</th>\n",
       "      <td>(XO TOUR Llif3, Mask Off)</td>\n",
       "      <td>(HUMBLE.,)</td>\n",
       "      <td>0.804</td>\n",
       "      <td>0.013</td>\n",
       "      <td>17.283</td>\n",
       "    </tr>\n",
       "    <tr>\n",
       "      <th>385</th>\n",
       "      <td>(Bounce Back, Broccoli (feat. Lil Yachty))</td>\n",
       "      <td>(Bad and Boujee (feat. Lil Uzi Vert),)</td>\n",
       "      <td>0.775</td>\n",
       "      <td>0.010</td>\n",
       "      <td>22.469</td>\n",
       "    </tr>\n",
       "    <tr>\n",
       "      <th>369</th>\n",
       "      <td>(XO TOUR Llif3, Slippery (feat. Gucci Mane))</td>\n",
       "      <td>(HUMBLE.,)</td>\n",
       "      <td>0.765</td>\n",
       "      <td>0.010</td>\n",
       "      <td>16.455</td>\n",
       "    </tr>\n",
       "    <tr>\n",
       "      <th>381</th>\n",
       "      <td>(XO TOUR Llif3, Tunnel Vision)</td>\n",
       "      <td>(HUMBLE.,)</td>\n",
       "      <td>0.750</td>\n",
       "      <td>0.010</td>\n",
       "      <td>16.129</td>\n",
       "    </tr>\n",
       "    <tr>\n",
       "      <th>429</th>\n",
       "      <td>(Mask Off, Congratulations)</td>\n",
       "      <td>(HUMBLE.,)</td>\n",
       "      <td>0.747</td>\n",
       "      <td>0.012</td>\n",
       "      <td>16.063</td>\n",
       "    </tr>\n",
       "    <tr>\n",
       "      <th>399</th>\n",
       "      <td>(goosebumps, Mask Off)</td>\n",
       "      <td>(HUMBLE.,)</td>\n",
       "      <td>0.743</td>\n",
       "      <td>0.011</td>\n",
       "      <td>15.984</td>\n",
       "    </tr>\n",
       "    <tr>\n",
       "      <th>375</th>\n",
       "      <td>(Bounce Back, Mask Off)</td>\n",
       "      <td>(HUMBLE.,)</td>\n",
       "      <td>0.743</td>\n",
       "      <td>0.010</td>\n",
       "      <td>15.971</td>\n",
       "    </tr>\n",
       "  </tbody>\n",
       "</table>\n",
       "</div>"
      ],
      "text/plain": [
       "                                       antecedent  \\\n",
       "393                              (Mask Off, DNA.)   \n",
       "423                         (XO TOUR Llif3, DNA.)   \n",
       "329                                       (DNA.,)   \n",
       "435                     (XO TOUR Llif3, Mask Off)   \n",
       "385    (Bounce Back, Broccoli (feat. Lil Yachty))   \n",
       "369  (XO TOUR Llif3, Slippery (feat. Gucci Mane))   \n",
       "381                (XO TOUR Llif3, Tunnel Vision)   \n",
       "429                   (Mask Off, Congratulations)   \n",
       "399                        (goosebumps, Mask Off)   \n",
       "375                       (Bounce Back, Mask Off)   \n",
       "\n",
       "                                 consequent  confidence  support    lift  \n",
       "393                              (HUMBLE.,)       0.909    0.010  19.550  \n",
       "423                              (HUMBLE.,)       0.864    0.010  18.589  \n",
       "329                              (HUMBLE.,)       0.823    0.019  17.688  \n",
       "435                              (HUMBLE.,)       0.804    0.013  17.283  \n",
       "385  (Bad and Boujee (feat. Lil Uzi Vert),)       0.775    0.010  22.469  \n",
       "369                              (HUMBLE.,)       0.765    0.010  16.455  \n",
       "381                              (HUMBLE.,)       0.750    0.010  16.129  \n",
       "429                              (HUMBLE.,)       0.747    0.012  16.063  \n",
       "399                              (HUMBLE.,)       0.743    0.011  15.984  \n",
       "375                              (HUMBLE.,)       0.743    0.010  15.971  "
      ]
     },
     "execution_count": 10,
     "metadata": {},
     "output_type": "execute_result"
    }
   ],
   "source": [
    "apriori.get_n_top_rules(10, \"confidence\")"
   ]
  },
  {
   "cell_type": "markdown",
   "metadata": {},
   "source": [
    "También pueden obtenerse las 10 reglas con mayor *lift*:"
   ]
  },
  {
   "cell_type": "code",
   "execution_count": 11,
   "metadata": {
    "ExecuteTime": {
     "end_time": "2018-09-24T22:45:49.215611Z",
     "start_time": "2018-09-24T22:45:49.117970Z"
    }
   },
   "outputs": [
    {
     "name": "stdout",
     "output_type": "stream",
     "text": [
      "Generating file with top 10 rules sorted by lift.\n"
     ]
    },
    {
     "data": {
      "text/html": [
       "<div>\n",
       "<style scoped>\n",
       "    .dataframe tbody tr th:only-of-type {\n",
       "        vertical-align: middle;\n",
       "    }\n",
       "\n",
       "    .dataframe tbody tr th {\n",
       "        vertical-align: top;\n",
       "    }\n",
       "\n",
       "    .dataframe thead th {\n",
       "        text-align: right;\n",
       "    }\n",
       "</style>\n",
       "<table border=\"1\" class=\"dataframe\">\n",
       "  <thead>\n",
       "    <tr style=\"text-align: right;\">\n",
       "      <th></th>\n",
       "      <th>antecedent</th>\n",
       "      <th>consequent</th>\n",
       "      <th>confidence</th>\n",
       "      <th>support</th>\n",
       "      <th>lift</th>\n",
       "    </tr>\n",
       "  </thead>\n",
       "  <tbody>\n",
       "    <tr>\n",
       "      <th>264</th>\n",
       "      <td>(No Heart,)</td>\n",
       "      <td>(X (feat. Future),)</td>\n",
       "      <td>0.696</td>\n",
       "      <td>0.010</td>\n",
       "      <td>34.115</td>\n",
       "    </tr>\n",
       "    <tr>\n",
       "      <th>265</th>\n",
       "      <td>(X (feat. Future),)</td>\n",
       "      <td>(No Heart,)</td>\n",
       "      <td>0.505</td>\n",
       "      <td>0.010</td>\n",
       "      <td>34.115</td>\n",
       "    </tr>\n",
       "    <tr>\n",
       "      <th>53</th>\n",
       "      <td>(Chicken Fried,)</td>\n",
       "      <td>(Knee Deep (feat. Jimmy Buffett),)</td>\n",
       "      <td>0.500</td>\n",
       "      <td>0.011</td>\n",
       "      <td>31.847</td>\n",
       "    </tr>\n",
       "    <tr>\n",
       "      <th>52</th>\n",
       "      <td>(Knee Deep (feat. Jimmy Buffett),)</td>\n",
       "      <td>(Chicken Fried,)</td>\n",
       "      <td>0.682</td>\n",
       "      <td>0.011</td>\n",
       "      <td>31.847</td>\n",
       "    </tr>\n",
       "    <tr>\n",
       "      <th>114</th>\n",
       "      <td>(Money Longer,)</td>\n",
       "      <td>(You Was Right,)</td>\n",
       "      <td>0.603</td>\n",
       "      <td>0.012</td>\n",
       "      <td>31.087</td>\n",
       "    </tr>\n",
       "    <tr>\n",
       "      <th>115</th>\n",
       "      <td>(You Was Right,)</td>\n",
       "      <td>(Money Longer,)</td>\n",
       "      <td>0.603</td>\n",
       "      <td>0.012</td>\n",
       "      <td>31.087</td>\n",
       "    </tr>\n",
       "    <tr>\n",
       "      <th>105</th>\n",
       "      <td>(Butterfly Effect,)</td>\n",
       "      <td>(Bank Account,)</td>\n",
       "      <td>0.572</td>\n",
       "      <td>0.011</td>\n",
       "      <td>24.877</td>\n",
       "    </tr>\n",
       "    <tr>\n",
       "      <th>104</th>\n",
       "      <td>(Bank Account,)</td>\n",
       "      <td>(Butterfly Effect,)</td>\n",
       "      <td>0.483</td>\n",
       "      <td>0.011</td>\n",
       "      <td>24.877</td>\n",
       "    </tr>\n",
       "    <tr>\n",
       "      <th>31</th>\n",
       "      <td>(Magnolia,)</td>\n",
       "      <td>(Bank Account,)</td>\n",
       "      <td>0.571</td>\n",
       "      <td>0.011</td>\n",
       "      <td>24.813</td>\n",
       "    </tr>\n",
       "    <tr>\n",
       "      <th>30</th>\n",
       "      <td>(Bank Account,)</td>\n",
       "      <td>(Magnolia,)</td>\n",
       "      <td>0.491</td>\n",
       "      <td>0.011</td>\n",
       "      <td>24.813</td>\n",
       "    </tr>\n",
       "  </tbody>\n",
       "</table>\n",
       "</div>"
      ],
      "text/plain": [
       "                             antecedent                          consequent  \\\n",
       "264                         (No Heart,)                 (X (feat. Future),)   \n",
       "265                 (X (feat. Future),)                         (No Heart,)   \n",
       "53                     (Chicken Fried,)  (Knee Deep (feat. Jimmy Buffett),)   \n",
       "52   (Knee Deep (feat. Jimmy Buffett),)                    (Chicken Fried,)   \n",
       "114                     (Money Longer,)                    (You Was Right,)   \n",
       "115                    (You Was Right,)                     (Money Longer,)   \n",
       "105                 (Butterfly Effect,)                     (Bank Account,)   \n",
       "104                     (Bank Account,)                 (Butterfly Effect,)   \n",
       "31                          (Magnolia,)                     (Bank Account,)   \n",
       "30                      (Bank Account,)                         (Magnolia,)   \n",
       "\n",
       "     confidence  support    lift  \n",
       "264       0.696    0.010  34.115  \n",
       "265       0.505    0.010  34.115  \n",
       "53        0.500    0.011  31.847  \n",
       "52        0.682    0.011  31.847  \n",
       "114       0.603    0.012  31.087  \n",
       "115       0.603    0.012  31.087  \n",
       "105       0.572    0.011  24.877  \n",
       "104       0.483    0.011  24.877  \n",
       "31        0.571    0.011  24.813  \n",
       "30        0.491    0.011  24.813  "
      ]
     },
     "execution_count": 11,
     "metadata": {},
     "output_type": "execute_result"
    }
   ],
   "source": [
    "apriori.get_n_top_rules(10, \"lift\")"
   ]
  },
  {
   "cell_type": "markdown",
   "metadata": {},
   "source": [
    "Finalmente, se filtran las reglas para que se guarden en un archivo solo las que superan los umbrales de *confidence* y de *lift* de manera simultánea."
   ]
  },
  {
   "cell_type": "code",
   "execution_count": 12,
   "metadata": {
    "ExecuteTime": {
     "end_time": "2018-09-24T22:45:49.316272Z",
     "start_time": "2018-09-24T22:45:49.219154Z"
    }
   },
   "outputs": [
    {
     "name": "stdout",
     "output_type": "stream",
     "text": [
      "Generating file with filtered rules. These are the first 10 rules.\n"
     ]
    },
    {
     "data": {
      "text/html": [
       "<div>\n",
       "<style scoped>\n",
       "    .dataframe tbody tr th:only-of-type {\n",
       "        vertical-align: middle;\n",
       "    }\n",
       "\n",
       "    .dataframe tbody tr th {\n",
       "        vertical-align: top;\n",
       "    }\n",
       "\n",
       "    .dataframe thead th {\n",
       "        text-align: right;\n",
       "    }\n",
       "</style>\n",
       "<table border=\"1\" class=\"dataframe\">\n",
       "  <thead>\n",
       "    <tr style=\"text-align: right;\">\n",
       "      <th></th>\n",
       "      <th>antecedent</th>\n",
       "      <th>consequent</th>\n",
       "      <th>confidence</th>\n",
       "      <th>support</th>\n",
       "      <th>lift</th>\n",
       "    </tr>\n",
       "  </thead>\n",
       "  <tbody>\n",
       "    <tr>\n",
       "      <th>0</th>\n",
       "      <td>(Slippery (feat. Gucci Mane),)</td>\n",
       "      <td>(Congratulations,)</td>\n",
       "      <td>0.559</td>\n",
       "      <td>0.013</td>\n",
       "      <td>13.879</td>\n",
       "    </tr>\n",
       "    <tr>\n",
       "      <th>13</th>\n",
       "      <td>(Drowning (feat. Kodak Black),)</td>\n",
       "      <td>(Congratulations,)</td>\n",
       "      <td>0.544</td>\n",
       "      <td>0.010</td>\n",
       "      <td>13.500</td>\n",
       "    </tr>\n",
       "    <tr>\n",
       "      <th>17</th>\n",
       "      <td>(Slippery (feat. Gucci Mane),)</td>\n",
       "      <td>(HUMBLE.,)</td>\n",
       "      <td>0.627</td>\n",
       "      <td>0.015</td>\n",
       "      <td>13.486</td>\n",
       "    </tr>\n",
       "    <tr>\n",
       "      <th>20</th>\n",
       "      <td>(Money Longer,)</td>\n",
       "      <td>(Bad and Boujee (feat. Lil Uzi Vert),)</td>\n",
       "      <td>0.557</td>\n",
       "      <td>0.011</td>\n",
       "      <td>16.136</td>\n",
       "    </tr>\n",
       "    <tr>\n",
       "      <th>28</th>\n",
       "      <td>(Swang,)</td>\n",
       "      <td>(Congratulations,)</td>\n",
       "      <td>0.511</td>\n",
       "      <td>0.011</td>\n",
       "      <td>12.690</td>\n",
       "    </tr>\n",
       "    <tr>\n",
       "      <th>31</th>\n",
       "      <td>(Magnolia,)</td>\n",
       "      <td>(Bank Account,)</td>\n",
       "      <td>0.571</td>\n",
       "      <td>0.011</td>\n",
       "      <td>24.813</td>\n",
       "    </tr>\n",
       "    <tr>\n",
       "      <th>41</th>\n",
       "      <td>(goosebumps,)</td>\n",
       "      <td>(HUMBLE.,)</td>\n",
       "      <td>0.542</td>\n",
       "      <td>0.017</td>\n",
       "      <td>11.660</td>\n",
       "    </tr>\n",
       "    <tr>\n",
       "      <th>44</th>\n",
       "      <td>(Slippery (feat. Gucci Mane),)</td>\n",
       "      <td>(Bad and Boujee (feat. Lil Uzi Vert),)</td>\n",
       "      <td>0.513</td>\n",
       "      <td>0.012</td>\n",
       "      <td>14.861</td>\n",
       "    </tr>\n",
       "    <tr>\n",
       "      <th>49</th>\n",
       "      <td>(679 (feat. Remy Boyz),)</td>\n",
       "      <td>(Trap Queen,)</td>\n",
       "      <td>0.500</td>\n",
       "      <td>0.012</td>\n",
       "      <td>17.301</td>\n",
       "    </tr>\n",
       "    <tr>\n",
       "      <th>52</th>\n",
       "      <td>(Knee Deep (feat. Jimmy Buffett),)</td>\n",
       "      <td>(Chicken Fried,)</td>\n",
       "      <td>0.682</td>\n",
       "      <td>0.011</td>\n",
       "      <td>31.847</td>\n",
       "    </tr>\n",
       "  </tbody>\n",
       "</table>\n",
       "</div>"
      ],
      "text/plain": [
       "                            antecedent  \\\n",
       "0       (Slippery (feat. Gucci Mane),)   \n",
       "13     (Drowning (feat. Kodak Black),)   \n",
       "17      (Slippery (feat. Gucci Mane),)   \n",
       "20                     (Money Longer,)   \n",
       "28                            (Swang,)   \n",
       "31                         (Magnolia,)   \n",
       "41                       (goosebumps,)   \n",
       "44      (Slippery (feat. Gucci Mane),)   \n",
       "49            (679 (feat. Remy Boyz),)   \n",
       "52  (Knee Deep (feat. Jimmy Buffett),)   \n",
       "\n",
       "                                consequent  confidence  support    lift  \n",
       "0                       (Congratulations,)       0.559    0.013  13.879  \n",
       "13                      (Congratulations,)       0.544    0.010  13.500  \n",
       "17                              (HUMBLE.,)       0.627    0.015  13.486  \n",
       "20  (Bad and Boujee (feat. Lil Uzi Vert),)       0.557    0.011  16.136  \n",
       "28                      (Congratulations,)       0.511    0.011  12.690  \n",
       "31                         (Bank Account,)       0.571    0.011  24.813  \n",
       "41                              (HUMBLE.,)       0.542    0.017  11.660  \n",
       "44  (Bad and Boujee (feat. Lil Uzi Vert),)       0.513    0.012  14.861  \n",
       "49                           (Trap Queen,)       0.500    0.012  17.301  \n",
       "52                        (Chicken Fried,)       0.682    0.011  31.847  "
      ]
     },
     "metadata": {},
     "output_type": "display_data"
    }
   ],
   "source": [
    "apriori.filter_rules(\"both\")"
   ]
  },
  {
   "cell_type": "markdown",
   "metadata": {},
   "source": [
    "Las métricas escogidas fueron escogidas por ser las más conocidas para evaluar reglas de asociación. Existen otras métricas que podrían haber sido utilizadas, pero que no son tan populares. Una de estas otras métricas corresponde a *leverage*, que entrega la diferencia entre el soporte de la regla y el soporte que se esperaría si $X$ e $Y$ fueran independientes. \n",
    "\n",
    "También puede ser interesante evaluar las reglas según el largo de $X \\cup Y$, donde $X$ es el antecedente e $Y$ el consecuente de la regla. Así, se agrega la columna `len_itemset`, que contendrá el largo de esta unión."
   ]
  },
  {
   "cell_type": "code",
   "execution_count": 13,
   "metadata": {
    "ExecuteTime": {
     "end_time": "2018-09-24T22:45:49.414982Z",
     "start_time": "2018-09-24T22:45:49.319191Z"
    }
   },
   "outputs": [],
   "source": [
    "apriori.rules_df[\"len_itemset\"] = apriori.rules_df.apply(\n",
    "    lambda x: len(set(x[\"antecedent\"]).union(set(x[\"consequent\"]))), axis=1)"
   ]
  },
  {
   "cell_type": "code",
   "execution_count": 14,
   "metadata": {
    "ExecuteTime": {
     "end_time": "2018-09-24T22:45:49.493375Z",
     "start_time": "2018-09-24T22:45:49.429602Z"
    }
   },
   "outputs": [
    {
     "data": {
      "text/html": [
       "<div>\n",
       "<style scoped>\n",
       "    .dataframe tbody tr th:only-of-type {\n",
       "        vertical-align: middle;\n",
       "    }\n",
       "\n",
       "    .dataframe tbody tr th {\n",
       "        vertical-align: top;\n",
       "    }\n",
       "\n",
       "    .dataframe thead th {\n",
       "        text-align: right;\n",
       "    }\n",
       "</style>\n",
       "<table border=\"1\" class=\"dataframe\">\n",
       "  <thead>\n",
       "    <tr style=\"text-align: right;\">\n",
       "      <th></th>\n",
       "      <th>antecedent</th>\n",
       "      <th>consequent</th>\n",
       "      <th>confidence</th>\n",
       "      <th>support</th>\n",
       "      <th>lift</th>\n",
       "      <th>len_itemset</th>\n",
       "    </tr>\n",
       "  </thead>\n",
       "  <tbody>\n",
       "    <tr>\n",
       "      <th>447</th>\n",
       "      <td>(Mask Off, Bad and Boujee (feat. Lil Uzi Vert))</td>\n",
       "      <td>(HUMBLE.,)</td>\n",
       "      <td>0.728</td>\n",
       "      <td>0.011</td>\n",
       "      <td>15.666</td>\n",
       "      <td>3</td>\n",
       "    </tr>\n",
       "    <tr>\n",
       "      <th>362</th>\n",
       "      <td>(HUMBLE., Bad and Boujee (feat. Lil Uzi Vert))</td>\n",
       "      <td>(Congratulations,)</td>\n",
       "      <td>0.605</td>\n",
       "      <td>0.010</td>\n",
       "      <td>15.007</td>\n",
       "      <td>3</td>\n",
       "    </tr>\n",
       "    <tr>\n",
       "      <th>364</th>\n",
       "      <td>(HUMBLE.,)</td>\n",
       "      <td>(XO TOUR Llif3, Slippery (feat. Gucci Mane))</td>\n",
       "      <td>0.217</td>\n",
       "      <td>0.010</td>\n",
       "      <td>16.455</td>\n",
       "      <td>3</td>\n",
       "    </tr>\n",
       "    <tr>\n",
       "      <th>365</th>\n",
       "      <td>(XO TOUR Llif3,)</td>\n",
       "      <td>(HUMBLE., Slippery (feat. Gucci Mane))</td>\n",
       "      <td>0.313</td>\n",
       "      <td>0.010</td>\n",
       "      <td>21.128</td>\n",
       "      <td>3</td>\n",
       "    </tr>\n",
       "    <tr>\n",
       "      <th>366</th>\n",
       "      <td>(Slippery (feat. Gucci Mane),)</td>\n",
       "      <td>(HUMBLE., XO TOUR Llif3)</td>\n",
       "      <td>0.428</td>\n",
       "      <td>0.010</td>\n",
       "      <td>20.979</td>\n",
       "      <td>3</td>\n",
       "    </tr>\n",
       "    <tr>\n",
       "      <th>367</th>\n",
       "      <td>(HUMBLE., XO TOUR Llif3)</td>\n",
       "      <td>(Slippery (feat. Gucci Mane),)</td>\n",
       "      <td>0.495</td>\n",
       "      <td>0.010</td>\n",
       "      <td>20.979</td>\n",
       "      <td>3</td>\n",
       "    </tr>\n",
       "    <tr>\n",
       "      <th>368</th>\n",
       "      <td>(HUMBLE., Slippery (feat. Gucci Mane))</td>\n",
       "      <td>(XO TOUR Llif3,)</td>\n",
       "      <td>0.682</td>\n",
       "      <td>0.010</td>\n",
       "      <td>21.128</td>\n",
       "      <td>3</td>\n",
       "    </tr>\n",
       "    <tr>\n",
       "      <th>369</th>\n",
       "      <td>(XO TOUR Llif3, Slippery (feat. Gucci Mane))</td>\n",
       "      <td>(HUMBLE.,)</td>\n",
       "      <td>0.765</td>\n",
       "      <td>0.010</td>\n",
       "      <td>16.455</td>\n",
       "      <td>3</td>\n",
       "    </tr>\n",
       "    <tr>\n",
       "      <th>370</th>\n",
       "      <td>(HUMBLE.,)</td>\n",
       "      <td>(Bounce Back, Mask Off)</td>\n",
       "      <td>0.217</td>\n",
       "      <td>0.010</td>\n",
       "      <td>15.971</td>\n",
       "      <td>3</td>\n",
       "    </tr>\n",
       "    <tr>\n",
       "      <th>371</th>\n",
       "      <td>(Bounce Back,)</td>\n",
       "      <td>(HUMBLE., Mask Off)</td>\n",
       "      <td>0.340</td>\n",
       "      <td>0.010</td>\n",
       "      <td>16.670</td>\n",
       "      <td>3</td>\n",
       "    </tr>\n",
       "  </tbody>\n",
       "</table>\n",
       "</div>"
      ],
      "text/plain": [
       "                                          antecedent  \\\n",
       "447  (Mask Off, Bad and Boujee (feat. Lil Uzi Vert))   \n",
       "362   (HUMBLE., Bad and Boujee (feat. Lil Uzi Vert))   \n",
       "364                                       (HUMBLE.,)   \n",
       "365                                 (XO TOUR Llif3,)   \n",
       "366                   (Slippery (feat. Gucci Mane),)   \n",
       "367                         (HUMBLE., XO TOUR Llif3)   \n",
       "368           (HUMBLE., Slippery (feat. Gucci Mane))   \n",
       "369     (XO TOUR Llif3, Slippery (feat. Gucci Mane))   \n",
       "370                                       (HUMBLE.,)   \n",
       "371                                   (Bounce Back,)   \n",
       "\n",
       "                                       consequent  confidence  support  \\\n",
       "447                                    (HUMBLE.,)       0.728    0.011   \n",
       "362                            (Congratulations,)       0.605    0.010   \n",
       "364  (XO TOUR Llif3, Slippery (feat. Gucci Mane))       0.217    0.010   \n",
       "365        (HUMBLE., Slippery (feat. Gucci Mane))       0.313    0.010   \n",
       "366                      (HUMBLE., XO TOUR Llif3)       0.428    0.010   \n",
       "367                (Slippery (feat. Gucci Mane),)       0.495    0.010   \n",
       "368                              (XO TOUR Llif3,)       0.682    0.010   \n",
       "369                                    (HUMBLE.,)       0.765    0.010   \n",
       "370                       (Bounce Back, Mask Off)       0.217    0.010   \n",
       "371                           (HUMBLE., Mask Off)       0.340    0.010   \n",
       "\n",
       "       lift  len_itemset  \n",
       "447  15.666            3  \n",
       "362  15.007            3  \n",
       "364  16.455            3  \n",
       "365  21.128            3  \n",
       "366  20.979            3  \n",
       "367  20.979            3  \n",
       "368  21.128            3  \n",
       "369  16.455            3  \n",
       "370  15.971            3  \n",
       "371  16.670            3  "
      ]
     },
     "execution_count": 14,
     "metadata": {},
     "output_type": "execute_result"
    }
   ],
   "source": [
    "apriori.rules_df.sort_values(by=\"len_itemset\", ascending=False).head(10)"
   ]
  },
  {
   "cell_type": "markdown",
   "metadata": {},
   "source": [
    "## Análisis de 4 reglas"
   ]
  },
  {
   "cell_type": "markdown",
   "metadata": {},
   "source": [
    "Las reglas que se analizaron son las 4 que presentan el valor más alto de *lift*. Estas son:"
   ]
  },
  {
   "cell_type": "code",
   "execution_count": 15,
   "metadata": {
    "ExecuteTime": {
     "end_time": "2018-09-24T22:45:49.867661Z",
     "start_time": "2018-09-24T22:45:49.496828Z"
    }
   },
   "outputs": [
    {
     "name": "stdout",
     "output_type": "stream",
     "text": [
      "Generating file with top 10 rules sorted by lift.\n"
     ]
    }
   ],
   "source": [
    "top_4 = apriori.get_n_top_rules(10, \"lift\").head(4)\n",
    "top_4[\"antecedent\"] = list(map(tuple, top_4[\"antecedent\"]))\n",
    "top_4[\"consequent\"] = list(map(tuple, top_4[\"consequent\"]))"
   ]
  },
  {
   "cell_type": "markdown",
   "metadata": {},
   "source": [
    "Se escogieron las reglas con mayor *lift* debido a que esta métrica permite medir cuán común es que el antecendente y el consecuente aparezcan juntos si se asume que ambos son independientes. Así, un alto valor de *lift* permite determinar que la regla encontrada no es mera coincidencia."
   ]
  },
  {
   "cell_type": "code",
   "execution_count": 16,
   "metadata": {
    "ExecuteTime": {
     "end_time": "2018-09-24T22:45:49.987386Z",
     "start_time": "2018-09-24T22:45:49.873248Z"
    }
   },
   "outputs": [
    {
     "data": {
      "text/html": [
       "<div>\n",
       "<style scoped>\n",
       "    .dataframe tbody tr th:only-of-type {\n",
       "        vertical-align: middle;\n",
       "    }\n",
       "\n",
       "    .dataframe tbody tr th {\n",
       "        vertical-align: top;\n",
       "    }\n",
       "\n",
       "    .dataframe thead th {\n",
       "        text-align: right;\n",
       "    }\n",
       "</style>\n",
       "<table border=\"1\" class=\"dataframe\">\n",
       "  <thead>\n",
       "    <tr style=\"text-align: right;\">\n",
       "      <th></th>\n",
       "      <th>antecedent</th>\n",
       "      <th>consequent</th>\n",
       "      <th>confidence</th>\n",
       "      <th>support</th>\n",
       "      <th>lift</th>\n",
       "      <th>len_itemset</th>\n",
       "    </tr>\n",
       "  </thead>\n",
       "  <tbody>\n",
       "    <tr>\n",
       "      <th>264</th>\n",
       "      <td>(No Heart,)</td>\n",
       "      <td>(X (feat. Future),)</td>\n",
       "      <td>0.696</td>\n",
       "      <td>0.010</td>\n",
       "      <td>34.115</td>\n",
       "      <td>2</td>\n",
       "    </tr>\n",
       "    <tr>\n",
       "      <th>265</th>\n",
       "      <td>(X (feat. Future),)</td>\n",
       "      <td>(No Heart,)</td>\n",
       "      <td>0.505</td>\n",
       "      <td>0.010</td>\n",
       "      <td>34.115</td>\n",
       "      <td>2</td>\n",
       "    </tr>\n",
       "    <tr>\n",
       "      <th>53</th>\n",
       "      <td>(Chicken Fried,)</td>\n",
       "      <td>(Knee Deep (feat. Jimmy Buffett),)</td>\n",
       "      <td>0.500</td>\n",
       "      <td>0.011</td>\n",
       "      <td>31.847</td>\n",
       "      <td>2</td>\n",
       "    </tr>\n",
       "    <tr>\n",
       "      <th>52</th>\n",
       "      <td>(Knee Deep (feat. Jimmy Buffett),)</td>\n",
       "      <td>(Chicken Fried,)</td>\n",
       "      <td>0.682</td>\n",
       "      <td>0.011</td>\n",
       "      <td>31.847</td>\n",
       "      <td>2</td>\n",
       "    </tr>\n",
       "  </tbody>\n",
       "</table>\n",
       "</div>"
      ],
      "text/plain": [
       "                             antecedent                          consequent  \\\n",
       "264                         (No Heart,)                 (X (feat. Future),)   \n",
       "265                 (X (feat. Future),)                         (No Heart,)   \n",
       "53                     (Chicken Fried,)  (Knee Deep (feat. Jimmy Buffett),)   \n",
       "52   (Knee Deep (feat. Jimmy Buffett),)                    (Chicken Fried,)   \n",
       "\n",
       "     confidence  support    lift  len_itemset  \n",
       "264       0.696    0.010  34.115            2  \n",
       "265       0.505    0.010  34.115            2  \n",
       "53        0.500    0.011  31.847            2  \n",
       "52        0.682    0.011  31.847            2  "
      ]
     },
     "execution_count": 16,
     "metadata": {},
     "output_type": "execute_result"
    }
   ],
   "source": [
    "top_4"
   ]
  },
  {
   "cell_type": "markdown",
   "metadata": {},
   "source": [
    "### Regla 1\n",
    "\n",
    "[*No Heart*](https://www.youtube.com/watch?v=6wtwpUwxQik) $\\rightarrow$ [*X (feat. Future)*](https://www.youtube.com/watch?v=SpXw0qiy3Wo)\n",
    "\n",
    "Al buscar las canciones que componen la regla, se descubrió que ambas son de los mismos: [21 Savage](https://es.wikipedia.org/wiki/21_Savage) & [Metro Boomin](https://en.m.wikipedia.org/wiki/Metro_Boomin), ambos intérpretes de rap. Así que, a simple vista, tiene sentido que se cumpla esta regla de asociación (ya que es el mismo estilo de música, no es descabellado pensar que si aparece una canción de ese género, entonces también aparezca otra). Además, el alto valor de *lift* indica que ambas canciones aparecen juntas más de lo esperado. El valor de *confidence* de la regla supera ligeramente el umbral definido (0.5), lo que indica que, bajo este criterio, la regla es fidedigna según ese criterio.\n",
    "\n",
    "### Regla 2\n",
    "\n",
    "\n",
    "*X (feat. Future)* $\\rightarrow$ *No Heart*\n",
    "\n",
    "Aparecen las mismas canciones que en la regla 1, por lo que el análisis es análogo. El valor de *confidence*, sin embargo, es ligeramente mayor, por lo que la regla es más fiable bajo ese criterio.\n",
    "\n",
    "### Regla 3\n",
    "\n",
    "[*Knee Deep (feat. Jimmy Buffett)*](https://www.youtube.com/watch?v=9n5G0qFBsHM) $\\rightarrow$ [*Chicken Fried*](https://www.youtube.com/watch?v=e4ujS1er1r0)\n",
    "\n",
    "Ambas canciones involucradas son de Zac Brown Band, banda se dedica a la música *country*, por lo que, a simple vista, la regla tiene sentido (ya que es el mismo artista, es verosímil que si aparece una canción de él, entonces también aparezca otra). Es posible notar que la regla presenta un valor de *lift* menor que el de las anteriores. Sin embargo, sigue siendo mayor que 1, por lo que se concluye que la aparición de la regla no es solo coincidencia. Su valor de *confidence*, por otro lado, es exactamente igual al umbral definido.\n",
    "\n",
    "### Regla 4\n",
    "\n",
    "*Chicken Fried* $\\rightarrow$ *Knee Deep (feat. Jimmy Buffett)*\n",
    "\n",
    "Las canciones que aparecen en esta regla son las mismas que las de la regla anterior. En este caso, la confianza es mayor, por lo que la regla ofrece mayor *fidelidad* bajo ese criterio.\n",
    "\n"
   ]
  },
  {
   "cell_type": "markdown",
   "metadata": {},
   "source": [
    "## Visualización de las reglas de asociación encontradas\n",
    "\n",
    "A continuación, se presenta un gráfico de dispersión de las reglas. En él, se grafican los valores de *confidence* y *lift*. Se puede identificar cada regla a través de *hover* con el mouse. De esta forma, se mostrará un *tooltip* con el antecedente, consecuente, *confidence* y *lift* de la regla. Se decidió utilizar esta forma de visualizar porque permite comparar las reglas según dos métricas representativas de la *calidad* de la regla: un alto valor de *confidence* indica que la regla debería ser correcta a menudo, mientras que el valor de *lift* permite afirmar que la regla no solo es coincidencia. El largo de los *itemsets* $X \\cup Y$ puede ayudar a visualizar mejor las diferencias entre reglas, por lo que se utilizará para determinar el color de los puntos."
   ]
  },
  {
   "cell_type": "code",
   "execution_count": 17,
   "metadata": {
    "ExecuteTime": {
     "end_time": "2018-09-24T22:45:50.294506Z",
     "start_time": "2018-09-24T22:45:50.101861Z"
    }
   },
   "outputs": [
    {
     "data": {
      "application/javascript": [
       "var spec = {\"config\": {\"view\": {\"width\": 400, \"height\": 300}}, \"data\": {\"name\": \"data-5f27552a5b4399b6e2b9dd20f4160595\"}, \"mark\": {\"type\": \"circle\", \"size\": 60}, \"encoding\": {\"color\": {\"type\": \"quantitative\", \"field\": \"len_itemset\"}, \"tooltip\": [{\"type\": \"nominal\", \"field\": \"antecedent\"}, {\"type\": \"nominal\", \"field\": \"consequent\"}, {\"type\": \"quantitative\", \"field\": \"confidence\"}, {\"type\": \"quantitative\", \"field\": \"support\"}, {\"type\": \"quantitative\", \"field\": \"lift\"}, {\"type\": \"quantitative\", \"field\": \"len_itemset\"}], \"x\": {\"type\": \"quantitative\", \"field\": \"confidence\"}, \"y\": {\"type\": \"quantitative\", \"field\": \"lift\"}}, \"selection\": {\"selector001\": {\"type\": \"interval\", \"bind\": \"scales\", \"encodings\": [\"x\", \"y\"]}}, \"$schema\": \"https://vega.github.io/schema/vega-lite/v2.6.0.json\", \"datasets\": {\"data-5f27552a5b4399b6e2b9dd20f4160595\": [{\"antecedent\": [\"Slippery (feat. Gucci Mane)\"], \"consequent\": [\"Congratulations\"], \"confidence\": 0.559, \"support\": 0.013, \"lift\": 13.879, \"len_itemset\": 2}, {\"antecedent\": [\"Congratulations\"], \"consequent\": [\"Slippery (feat. Gucci Mane)\"], \"confidence\": 0.328, \"support\": 0.013, \"lift\": 13.879, \"len_itemset\": 2}, {\"antecedent\": [\"No Problem (feat. Lil Wayne & 2 Chainz)\"], \"consequent\": [\"Black Beatles\"], \"confidence\": 0.312, \"support\": 0.01, \"lift\": 10.931, \"len_itemset\": 2}, {\"antecedent\": [\"Black Beatles\"], \"consequent\": [\"No Problem (feat. Lil Wayne & 2 Chainz)\"], \"confidence\": 0.351, \"support\": 0.01, \"lift\": 10.931, \"len_itemset\": 2}, {\"antecedent\": [\"Congratulations\"], \"consequent\": [\"Tunnel Vision\"], \"confidence\": 0.298, \"support\": 0.012, \"lift\": 12.055, \"len_itemset\": 2}, {\"antecedent\": [\"Tunnel Vision\"], \"consequent\": [\"Congratulations\"], \"confidence\": 0.486, \"support\": 0.012, \"lift\": 12.055, \"len_itemset\": 2}, {\"antecedent\": [\"Caroline\"], \"consequent\": [\"Bounce Back\"], \"confidence\": 0.356, \"support\": 0.014, \"lift\": 12.0, \"len_itemset\": 2}, {\"antecedent\": [\"Bounce Back\"], \"consequent\": [\"Caroline\"], \"confidence\": 0.468, \"support\": 0.014, \"lift\": 12.0, \"len_itemset\": 2}, {\"antecedent\": [\"Closer\"], \"consequent\": [\"Shape of You\"], \"confidence\": 0.154, \"support\": 0.011, \"lift\": 4.952, \"len_itemset\": 2}, {\"antecedent\": [\"Shape of You\"], \"consequent\": [\"Closer\"], \"confidence\": 0.358, \"support\": 0.011, \"lift\": 4.952, \"len_itemset\": 2}, {\"antecedent\": [\"goosebumps\"], \"consequent\": [\"rockstar\"], \"confidence\": 0.341, \"support\": 0.01, \"lift\": 14.694, \"len_itemset\": 2}, {\"antecedent\": [\"rockstar\"], \"consequent\": [\"goosebumps\"], \"confidence\": 0.453, \"support\": 0.01, \"lift\": 14.694, \"len_itemset\": 2}, {\"antecedent\": [\"Congratulations\"], \"consequent\": [\"Drowning (feat. Kodak Black)\"], \"confidence\": 0.261, \"support\": 0.01, \"lift\": 13.5, \"len_itemset\": 2}, {\"antecedent\": [\"Drowning (feat. Kodak Black)\"], \"consequent\": [\"Congratulations\"], \"confidence\": 0.544, \"support\": 0.01, \"lift\": 13.5, \"len_itemset\": 2}, {\"antecedent\": [\"iSpy (feat. Lil Yachty)\"], \"consequent\": [\"Broccoli (feat. Lil Yachty)\"], \"confidence\": 0.353, \"support\": 0.012, \"lift\": 8.859, \"len_itemset\": 2}, {\"antecedent\": [\"Broccoli (feat. Lil Yachty)\"], \"consequent\": [\"iSpy (feat. Lil Yachty)\"], \"confidence\": 0.293, \"support\": 0.012, \"lift\": 8.859, \"len_itemset\": 2}, {\"antecedent\": [\"HUMBLE.\"], \"consequent\": [\"Slippery (feat. Gucci Mane)\"], \"confidence\": 0.318, \"support\": 0.015, \"lift\": 13.486, \"len_itemset\": 2}, {\"antecedent\": [\"Slippery (feat. Gucci Mane)\"], \"consequent\": [\"HUMBLE.\"], \"confidence\": 0.627, \"support\": 0.015, \"lift\": 13.486, \"len_itemset\": 2}, {\"antecedent\": [\"Tunnel Vision\"], \"consequent\": [\"iSpy (feat. Lil Yachty)\"], \"confidence\": 0.466, \"support\": 0.012, \"lift\": 14.066, \"len_itemset\": 2}, {\"antecedent\": [\"iSpy (feat. Lil Yachty)\"], \"consequent\": [\"Tunnel Vision\"], \"confidence\": 0.347, \"support\": 0.012, \"lift\": 14.066, \"len_itemset\": 2}, {\"antecedent\": [\"Money Longer\"], \"consequent\": [\"Bad and Boujee (feat. Lil Uzi Vert)\"], \"confidence\": 0.557, \"support\": 0.011, \"lift\": 16.136, \"len_itemset\": 2}, {\"antecedent\": [\"Bad and Boujee (feat. Lil Uzi Vert)\"], \"consequent\": [\"Money Longer\"], \"confidence\": 0.313, \"support\": 0.011, \"lift\": 16.136, \"len_itemset\": 2}, {\"antecedent\": [\"T-Shirt\"], \"consequent\": [\"Bad and Boujee (feat. Lil Uzi Vert)\"], \"confidence\": 0.362, \"support\": 0.013, \"lift\": 10.488, \"len_itemset\": 2}, {\"antecedent\": [\"Bad and Boujee (feat. Lil Uzi Vert)\"], \"consequent\": [\"T-Shirt\"], \"confidence\": 0.368, \"support\": 0.013, \"lift\": 10.488, \"len_itemset\": 2}, {\"antecedent\": [\"HUMBLE.\"], \"consequent\": [\"Unforgettable\"], \"confidence\": 0.228, \"support\": 0.011, \"lift\": 6.993, \"len_itemset\": 2}, {\"antecedent\": [\"Unforgettable\"], \"consequent\": [\"HUMBLE.\"], \"confidence\": 0.325, \"support\": 0.011, \"lift\": 6.993, \"len_itemset\": 2}, {\"antecedent\": [\"goosebumps\"], \"consequent\": [\"iSpy (feat. Lil Yachty)\"], \"confidence\": 0.396, \"support\": 0.012, \"lift\": 11.967, \"len_itemset\": 2}, {\"antecedent\": [\"iSpy (feat. Lil Yachty)\"], \"consequent\": [\"goosebumps\"], \"confidence\": 0.369, \"support\": 0.012, \"lift\": 11.967, \"len_itemset\": 2}, {\"antecedent\": [\"Swang\"], \"consequent\": [\"Congratulations\"], \"confidence\": 0.511, \"support\": 0.011, \"lift\": 12.69, \"len_itemset\": 2}, {\"antecedent\": [\"Congratulations\"], \"consequent\": [\"Swang\"], \"confidence\": 0.278, \"support\": 0.011, \"lift\": 12.69, \"len_itemset\": 2}, {\"antecedent\": [\"Bank Account\"], \"consequent\": [\"Magnolia\"], \"confidence\": 0.491, \"support\": 0.011, \"lift\": 24.813, \"len_itemset\": 2}, {\"antecedent\": [\"Magnolia\"], \"consequent\": [\"Bank Account\"], \"confidence\": 0.571, \"support\": 0.011, \"lift\": 24.813, \"len_itemset\": 2}, {\"antecedent\": [\"goosebumps\"], \"consequent\": [\"Bounce Back\"], \"confidence\": 0.412, \"support\": 0.013, \"lift\": 13.883, \"len_itemset\": 2}, {\"antecedent\": [\"Bounce Back\"], \"consequent\": [\"goosebumps\"], \"confidence\": 0.428, \"support\": 0.013, \"lift\": 13.883, \"len_itemset\": 2}, {\"antecedent\": [\"Bank Account\"], \"consequent\": [\"rockstar\"], \"confidence\": 0.452, \"support\": 0.01, \"lift\": 19.49, \"len_itemset\": 2}, {\"antecedent\": [\"rockstar\"], \"consequent\": [\"Bank Account\"], \"confidence\": 0.448, \"support\": 0.01, \"lift\": 19.49, \"len_itemset\": 2}, {\"antecedent\": [\"Congratulations\"], \"consequent\": [\"DNA.\"], \"confidence\": 0.261, \"support\": 0.01, \"lift\": 11.279, \"len_itemset\": 2}, {\"antecedent\": [\"DNA.\"], \"consequent\": [\"Congratulations\"], \"confidence\": 0.455, \"support\": 0.01, \"lift\": 11.279, \"len_itemset\": 2}, {\"antecedent\": [\"Bounce Back\"], \"consequent\": [\"Fake Love\"], \"confidence\": 0.404, \"support\": 0.012, \"lift\": 13.604, \"len_itemset\": 2}, {\"antecedent\": [\"Fake Love\"], \"consequent\": [\"Bounce Back\"], \"confidence\": 0.404, \"support\": 0.012, \"lift\": 13.604, \"len_itemset\": 2}, {\"antecedent\": [\"HUMBLE.\"], \"consequent\": [\"goosebumps\"], \"confidence\": 0.359, \"support\": 0.017, \"lift\": 11.66, \"len_itemset\": 2}, {\"antecedent\": [\"goosebumps\"], \"consequent\": [\"HUMBLE.\"], \"confidence\": 0.542, \"support\": 0.017, \"lift\": 11.66, \"len_itemset\": 2}, {\"antecedent\": [\"HUMBLE.\"], \"consequent\": [\"Black Beatles\"], \"confidence\": 0.215, \"support\": 0.01, \"lift\": 7.546, \"len_itemset\": 2}, {\"antecedent\": [\"Black Beatles\"], \"consequent\": [\"HUMBLE.\"], \"confidence\": 0.351, \"support\": 0.01, \"lift\": 7.546, \"len_itemset\": 2}, {\"antecedent\": [\"Slippery (feat. Gucci Mane)\"], \"consequent\": [\"Bad and Boujee (feat. Lil Uzi Vert)\"], \"confidence\": 0.513, \"support\": 0.012, \"lift\": 14.861, \"len_itemset\": 2}, {\"antecedent\": [\"Bad and Boujee (feat. Lil Uzi Vert)\"], \"consequent\": [\"Slippery (feat. Gucci Mane)\"], \"confidence\": 0.351, \"support\": 0.012, \"lift\": 14.861, \"len_itemset\": 2}, {\"antecedent\": [\"No Problem (feat. Lil Wayne & 2 Chainz)\"], \"consequent\": [\"Bad and Boujee (feat. Lil Uzi Vert)\"], \"confidence\": 0.377, \"support\": 0.012, \"lift\": 10.926, \"len_itemset\": 2}, {\"antecedent\": [\"Bad and Boujee (feat. Lil Uzi Vert)\"], \"consequent\": [\"No Problem (feat. Lil Wayne & 2 Chainz)\"], \"confidence\": 0.351, \"support\": 0.012, \"lift\": 10.926, \"len_itemset\": 2}, {\"antecedent\": [\"Trap Queen\"], \"consequent\": [\"679 (feat. Remy Boyz)\"], \"confidence\": 0.422, \"support\": 0.012, \"lift\": 17.301, \"len_itemset\": 2}, {\"antecedent\": [\"679 (feat. Remy Boyz)\"], \"consequent\": [\"Trap Queen\"], \"confidence\": 0.5, \"support\": 0.012, \"lift\": 17.301, \"len_itemset\": 2}, {\"antecedent\": [\"Black Beatles\"], \"consequent\": [\"Broccoli (feat. Lil Yachty)\"], \"confidence\": 0.484, \"support\": 0.014, \"lift\": 12.136, \"len_itemset\": 2}, {\"antecedent\": [\"Broccoli (feat. Lil Yachty)\"], \"consequent\": [\"Black Beatles\"], \"confidence\": 0.346, \"support\": 0.014, \"lift\": 12.136, \"len_itemset\": 2}, {\"antecedent\": [\"Knee Deep (feat. Jimmy Buffett)\"], \"consequent\": [\"Chicken Fried\"], \"confidence\": 0.682, \"support\": 0.011, \"lift\": 31.847, \"len_itemset\": 2}, {\"antecedent\": [\"Chicken Fried\"], \"consequent\": [\"Knee Deep (feat. Jimmy Buffett)\"], \"confidence\": 0.5, \"support\": 0.011, \"lift\": 31.847, \"len_itemset\": 2}, {\"antecedent\": [\"Caroline\"], \"consequent\": [\"Black Beatles\"], \"confidence\": 0.328, \"support\": 0.013, \"lift\": 11.516, \"len_itemset\": 2}, {\"antecedent\": [\"Black Beatles\"], \"consequent\": [\"Caroline\"], \"confidence\": 0.449, \"support\": 0.013, \"lift\": 11.516, \"len_itemset\": 2}, {\"antecedent\": [\"Bounce Back\"], \"consequent\": [\"iSpy (feat. Lil Yachty)\"], \"confidence\": 0.451, \"support\": 0.013, \"lift\": 13.631, \"len_itemset\": 2}, {\"antecedent\": [\"iSpy (feat. Lil Yachty)\"], \"consequent\": [\"Bounce Back\"], \"confidence\": 0.405, \"support\": 0.013, \"lift\": 13.631, \"len_itemset\": 2}, {\"antecedent\": [\"Closer\"], \"consequent\": [\"Roses\"], \"confidence\": 0.192, \"support\": 0.014, \"lift\": 4.534, \"len_itemset\": 2}, {\"antecedent\": [\"Roses\"], \"consequent\": [\"Closer\"], \"confidence\": 0.328, \"support\": 0.014, \"lift\": 4.534, \"len_itemset\": 2}, {\"antecedent\": [\"Congratulations\"], \"consequent\": [\"rockstar\"], \"confidence\": 0.278, \"support\": 0.011, \"lift\": 11.979, \"len_itemset\": 2}, {\"antecedent\": [\"rockstar\"], \"consequent\": [\"Congratulations\"], \"confidence\": 0.483, \"support\": 0.011, \"lift\": 11.979, \"len_itemset\": 2}, {\"antecedent\": [\"goosebumps\"], \"consequent\": [\"Drowning (feat. Kodak Black)\"], \"confidence\": 0.325, \"support\": 0.01, \"lift\": 16.823, \"len_itemset\": 2}, {\"antecedent\": [\"Drowning (feat. Kodak Black)\"], \"consequent\": [\"goosebumps\"], \"confidence\": 0.518, \"support\": 0.01, \"lift\": 16.823, \"len_itemset\": 2}, {\"antecedent\": [\"Caroline\"], \"consequent\": [\"iSpy (feat. Lil Yachty)\"], \"confidence\": 0.344, \"support\": 0.013, \"lift\": 10.38, \"len_itemset\": 2}, {\"antecedent\": [\"iSpy (feat. Lil Yachty)\"], \"consequent\": [\"Caroline\"], \"confidence\": 0.405, \"support\": 0.013, \"lift\": 10.38, \"len_itemset\": 2}, {\"antecedent\": [\"HUMBLE.\"], \"consequent\": [\"rockstar\"], \"confidence\": 0.252, \"support\": 0.012, \"lift\": 10.845, \"len_itemset\": 2}, {\"antecedent\": [\"rockstar\"], \"consequent\": [\"HUMBLE.\"], \"confidence\": 0.504, \"support\": 0.012, \"lift\": 10.845, \"len_itemset\": 2}, {\"antecedent\": [\"Tunnel Vision\"], \"consequent\": [\"Bad and Boujee (feat. Lil Uzi Vert)\"], \"confidence\": 0.433, \"support\": 0.011, \"lift\": 12.556, \"len_itemset\": 2}, {\"antecedent\": [\"Bad and Boujee (feat. Lil Uzi Vert)\"], \"consequent\": [\"Tunnel Vision\"], \"confidence\": 0.31, \"support\": 0.011, \"lift\": 12.556, \"len_itemset\": 2}, {\"antecedent\": [\"XO TOUR Llif3\"], \"consequent\": [\"Bounce Back\"], \"confidence\": 0.362, \"support\": 0.012, \"lift\": 12.196, \"len_itemset\": 2}, {\"antecedent\": [\"Bounce Back\"], \"consequent\": [\"XO TOUR Llif3\"], \"confidence\": 0.394, \"support\": 0.012, \"lift\": 12.196, \"len_itemset\": 2}, {\"antecedent\": [\"goosebumps\"], \"consequent\": [\"Tunnel Vision\"], \"confidence\": 0.36, \"support\": 0.011, \"lift\": 14.591, \"len_itemset\": 2}, {\"antecedent\": [\"Tunnel Vision\"], \"consequent\": [\"goosebumps\"], \"confidence\": 0.449, \"support\": 0.011, \"lift\": 14.591, \"len_itemset\": 2}, {\"antecedent\": [\"goosebumps\"], \"consequent\": [\"XO TOUR Llif3\"], \"confidence\": 0.494, \"support\": 0.015, \"lift\": 15.279, \"len_itemset\": 2}, {\"antecedent\": [\"XO TOUR Llif3\"], \"consequent\": [\"goosebumps\"], \"confidence\": 0.471, \"support\": 0.015, \"lift\": 15.279, \"len_itemset\": 2}, {\"antecedent\": [\"Broccoli (feat. Lil Yachty)\"], \"consequent\": [\"Bad and Boujee (feat. Lil Uzi Vert)\"], \"confidence\": 0.388, \"support\": 0.016, \"lift\": 11.26, \"len_itemset\": 2}, {\"antecedent\": [\"Bad and Boujee (feat. Lil Uzi Vert)\"], \"consequent\": [\"Broccoli (feat. Lil Yachty)\"], \"confidence\": 0.449, \"support\": 0.016, \"lift\": 11.26, \"len_itemset\": 2}, {\"antecedent\": [\"Mask Off\"], \"consequent\": [\"Bad and Boujee (feat. Lil Uzi Vert)\"], \"confidence\": 0.478, \"support\": 0.015, \"lift\": 13.851, \"len_itemset\": 2}, {\"antecedent\": [\"Bad and Boujee (feat. Lil Uzi Vert)\"], \"consequent\": [\"Mask Off\"], \"confidence\": 0.438, \"support\": 0.015, \"lift\": 13.851, \"len_itemset\": 2}, {\"antecedent\": [\"Black Beatles\"], \"consequent\": [\"Bad and Boujee (feat. Lil Uzi Vert)\"], \"confidence\": 0.46, \"support\": 0.013, \"lift\": 13.323, \"len_itemset\": 2}, {\"antecedent\": [\"Bad and Boujee (feat. Lil Uzi Vert)\"], \"consequent\": [\"Black Beatles\"], \"confidence\": 0.38, \"support\": 0.013, \"lift\": 13.323, \"len_itemset\": 2}, {\"antecedent\": [\"Fake Love\"], \"consequent\": [\"Broccoli (feat. Lil Yachty)\"], \"confidence\": 0.37, \"support\": 0.011, \"lift\": 9.282, \"len_itemset\": 2}, {\"antecedent\": [\"Broccoli (feat. Lil Yachty)\"], \"consequent\": [\"Fake Love\"], \"confidence\": 0.276, \"support\": 0.011, \"lift\": 9.282, \"len_itemset\": 2}, {\"antecedent\": [\"Bank Account\"], \"consequent\": [\"Slippery (feat. Gucci Mane)\"], \"confidence\": 0.457, \"support\": 0.01, \"lift\": 19.344, \"len_itemset\": 2}, {\"antecedent\": [\"Slippery (feat. Gucci Mane)\"], \"consequent\": [\"Bank Account\"], \"confidence\": 0.445, \"support\": 0.01, \"lift\": 19.344, \"len_itemset\": 2}, {\"antecedent\": [\"Despacito - Remix\"], \"consequent\": [\"I'm the One\"], \"confidence\": 0.426, \"support\": 0.012, \"lift\": 13.34, \"len_itemset\": 2}, {\"antecedent\": [\"I'm the One\"], \"consequent\": [\"Despacito - Remix\"], \"confidence\": 0.376, \"support\": 0.012, \"lift\": 13.34, \"len_itemset\": 2}, {\"antecedent\": [\"pick up the phone\"], \"consequent\": [\"Bad and Boujee (feat. Lil Uzi Vert)\"], \"confidence\": 0.51, \"support\": 0.01, \"lift\": 14.789, \"len_itemset\": 2}, {\"antecedent\": [\"Bad and Boujee (feat. Lil Uzi Vert)\"], \"consequent\": [\"pick up the phone\"], \"confidence\": 0.29, \"support\": 0.01, \"lift\": 14.789, \"len_itemset\": 2}, {\"antecedent\": [\"XO TOUR Llif3\"], \"consequent\": [\"Magnolia\"], \"confidence\": 0.362, \"support\": 0.012, \"lift\": 18.294, \"len_itemset\": 2}, {\"antecedent\": [\"Magnolia\"], \"consequent\": [\"XO TOUR Llif3\"], \"confidence\": 0.591, \"support\": 0.012, \"lift\": 18.294, \"len_itemset\": 2}, {\"antecedent\": [\"HUMBLE.\"], \"consequent\": [\"Swang\"], \"confidence\": 0.243, \"support\": 0.011, \"lift\": 11.096, \"len_itemset\": 2}, {\"antecedent\": [\"Swang\"], \"consequent\": [\"HUMBLE.\"], \"confidence\": 0.516, \"support\": 0.011, \"lift\": 11.096, \"len_itemset\": 2}, {\"antecedent\": [\"Chill Bill\"], \"consequent\": [\"Broccoli (feat. Lil Yachty)\"], \"confidence\": 0.531, \"support\": 0.012, \"lift\": 13.301, \"len_itemset\": 2}, {\"antecedent\": [\"Broccoli (feat. Lil Yachty)\"], \"consequent\": [\"Chill Bill\"], \"confidence\": 0.303, \"support\": 0.012, \"lift\": 13.301, \"len_itemset\": 2}, {\"antecedent\": [\"Caroline\"], \"consequent\": [\"Bad and Boujee (feat. Lil Uzi Vert)\"], \"confidence\": 0.392, \"support\": 0.015, \"lift\": 11.371, \"len_itemset\": 2}, {\"antecedent\": [\"Bad and Boujee (feat. Lil Uzi Vert)\"], \"consequent\": [\"Caroline\"], \"confidence\": 0.443, \"support\": 0.015, \"lift\": 11.371, \"len_itemset\": 2}, {\"antecedent\": [\"One Dance\"], \"consequent\": [\"Don't Let Me Down\"], \"confidence\": 0.251, \"support\": 0.01, \"lift\": 7.906, \"len_itemset\": 2}, {\"antecedent\": [\"Don't Let Me Down\"], \"consequent\": [\"One Dance\"], \"confidence\": 0.325, \"support\": 0.01, \"lift\": 7.906, \"len_itemset\": 2}, {\"antecedent\": [\"Jumpman\"], \"consequent\": [\"One Dance\"], \"confidence\": 0.348, \"support\": 0.01, \"lift\": 8.478, \"len_itemset\": 2}, {\"antecedent\": [\"One Dance\"], \"consequent\": [\"Jumpman\"], \"confidence\": 0.243, \"support\": 0.01, \"lift\": 8.478, \"len_itemset\": 2}, {\"antecedent\": [\"HUMBLE.\"], \"consequent\": [\"Congratulations\"], \"confidence\": 0.46, \"support\": 0.021, \"lift\": 11.42, \"len_itemset\": 2}, {\"antecedent\": [\"Congratulations\"], \"consequent\": [\"HUMBLE.\"], \"confidence\": 0.531, \"support\": 0.021, \"lift\": 11.42, \"len_itemset\": 2}, {\"antecedent\": [\"Bank Account\"], \"consequent\": [\"Butterfly Effect\"], \"confidence\": 0.483, \"support\": 0.011, \"lift\": 24.877, \"len_itemset\": 2}, {\"antecedent\": [\"Butterfly Effect\"], \"consequent\": [\"Bank Account\"], \"confidence\": 0.572, \"support\": 0.011, \"lift\": 24.877, \"len_itemset\": 2}, {\"antecedent\": [\"Congratulations\"], \"consequent\": [\"Broccoli (feat. Lil Yachty)\"], \"confidence\": 0.285, \"support\": 0.012, \"lift\": 7.152, \"len_itemset\": 2}, {\"antecedent\": [\"Broccoli (feat. Lil Yachty)\"], \"consequent\": [\"Congratulations\"], \"confidence\": 0.288, \"support\": 0.012, \"lift\": 7.152, \"len_itemset\": 2}, {\"antecedent\": [\"Sorry\"], \"consequent\": [\"What Do You Mean?\"], \"confidence\": 0.403, \"support\": 0.013, \"lift\": 18.635, \"len_itemset\": 2}, {\"antecedent\": [\"What Do You Mean?\"], \"consequent\": [\"Sorry\"], \"confidence\": 0.593, \"support\": 0.013, \"lift\": 18.635, \"len_itemset\": 2}, {\"antecedent\": [\"Black Beatles\"], \"consequent\": [\"Fake Love\"], \"confidence\": 0.351, \"support\": 0.01, \"lift\": 11.814, \"len_itemset\": 2}, {\"antecedent\": [\"Fake Love\"], \"consequent\": [\"Black Beatles\"], \"confidence\": 0.337, \"support\": 0.01, \"lift\": 11.814, \"len_itemset\": 2}, {\"antecedent\": [\"XO TOUR Llif3\"], \"consequent\": [\"Drowning (feat. Kodak Black)\"], \"confidence\": 0.384, \"support\": 0.012, \"lift\": 19.891, \"len_itemset\": 2}, {\"antecedent\": [\"Drowning (feat. Kodak Black)\"], \"consequent\": [\"XO TOUR Llif3\"], \"confidence\": 0.642, \"support\": 0.012, \"lift\": 19.891, \"len_itemset\": 2}, {\"antecedent\": [\"Money Longer\"], \"consequent\": [\"You Was Right\"], \"confidence\": 0.603, \"support\": 0.012, \"lift\": 31.087, \"len_itemset\": 2}, {\"antecedent\": [\"You Was Right\"], \"consequent\": [\"Money Longer\"], \"confidence\": 0.603, \"support\": 0.012, \"lift\": 31.087, \"len_itemset\": 2}, {\"antecedent\": [\"Panda\"], \"consequent\": [\"Broccoli (feat. Lil Yachty)\"], \"confidence\": 0.43, \"support\": 0.013, \"lift\": 10.776, \"len_itemset\": 2}, {\"antecedent\": [\"Broccoli (feat. Lil Yachty)\"], \"consequent\": [\"Panda\"], \"confidence\": 0.331, \"support\": 0.013, \"lift\": 10.776, \"len_itemset\": 2}, {\"antecedent\": [\"HUMBLE.\"], \"consequent\": [\"Mask Off\"], \"confidence\": 0.439, \"support\": 0.02, \"lift\": 13.883, \"len_itemset\": 2}, {\"antecedent\": [\"Mask Off\"], \"consequent\": [\"HUMBLE.\"], \"confidence\": 0.646, \"support\": 0.02, \"lift\": 13.883, \"len_itemset\": 2}, {\"antecedent\": [\"goosebumps\"], \"consequent\": [\"No Problem (feat. Lil Wayne & 2 Chainz)\"], \"confidence\": 0.325, \"support\": 0.01, \"lift\": 10.114, \"len_itemset\": 2}, {\"antecedent\": [\"No Problem (feat. Lil Wayne & 2 Chainz)\"], \"consequent\": [\"goosebumps\"], \"confidence\": 0.312, \"support\": 0.01, \"lift\": 10.114, \"len_itemset\": 2}, {\"antecedent\": [\"One Dance\"], \"consequent\": [\"Work\"], \"confidence\": 0.251, \"support\": 0.01, \"lift\": 9.602, \"len_itemset\": 2}, {\"antecedent\": [\"Work\"], \"consequent\": [\"One Dance\"], \"confidence\": 0.395, \"support\": 0.01, \"lift\": 9.602, \"len_itemset\": 2}, {\"antecedent\": [\"No Problem (feat. Lil Wayne & 2 Chainz)\"], \"consequent\": [\"Broccoli (feat. Lil Yachty)\"], \"confidence\": 0.492, \"support\": 0.016, \"lift\": 12.336, \"len_itemset\": 2}, {\"antecedent\": [\"Broccoli (feat. Lil Yachty)\"], \"consequent\": [\"No Problem (feat. Lil Wayne & 2 Chainz)\"], \"confidence\": 0.396, \"support\": 0.016, \"lift\": 12.336, \"len_itemset\": 2}, {\"antecedent\": [\"HUMBLE.\"], \"consequent\": [\"XO TOUR Llif3\"], \"confidence\": 0.439, \"support\": 0.02, \"lift\": 13.582, \"len_itemset\": 2}, {\"antecedent\": [\"XO TOUR Llif3\"], \"consequent\": [\"HUMBLE.\"], \"confidence\": 0.632, \"support\": 0.02, \"lift\": 13.582, \"len_itemset\": 2}, {\"antecedent\": [\"Controlla\"], \"consequent\": [\"One Dance\"], \"confidence\": 0.602, \"support\": 0.012, \"lift\": 14.646, \"len_itemset\": 2}, {\"antecedent\": [\"One Dance\"], \"consequent\": [\"Controlla\"], \"confidence\": 0.302, \"support\": 0.012, \"lift\": 14.646, \"len_itemset\": 2}, {\"antecedent\": [\"Bounce Back\"], \"consequent\": [\"T-Shirt\"], \"confidence\": 0.343, \"support\": 0.01, \"lift\": 9.784, \"len_itemset\": 2}, {\"antecedent\": [\"T-Shirt\"], \"consequent\": [\"Bounce Back\"], \"confidence\": 0.291, \"support\": 0.01, \"lift\": 9.784, \"len_itemset\": 2}, {\"antecedent\": [\"One Dance\"], \"consequent\": [\"Panda\"], \"confidence\": 0.311, \"support\": 0.013, \"lift\": 10.144, \"len_itemset\": 2}, {\"antecedent\": [\"Panda\"], \"consequent\": [\"One Dance\"], \"confidence\": 0.417, \"support\": 0.013, \"lift\": 10.144, \"len_itemset\": 2}, {\"antecedent\": [\"XO TOUR Llif3\"], \"consequent\": [\"iSpy (feat. Lil Yachty)\"], \"confidence\": 0.365, \"support\": 0.012, \"lift\": 11.037, \"len_itemset\": 2}, {\"antecedent\": [\"iSpy (feat. Lil Yachty)\"], \"consequent\": [\"XO TOUR Llif3\"], \"confidence\": 0.356, \"support\": 0.012, \"lift\": 11.037, \"len_itemset\": 2}, {\"antecedent\": [\"Caroline\"], \"consequent\": [\"Fake Love\"], \"confidence\": 0.346, \"support\": 0.014, \"lift\": 11.655, \"len_itemset\": 2}, {\"antecedent\": [\"Fake Love\"], \"consequent\": [\"Caroline\"], \"confidence\": 0.455, \"support\": 0.014, \"lift\": 11.655, \"len_itemset\": 2}, {\"antecedent\": [\"Mask Off\"], \"consequent\": [\"iSpy (feat. Lil Yachty)\"], \"confidence\": 0.465, \"support\": 0.015, \"lift\": 14.054, \"len_itemset\": 2}, {\"antecedent\": [\"iSpy (feat. Lil Yachty)\"], \"consequent\": [\"Mask Off\"], \"confidence\": 0.444, \"support\": 0.015, \"lift\": 14.054, \"len_itemset\": 2}, {\"antecedent\": [\"XO TOUR Llif3\"], \"consequent\": [\"Unforgettable\"], \"confidence\": 0.319, \"support\": 0.01, \"lift\": 9.782, \"len_itemset\": 2}, {\"antecedent\": [\"Unforgettable\"], \"consequent\": [\"XO TOUR Llif3\"], \"confidence\": 0.316, \"support\": 0.01, \"lift\": 9.782, \"len_itemset\": 2}, {\"antecedent\": [\"Caroline\"], \"consequent\": [\"Chill Bill\"], \"confidence\": 0.295, \"support\": 0.012, \"lift\": 12.933, \"len_itemset\": 2}, {\"antecedent\": [\"Chill Bill\"], \"consequent\": [\"Caroline\"], \"confidence\": 0.504, \"support\": 0.012, \"lift\": 12.933, \"len_itemset\": 2}, {\"antecedent\": [\"Caroline\"], \"consequent\": [\"HUMBLE.\"], \"confidence\": 0.333, \"support\": 0.013, \"lift\": 7.168, \"len_itemset\": 2}, {\"antecedent\": [\"HUMBLE.\"], \"consequent\": [\"Caroline\"], \"confidence\": 0.28, \"support\": 0.013, \"lift\": 7.168, \"len_itemset\": 2}, {\"antecedent\": [\"Bank Account\"], \"consequent\": [\"HUMBLE.\"], \"confidence\": 0.543, \"support\": 0.012, \"lift\": 11.688, \"len_itemset\": 2}, {\"antecedent\": [\"HUMBLE.\"], \"consequent\": [\"Bank Account\"], \"confidence\": 0.269, \"support\": 0.012, \"lift\": 11.688, \"len_itemset\": 2}, {\"antecedent\": [\"XO TOUR Llif3\"], \"consequent\": [\"Butterfly Effect\"], \"confidence\": 0.331, \"support\": 0.011, \"lift\": 17.076, \"len_itemset\": 2}, {\"antecedent\": [\"Butterfly Effect\"], \"consequent\": [\"XO TOUR Llif3\"], \"confidence\": 0.552, \"support\": 0.011, \"lift\": 17.076, \"len_itemset\": 2}, {\"antecedent\": [\"HUMBLE.\"], \"consequent\": [\"Broccoli (feat. Lil Yachty)\"], \"confidence\": 0.28, \"support\": 0.013, \"lift\": 7.007, \"len_itemset\": 2}, {\"antecedent\": [\"Broccoli (feat. Lil Yachty)\"], \"consequent\": [\"HUMBLE.\"], \"confidence\": 0.326, \"support\": 0.013, \"lift\": 7.007, \"len_itemset\": 2}, {\"antecedent\": [\"XO TOUR Llif3\"], \"consequent\": [\"rockstar\"], \"confidence\": 0.347, \"support\": 0.011, \"lift\": 14.946, \"len_itemset\": 2}, {\"antecedent\": [\"rockstar\"], \"consequent\": [\"XO TOUR Llif3\"], \"confidence\": 0.483, \"support\": 0.011, \"lift\": 14.946, \"len_itemset\": 2}, {\"antecedent\": [\"Caroline\"], \"consequent\": [\"No Problem (feat. Lil Wayne & 2 Chainz)\"], \"confidence\": 0.346, \"support\": 0.014, \"lift\": 10.784, \"len_itemset\": 2}, {\"antecedent\": [\"No Problem (feat. Lil Wayne & 2 Chainz)\"], \"consequent\": [\"Caroline\"], \"confidence\": 0.421, \"support\": 0.014, \"lift\": 10.784, \"len_itemset\": 2}, {\"antecedent\": [\"Closer\"], \"consequent\": [\"Gold\"], \"confidence\": 0.163, \"support\": 0.012, \"lift\": 4.423, \"len_itemset\": 2}, {\"antecedent\": [\"Gold\"], \"consequent\": [\"Closer\"], \"confidence\": 0.32, \"support\": 0.012, \"lift\": 4.423, \"len_itemset\": 2}, {\"antecedent\": [\"Closer\"], \"consequent\": [\"Cold Water (feat. Justin Bieber & M\\u00d8)\"], \"confidence\": 0.201, \"support\": 0.014, \"lift\": 8.571, \"len_itemset\": 2}, {\"antecedent\": [\"Cold Water (feat. Justin Bieber & M\\u00d8)\"], \"consequent\": [\"Closer\"], \"confidence\": 0.62, \"support\": 0.014, \"lift\": 8.571, \"len_itemset\": 2}, {\"antecedent\": [\"You Was Right\"], \"consequent\": [\"Bad and Boujee (feat. Lil Uzi Vert)\"], \"confidence\": 0.541, \"support\": 0.01, \"lift\": 15.688, \"len_itemset\": 2}, {\"antecedent\": [\"Bad and Boujee (feat. Lil Uzi Vert)\"], \"consequent\": [\"You Was Right\"], \"confidence\": 0.304, \"support\": 0.01, \"lift\": 15.688, \"len_itemset\": 2}, {\"antecedent\": [\"Swang\"], \"consequent\": [\"Bad and Boujee (feat. Lil Uzi Vert)\"], \"confidence\": 0.47, \"support\": 0.01, \"lift\": 13.632, \"len_itemset\": 2}, {\"antecedent\": [\"Bad and Boujee (feat. Lil Uzi Vert)\"], \"consequent\": [\"Swang\"], \"confidence\": 0.299, \"support\": 0.01, \"lift\": 13.632, \"len_itemset\": 2}, {\"antecedent\": [\"Bounce Back\"], \"consequent\": [\"Mask Off\"], \"confidence\": 0.458, \"support\": 0.014, \"lift\": 14.491, \"len_itemset\": 2}, {\"antecedent\": [\"Mask Off\"], \"consequent\": [\"Bounce Back\"], \"confidence\": 0.43, \"support\": 0.014, \"lift\": 14.491, \"len_itemset\": 2}, {\"antecedent\": [\"X (feat. Future)\"], \"consequent\": [\"Bad and Boujee (feat. Lil Uzi Vert)\"], \"confidence\": 0.534, \"support\": 0.011, \"lift\": 15.487, \"len_itemset\": 2}, {\"antecedent\": [\"Bad and Boujee (feat. Lil Uzi Vert)\"], \"consequent\": [\"X (feat. Future)\"], \"confidence\": 0.316, \"support\": 0.011, \"lift\": 15.487, \"len_itemset\": 2}, {\"antecedent\": [\"HUMBLE.\"], \"consequent\": [\"Drowning (feat. Kodak Black)\"], \"confidence\": 0.252, \"support\": 0.012, \"lift\": 13.037, \"len_itemset\": 2}, {\"antecedent\": [\"Drowning (feat. Kodak Black)\"], \"consequent\": [\"HUMBLE.\"], \"confidence\": 0.606, \"support\": 0.012, \"lift\": 13.037, \"len_itemset\": 2}, {\"antecedent\": [\"Caroline\"], \"consequent\": [\"goosebumps\"], \"confidence\": 0.272, \"support\": 0.011, \"lift\": 8.825, \"len_itemset\": 2}, {\"antecedent\": [\"goosebumps\"], \"consequent\": [\"Caroline\"], \"confidence\": 0.344, \"support\": 0.011, \"lift\": 8.825, \"len_itemset\": 2}, {\"antecedent\": [\"Mask Off\"], \"consequent\": [\"Swang\"], \"confidence\": 0.354, \"support\": 0.011, \"lift\": 16.184, \"len_itemset\": 2}, {\"antecedent\": [\"Swang\"], \"consequent\": [\"Mask Off\"], \"confidence\": 0.511, \"support\": 0.011, \"lift\": 16.184, \"len_itemset\": 2}, {\"antecedent\": [\"Slippery (feat. Gucci Mane)\"], \"consequent\": [\"Tunnel Vision\"], \"confidence\": 0.466, \"support\": 0.011, \"lift\": 18.871, \"len_itemset\": 2}, {\"antecedent\": [\"Tunnel Vision\"], \"consequent\": [\"Slippery (feat. Gucci Mane)\"], \"confidence\": 0.445, \"support\": 0.011, \"lift\": 18.871, \"len_itemset\": 2}, {\"antecedent\": [\"XO TOUR Llif3\"], \"consequent\": [\"Congratulations\"], \"confidence\": 0.554, \"support\": 0.018, \"lift\": 13.751, \"len_itemset\": 2}, {\"antecedent\": [\"Congratulations\"], \"consequent\": [\"XO TOUR Llif3\"], \"confidence\": 0.444, \"support\": 0.018, \"lift\": 13.751, \"len_itemset\": 2}, {\"antecedent\": [\"Swang\"], \"consequent\": [\"iSpy (feat. Lil Yachty)\"], \"confidence\": 0.457, \"support\": 0.01, \"lift\": 13.795, \"len_itemset\": 2}, {\"antecedent\": [\"iSpy (feat. Lil Yachty)\"], \"consequent\": [\"Swang\"], \"confidence\": 0.302, \"support\": 0.01, \"lift\": 13.795, \"len_itemset\": 2}, {\"antecedent\": [\"Jumpman\"], \"consequent\": [\"Panda\"], \"confidence\": 0.394, \"support\": 0.011, \"lift\": 12.825, \"len_itemset\": 2}, {\"antecedent\": [\"Panda\"], \"consequent\": [\"Jumpman\"], \"confidence\": 0.368, \"support\": 0.011, \"lift\": 12.825, \"len_itemset\": 2}, {\"antecedent\": [\"Closer\"], \"consequent\": [\"One Dance\"], \"confidence\": 0.167, \"support\": 0.012, \"lift\": 4.072, \"len_itemset\": 2}, {\"antecedent\": [\"One Dance\"], \"consequent\": [\"Closer\"], \"confidence\": 0.294, \"support\": 0.012, \"lift\": 4.072, \"len_itemset\": 2}, {\"antecedent\": [\"Mask Off\"], \"consequent\": [\"Tunnel Vision\"], \"confidence\": 0.402, \"support\": 0.013, \"lift\": 16.271, \"len_itemset\": 2}, {\"antecedent\": [\"Tunnel Vision\"], \"consequent\": [\"Mask Off\"], \"confidence\": 0.514, \"support\": 0.013, \"lift\": 16.271, \"len_itemset\": 2}, {\"antecedent\": [\"goosebumps\"], \"consequent\": [\"T-Shirt\"], \"confidence\": 0.383, \"support\": 0.012, \"lift\": 10.915, \"len_itemset\": 2}, {\"antecedent\": [\"T-Shirt\"], \"consequent\": [\"goosebumps\"], \"confidence\": 0.336, \"support\": 0.012, \"lift\": 10.915, \"len_itemset\": 2}, {\"antecedent\": [\"Mask Off\"], \"consequent\": [\"DNA.\"], \"confidence\": 0.348, \"support\": 0.011, \"lift\": 15.069, \"len_itemset\": 2}, {\"antecedent\": [\"DNA.\"], \"consequent\": [\"Mask Off\"], \"confidence\": 0.476, \"support\": 0.011, \"lift\": 15.069, \"len_itemset\": 2}, {\"antecedent\": [\"goosebumps\"], \"consequent\": [\"Swang\"], \"confidence\": 0.344, \"support\": 0.011, \"lift\": 15.715, \"len_itemset\": 2}, {\"antecedent\": [\"Swang\"], \"consequent\": [\"goosebumps\"], \"confidence\": 0.484, \"support\": 0.011, \"lift\": 15.715, \"len_itemset\": 2}, {\"antecedent\": [\"Bounce Back\"], \"consequent\": [\"Congratulations\"], \"confidence\": 0.458, \"support\": 0.014, \"lift\": 11.363, \"len_itemset\": 2}, {\"antecedent\": [\"Congratulations\"], \"consequent\": [\"Bounce Back\"], \"confidence\": 0.337, \"support\": 0.014, \"lift\": 11.363, \"len_itemset\": 2}, {\"antecedent\": [\"goosebumps\"], \"consequent\": [\"Fake Love\"], \"confidence\": 0.328, \"support\": 0.01, \"lift\": 11.041, \"len_itemset\": 2}, {\"antecedent\": [\"Fake Love\"], \"consequent\": [\"goosebumps\"], \"confidence\": 0.34, \"support\": 0.01, \"lift\": 11.041, \"len_itemset\": 2}, {\"antecedent\": [\"goosebumps\"], \"consequent\": [\"Slippery (feat. Gucci Mane)\"], \"confidence\": 0.406, \"support\": 0.012, \"lift\": 17.197, \"len_itemset\": 2}, {\"antecedent\": [\"Slippery (feat. Gucci Mane)\"], \"consequent\": [\"goosebumps\"], \"confidence\": 0.53, \"support\": 0.012, \"lift\": 17.197, \"len_itemset\": 2}, {\"antecedent\": [\"Closer\"], \"consequent\": [\"Let Me Love You\"], \"confidence\": 0.22, \"support\": 0.016, \"lift\": 5.757, \"len_itemset\": 2}, {\"antecedent\": [\"Let Me Love You\"], \"consequent\": [\"Closer\"], \"confidence\": 0.416, \"support\": 0.016, \"lift\": 5.757, \"len_itemset\": 2}, {\"antecedent\": [\"Closer\"], \"consequent\": [\"Don't Let Me Down\"], \"confidence\": 0.206, \"support\": 0.015, \"lift\": 6.501, \"len_itemset\": 2}, {\"antecedent\": [\"Don't Let Me Down\"], \"consequent\": [\"Closer\"], \"confidence\": 0.47, \"support\": 0.015, \"lift\": 6.501, \"len_itemset\": 2}, {\"antecedent\": [\"XO TOUR Llif3\"], \"consequent\": [\"Portland\"], \"confidence\": 0.316, \"support\": 0.01, \"lift\": 18.36, \"len_itemset\": 2}, {\"antecedent\": [\"Portland\"], \"consequent\": [\"XO TOUR Llif3\"], \"confidence\": 0.593, \"support\": 0.01, \"lift\": 18.36, \"len_itemset\": 2}, {\"antecedent\": [\"Congratulations\"], \"consequent\": [\"iSpy (feat. Lil Yachty)\"], \"confidence\": 0.402, \"support\": 0.016, \"lift\": 12.145, \"len_itemset\": 2}, {\"antecedent\": [\"iSpy (feat. Lil Yachty)\"], \"consequent\": [\"Congratulations\"], \"confidence\": 0.489, \"support\": 0.016, \"lift\": 12.145, \"len_itemset\": 2}, {\"antecedent\": [\"Congratulations\"], \"consequent\": [\"Fake Love\"], \"confidence\": 0.263, \"support\": 0.011, \"lift\": 8.856, \"len_itemset\": 2}, {\"antecedent\": [\"Fake Love\"], \"consequent\": [\"Congratulations\"], \"confidence\": 0.357, \"support\": 0.011, \"lift\": 8.856, \"len_itemset\": 2}, {\"antecedent\": [\"XO TOUR Llif3\"], \"consequent\": [\"Tunnel Vision\"], \"confidence\": 0.421, \"support\": 0.014, \"lift\": 17.047, \"len_itemset\": 2}, {\"antecedent\": [\"Tunnel Vision\"], \"consequent\": [\"XO TOUR Llif3\"], \"confidence\": 0.551, \"support\": 0.014, \"lift\": 17.047, \"len_itemset\": 2}, {\"antecedent\": [\"XO TOUR Llif3\"], \"consequent\": [\"DNA.\"], \"confidence\": 0.365, \"support\": 0.012, \"lift\": 15.815, \"len_itemset\": 2}, {\"antecedent\": [\"DNA.\"], \"consequent\": [\"XO TOUR Llif3\"], \"confidence\": 0.511, \"support\": 0.012, \"lift\": 15.815, \"len_itemset\": 2}, {\"antecedent\": [\"Bank Account\"], \"consequent\": [\"XO TOUR Llif3\"], \"confidence\": 0.557, \"support\": 0.013, \"lift\": 17.23, \"len_itemset\": 2}, {\"antecedent\": [\"XO TOUR Llif3\"], \"consequent\": [\"Bank Account\"], \"confidence\": 0.396, \"support\": 0.013, \"lift\": 17.23, \"len_itemset\": 2}, {\"antecedent\": [\"Closer\"], \"consequent\": [\"Broccoli (feat. Lil Yachty)\"], \"confidence\": 0.148, \"support\": 0.011, \"lift\": 3.709, \"len_itemset\": 2}, {\"antecedent\": [\"Broccoli (feat. Lil Yachty)\"], \"consequent\": [\"Closer\"], \"confidence\": 0.268, \"support\": 0.011, \"lift\": 3.709, \"len_itemset\": 2}, {\"antecedent\": [\"goosebumps\"], \"consequent\": [\"pick up the phone\"], \"confidence\": 0.334, \"support\": 0.01, \"lift\": 17.062, \"len_itemset\": 2}, {\"antecedent\": [\"pick up the phone\"], \"consequent\": [\"goosebumps\"], \"confidence\": 0.526, \"support\": 0.01, \"lift\": 17.062, \"len_itemset\": 2}, {\"antecedent\": [\"Closer\"], \"consequent\": [\"This Is What You Came For\"], \"confidence\": 0.144, \"support\": 0.01, \"lift\": 6.69, \"len_itemset\": 2}, {\"antecedent\": [\"This Is What You Came For\"], \"consequent\": [\"Closer\"], \"confidence\": 0.484, \"support\": 0.01, \"lift\": 6.69, \"len_itemset\": 2}, {\"antecedent\": [\"HUMBLE.\"], \"consequent\": [\"1-800-273-8255\"], \"confidence\": 0.23, \"support\": 0.011, \"lift\": 8.716, \"len_itemset\": 2}, {\"antecedent\": [\"1-800-273-8255\"], \"consequent\": [\"HUMBLE.\"], \"confidence\": 0.405, \"support\": 0.011, \"lift\": 8.716, \"len_itemset\": 2}, {\"antecedent\": [\"Slippery (feat. Gucci Mane)\"], \"consequent\": [\"T-Shirt\"], \"confidence\": 0.47, \"support\": 0.011, \"lift\": 13.4, \"len_itemset\": 2}, {\"antecedent\": [\"T-Shirt\"], \"consequent\": [\"Slippery (feat. Gucci Mane)\"], \"confidence\": 0.316, \"support\": 0.011, \"lift\": 13.4, \"len_itemset\": 2}, {\"antecedent\": [\"Bank Account\"], \"consequent\": [\"goosebumps\"], \"confidence\": 0.435, \"support\": 0.01, \"lift\": 14.116, \"len_itemset\": 2}, {\"antecedent\": [\"goosebumps\"], \"consequent\": [\"Bank Account\"], \"confidence\": 0.325, \"support\": 0.01, \"lift\": 14.116, \"len_itemset\": 2}, {\"antecedent\": [\"Bounce Back\"], \"consequent\": [\"Bad and Boujee (feat. Lil Uzi Vert)\"], \"confidence\": 0.569, \"support\": 0.017, \"lift\": 16.493, \"len_itemset\": 2}, {\"antecedent\": [\"Bad and Boujee (feat. Lil Uzi Vert)\"], \"consequent\": [\"Bounce Back\"], \"confidence\": 0.49, \"support\": 0.017, \"lift\": 16.493, \"len_itemset\": 2}, {\"antecedent\": [\"Chill Bill\"], \"consequent\": [\"Bad and Boujee (feat. Lil Uzi Vert)\"], \"confidence\": 0.456, \"support\": 0.01, \"lift\": 13.221, \"len_itemset\": 2}, {\"antecedent\": [\"Bad and Boujee (feat. Lil Uzi Vert)\"], \"consequent\": [\"Chill Bill\"], \"confidence\": 0.301, \"support\": 0.01, \"lift\": 13.221, \"len_itemset\": 2}, {\"antecedent\": [\"HUMBLE.\"], \"consequent\": [\"Bad and Boujee (feat. Lil Uzi Vert)\"], \"confidence\": 0.359, \"support\": 0.017, \"lift\": 10.41, \"len_itemset\": 2}, {\"antecedent\": [\"Bad and Boujee (feat. Lil Uzi Vert)\"], \"consequent\": [\"HUMBLE.\"], \"confidence\": 0.484, \"support\": 0.017, \"lift\": 10.41, \"len_itemset\": 2}, {\"antecedent\": [\"T-Shirt\"], \"consequent\": [\"Congratulations\"], \"confidence\": 0.328, \"support\": 0.012, \"lift\": 8.13, \"len_itemset\": 2}, {\"antecedent\": [\"Congratulations\"], \"consequent\": [\"T-Shirt\"], \"confidence\": 0.285, \"support\": 0.012, \"lift\": 8.13, \"len_itemset\": 2}, {\"antecedent\": [\"Bounce Back\"], \"consequent\": [\"No Problem (feat. Lil Wayne & 2 Chainz)\"], \"confidence\": 0.364, \"support\": 0.011, \"lift\": 11.328, \"len_itemset\": 2}, {\"antecedent\": [\"No Problem (feat. Lil Wayne & 2 Chainz)\"], \"consequent\": [\"Bounce Back\"], \"confidence\": 0.336, \"support\": 0.011, \"lift\": 11.328, \"len_itemset\": 2}, {\"antecedent\": [\"goosebumps\"], \"consequent\": [\"Congratulations\"], \"confidence\": 0.503, \"support\": 0.016, \"lift\": 12.488, \"len_itemset\": 2}, {\"antecedent\": [\"Congratulations\"], \"consequent\": [\"goosebumps\"], \"confidence\": 0.385, \"support\": 0.016, \"lift\": 12.488, \"len_itemset\": 2}, {\"antecedent\": [\"Mask Off\"], \"consequent\": [\"Fake Love\"], \"confidence\": 0.316, \"support\": 0.01, \"lift\": 10.655, \"len_itemset\": 2}, {\"antecedent\": [\"Fake Love\"], \"consequent\": [\"Mask Off\"], \"confidence\": 0.337, \"support\": 0.01, \"lift\": 10.655, \"len_itemset\": 2}, {\"antecedent\": [\"One Dance\"], \"consequent\": [\"Too Good\"], \"confidence\": 0.321, \"support\": 0.013, \"lift\": 15.899, \"len_itemset\": 2}, {\"antecedent\": [\"Too Good\"], \"consequent\": [\"One Dance\"], \"confidence\": 0.653, \"support\": 0.013, \"lift\": 15.899, \"len_itemset\": 2}, {\"antecedent\": [\"Sorry\"], \"consequent\": [\"Love Yourself\"], \"confidence\": 0.368, \"support\": 0.012, \"lift\": 16.955, \"len_itemset\": 2}, {\"antecedent\": [\"Love Yourself\"], \"consequent\": [\"Sorry\"], \"confidence\": 0.539, \"support\": 0.012, \"lift\": 16.955, \"len_itemset\": 2}, {\"antecedent\": [\"Closer\"], \"consequent\": [\"Ride\"], \"confidence\": 0.163, \"support\": 0.012, \"lift\": 3.942, \"len_itemset\": 2}, {\"antecedent\": [\"Ride\"], \"consequent\": [\"Closer\"], \"confidence\": 0.285, \"support\": 0.012, \"lift\": 3.942, \"len_itemset\": 2}, {\"antecedent\": [\"XO TOUR Llif3\"], \"consequent\": [\"Swang\"], \"confidence\": 0.35, \"support\": 0.011, \"lift\": 15.975, \"len_itemset\": 2}, {\"antecedent\": [\"Swang\"], \"consequent\": [\"XO TOUR Llif3\"], \"confidence\": 0.516, \"support\": 0.011, \"lift\": 15.975, \"len_itemset\": 2}, {\"antecedent\": [\"No Problem (feat. Lil Wayne & 2 Chainz)\"], \"consequent\": [\"Congratulations\"], \"confidence\": 0.312, \"support\": 0.01, \"lift\": 7.73, \"len_itemset\": 2}, {\"antecedent\": [\"Congratulations\"], \"consequent\": [\"No Problem (feat. Lil Wayne & 2 Chainz)\"], \"confidence\": 0.248, \"support\": 0.01, \"lift\": 7.73, \"len_itemset\": 2}, {\"antecedent\": [\"XO TOUR Llif3\"], \"consequent\": [\"Slippery (feat. Gucci Mane)\"], \"confidence\": 0.409, \"support\": 0.013, \"lift\": 17.316, \"len_itemset\": 2}, {\"antecedent\": [\"Slippery (feat. Gucci Mane)\"], \"consequent\": [\"XO TOUR Llif3\"], \"confidence\": 0.559, \"support\": 0.013, \"lift\": 17.316, \"len_itemset\": 2}, {\"antecedent\": [\"HUMBLE.\"], \"consequent\": [\"Butterfly Effect\"], \"confidence\": 0.217, \"support\": 0.01, \"lift\": 11.196, \"len_itemset\": 2}, {\"antecedent\": [\"Butterfly Effect\"], \"consequent\": [\"HUMBLE.\"], \"confidence\": 0.521, \"support\": 0.01, \"lift\": 11.196, \"len_itemset\": 2}, {\"antecedent\": [\"HUMBLE.\"], \"consequent\": [\"Tunnel Vision\"], \"confidence\": 0.299, \"support\": 0.014, \"lift\": 12.102, \"len_itemset\": 2}, {\"antecedent\": [\"Tunnel Vision\"], \"consequent\": [\"HUMBLE.\"], \"confidence\": 0.563, \"support\": 0.014, \"lift\": 12.102, \"len_itemset\": 2}, {\"antecedent\": [\"Fake Love\"], \"consequent\": [\"Bad and Boujee (feat. Lil Uzi Vert)\"], \"confidence\": 0.465, \"support\": 0.014, \"lift\": 13.468, \"len_itemset\": 2}, {\"antecedent\": [\"Bad and Boujee (feat. Lil Uzi Vert)\"], \"consequent\": [\"Fake Love\"], \"confidence\": 0.4, \"support\": 0.014, \"lift\": 13.468, \"len_itemset\": 2}, {\"antecedent\": [\"XO TOUR Llif3\"], \"consequent\": [\"T-Shirt\"], \"confidence\": 0.341, \"support\": 0.011, \"lift\": 9.702, \"len_itemset\": 2}, {\"antecedent\": [\"T-Shirt\"], \"consequent\": [\"XO TOUR Llif3\"], \"confidence\": 0.313, \"support\": 0.011, \"lift\": 9.702, \"len_itemset\": 2}, {\"antecedent\": [\"HUMBLE.\"], \"consequent\": [\"I'm the One\"], \"confidence\": 0.299, \"support\": 0.014, \"lift\": 9.371, \"len_itemset\": 2}, {\"antecedent\": [\"I'm the One\"], \"consequent\": [\"HUMBLE.\"], \"confidence\": 0.436, \"support\": 0.014, \"lift\": 9.371, \"len_itemset\": 2}, {\"antecedent\": [\"HUMBLE.\"], \"consequent\": [\"Bounce Back\"], \"confidence\": 0.335, \"support\": 0.016, \"lift\": 11.296, \"len_itemset\": 2}, {\"antecedent\": [\"Bounce Back\"], \"consequent\": [\"HUMBLE.\"], \"confidence\": 0.525, \"support\": 0.016, \"lift\": 11.296, \"len_itemset\": 2}, {\"antecedent\": [\"No Heart\"], \"consequent\": [\"X (feat. Future)\"], \"confidence\": 0.696, \"support\": 0.01, \"lift\": 34.115, \"len_itemset\": 2}, {\"antecedent\": [\"X (feat. Future)\"], \"consequent\": [\"No Heart\"], \"confidence\": 0.505, \"support\": 0.01, \"lift\": 34.115, \"len_itemset\": 2}, {\"antecedent\": [\"Congratulations\"], \"consequent\": [\"Bad and Boujee (feat. Lil Uzi Vert)\"], \"confidence\": 0.37, \"support\": 0.015, \"lift\": 10.717, \"len_itemset\": 2}, {\"antecedent\": [\"Bad and Boujee (feat. Lil Uzi Vert)\"], \"consequent\": [\"Congratulations\"], \"confidence\": 0.432, \"support\": 0.015, \"lift\": 10.717, \"len_itemset\": 2}, {\"antecedent\": [\"Cold Water (feat. Justin Bieber & M\\u00d8)\"], \"consequent\": [\"Let Me Love You\"], \"confidence\": 0.491, \"support\": 0.012, \"lift\": 12.865, \"len_itemset\": 2}, {\"antecedent\": [\"Let Me Love You\"], \"consequent\": [\"Cold Water (feat. Justin Bieber & M\\u00d8)\"], \"confidence\": 0.301, \"support\": 0.012, \"lift\": 12.865, \"len_itemset\": 2}, {\"antecedent\": [\"HUMBLE.\"], \"consequent\": [\"Portland\"], \"confidence\": 0.228, \"support\": 0.011, \"lift\": 13.253, \"len_itemset\": 2}, {\"antecedent\": [\"Portland\"], \"consequent\": [\"HUMBLE.\"], \"confidence\": 0.616, \"support\": 0.011, \"lift\": 13.253, \"len_itemset\": 2}, {\"antecedent\": [\"Caroline\"], \"consequent\": [\"Mask Off\"], \"confidence\": 0.259, \"support\": 0.01, \"lift\": 8.195, \"len_itemset\": 2}, {\"antecedent\": [\"Mask Off\"], \"consequent\": [\"Caroline\"], \"confidence\": 0.32, \"support\": 0.01, \"lift\": 8.195, \"len_itemset\": 2}, {\"antecedent\": [\"Wet Dreamz\"], \"consequent\": [\"No Role Modelz\"], \"confidence\": 0.529, \"support\": 0.01, \"lift\": 17.013, \"len_itemset\": 2}, {\"antecedent\": [\"No Role Modelz\"], \"consequent\": [\"Wet Dreamz\"], \"confidence\": 0.322, \"support\": 0.01, \"lift\": 17.013, \"len_itemset\": 2}, {\"antecedent\": [\"HUMBLE.\"], \"consequent\": [\"Passionfruit\"], \"confidence\": 0.265, \"support\": 0.012, \"lift\": 10.414, \"len_itemset\": 2}, {\"antecedent\": [\"Passionfruit\"], \"consequent\": [\"HUMBLE.\"], \"confidence\": 0.484, \"support\": 0.012, \"lift\": 10.414, \"len_itemset\": 2}, {\"antecedent\": [\"Slippery (feat. Gucci Mane)\"], \"consequent\": [\"Mask Off\"], \"confidence\": 0.534, \"support\": 0.013, \"lift\": 16.896, \"len_itemset\": 2}, {\"antecedent\": [\"Mask Off\"], \"consequent\": [\"Slippery (feat. Gucci Mane)\"], \"confidence\": 0.399, \"support\": 0.013, \"lift\": 16.896, \"len_itemset\": 2}, {\"antecedent\": [\"Mask Off\"], \"consequent\": [\"Congratulations\"], \"confidence\": 0.513, \"support\": 0.016, \"lift\": 12.721, \"len_itemset\": 2}, {\"antecedent\": [\"Congratulations\"], \"consequent\": [\"Mask Off\"], \"confidence\": 0.402, \"support\": 0.016, \"lift\": 12.721, \"len_itemset\": 2}, {\"antecedent\": [\"Caroline\"], \"consequent\": [\"Congratulations\"], \"confidence\": 0.297, \"support\": 0.012, \"lift\": 7.381, \"len_itemset\": 2}, {\"antecedent\": [\"Congratulations\"], \"consequent\": [\"Caroline\"], \"confidence\": 0.288, \"support\": 0.012, \"lift\": 7.381, \"len_itemset\": 2}, {\"antecedent\": [\"HUMBLE.\"], \"consequent\": [\"No Problem (feat. Lil Wayne & 2 Chainz)\"], \"confidence\": 0.256, \"support\": 0.012, \"lift\": 7.972, \"len_itemset\": 2}, {\"antecedent\": [\"No Problem (feat. Lil Wayne & 2 Chainz)\"], \"consequent\": [\"HUMBLE.\"], \"confidence\": 0.371, \"support\": 0.012, \"lift\": 7.972, \"len_itemset\": 2}, {\"antecedent\": [\"Closer\"], \"consequent\": [\"Starving\"], \"confidence\": 0.155, \"support\": 0.011, \"lift\": 8.559, \"len_itemset\": 2}, {\"antecedent\": [\"Starving\"], \"consequent\": [\"Closer\"], \"confidence\": 0.619, \"support\": 0.011, \"lift\": 8.559, \"len_itemset\": 2}, {\"antecedent\": [\"XO TOUR Llif3\"], \"consequent\": [\"Mask Off\"], \"confidence\": 0.505, \"support\": 0.016, \"lift\": 15.97, \"len_itemset\": 2}, {\"antecedent\": [\"Mask Off\"], \"consequent\": [\"XO TOUR Llif3\"], \"confidence\": 0.516, \"support\": 0.016, \"lift\": 15.97, \"len_itemset\": 2}, {\"antecedent\": [\"T-Shirt\"], \"consequent\": [\"Mask Off\"], \"confidence\": 0.333, \"support\": 0.012, \"lift\": 10.549, \"len_itemset\": 2}, {\"antecedent\": [\"Mask Off\"], \"consequent\": [\"T-Shirt\"], \"confidence\": 0.37, \"support\": 0.012, \"lift\": 10.549, \"len_itemset\": 2}, {\"antecedent\": [\"Bounce Back\"], \"consequent\": [\"Broccoli (feat. Lil Yachty)\"], \"confidence\": 0.434, \"support\": 0.013, \"lift\": 10.886, \"len_itemset\": 2}, {\"antecedent\": [\"Broccoli (feat. Lil Yachty)\"], \"consequent\": [\"Bounce Back\"], \"confidence\": 0.323, \"support\": 0.013, \"lift\": 10.886, \"len_itemset\": 2}, {\"antecedent\": [\"HUMBLE.\"], \"consequent\": [\"T-Shirt\"], \"confidence\": 0.267, \"support\": 0.012, \"lift\": 7.597, \"len_itemset\": 2}, {\"antecedent\": [\"T-Shirt\"], \"consequent\": [\"HUMBLE.\"], \"confidence\": 0.353, \"support\": 0.012, \"lift\": 7.597, \"len_itemset\": 2}, {\"antecedent\": [\"goosebumps\"], \"consequent\": [\"Mask Off\"], \"confidence\": 0.481, \"support\": 0.015, \"lift\": 15.206, \"len_itemset\": 2}, {\"antecedent\": [\"Mask Off\"], \"consequent\": [\"goosebumps\"], \"confidence\": 0.468, \"support\": 0.015, \"lift\": 15.206, \"len_itemset\": 2}, {\"antecedent\": [\"XO TOUR Llif3\"], \"consequent\": [\"I'm the One\"], \"confidence\": 0.322, \"support\": 0.01, \"lift\": 10.093, \"len_itemset\": 2}, {\"antecedent\": [\"I'm the One\"], \"consequent\": [\"XO TOUR Llif3\"], \"confidence\": 0.326, \"support\": 0.01, \"lift\": 10.093, \"len_itemset\": 2}, {\"antecedent\": [\"XO TOUR Llif3\"], \"consequent\": [\"Bad and Boujee (feat. Lil Uzi Vert)\"], \"confidence\": 0.406, \"support\": 0.013, \"lift\": 11.756, \"len_itemset\": 2}, {\"antecedent\": [\"Bad and Boujee (feat. Lil Uzi Vert)\"], \"consequent\": [\"XO TOUR Llif3\"], \"confidence\": 0.38, \"support\": 0.013, \"lift\": 11.756, \"len_itemset\": 2}, {\"antecedent\": [\"Roses\"], \"consequent\": [\"Don't Let Me Down\"], \"confidence\": 0.262, \"support\": 0.011, \"lift\": 8.258, \"len_itemset\": 2}, {\"antecedent\": [\"Don't Let Me Down\"], \"consequent\": [\"Roses\"], \"confidence\": 0.35, \"support\": 0.011, \"lift\": 8.258, \"len_itemset\": 2}, {\"antecedent\": [\"No Problem (feat. Lil Wayne & 2 Chainz)\"], \"consequent\": [\"Fake Love\"], \"confidence\": 0.318, \"support\": 0.01, \"lift\": 10.699, \"len_itemset\": 2}, {\"antecedent\": [\"Fake Love\"], \"consequent\": [\"No Problem (feat. Lil Wayne & 2 Chainz)\"], \"confidence\": 0.343, \"support\": 0.01, \"lift\": 10.699, \"len_itemset\": 2}, {\"antecedent\": [\"Congratulations\"], \"consequent\": [\"Unforgettable\"], \"confidence\": 0.258, \"support\": 0.01, \"lift\": 7.916, \"len_itemset\": 2}, {\"antecedent\": [\"Unforgettable\"], \"consequent\": [\"Congratulations\"], \"confidence\": 0.319, \"support\": 0.01, \"lift\": 7.916, \"len_itemset\": 2}, {\"antecedent\": [\"Mask Off\"], \"consequent\": [\"Broccoli (feat. Lil Yachty)\"], \"confidence\": 0.329, \"support\": 0.01, \"lift\": 8.248, \"len_itemset\": 2}, {\"antecedent\": [\"Broccoli (feat. Lil Yachty)\"], \"consequent\": [\"Mask Off\"], \"confidence\": 0.261, \"support\": 0.01, \"lift\": 8.248, \"len_itemset\": 2}, {\"antecedent\": [\"Fake Love\"], \"consequent\": [\"iSpy (feat. Lil Yachty)\"], \"confidence\": 0.384, \"support\": 0.011, \"lift\": 11.596, \"len_itemset\": 2}, {\"antecedent\": [\"iSpy (feat. Lil Yachty)\"], \"consequent\": [\"Fake Love\"], \"confidence\": 0.344, \"support\": 0.011, \"lift\": 11.596, \"len_itemset\": 2}, {\"antecedent\": [\"One Dance\"], \"consequent\": [\"Broccoli (feat. Lil Yachty)\"], \"confidence\": 0.294, \"support\": 0.012, \"lift\": 7.379, \"len_itemset\": 2}, {\"antecedent\": [\"Broccoli (feat. Lil Yachty)\"], \"consequent\": [\"One Dance\"], \"confidence\": 0.303, \"support\": 0.012, \"lift\": 7.379, \"len_itemset\": 2}, {\"antecedent\": [\"HUMBLE.\"], \"consequent\": [\"Magnolia\"], \"confidence\": 0.232, \"support\": 0.011, \"lift\": 11.73, \"len_itemset\": 2}, {\"antecedent\": [\"Magnolia\"], \"consequent\": [\"HUMBLE.\"], \"confidence\": 0.545, \"support\": 0.011, \"lift\": 11.73, \"len_itemset\": 2}, {\"antecedent\": [\"Congratulations\"], \"consequent\": [\"I'm the One\"], \"confidence\": 0.29, \"support\": 0.012, \"lift\": 9.101, \"len_itemset\": 2}, {\"antecedent\": [\"I'm the One\"], \"consequent\": [\"Congratulations\"], \"confidence\": 0.367, \"support\": 0.012, \"lift\": 9.101, \"len_itemset\": 2}, {\"antecedent\": [\"Caroline\"], \"consequent\": [\"Broccoli (feat. Lil Yachty)\"], \"confidence\": 0.441, \"support\": 0.017, \"lift\": 11.053, \"len_itemset\": 2}, {\"antecedent\": [\"Broccoli (feat. Lil Yachty)\"], \"consequent\": [\"Caroline\"], \"confidence\": 0.431, \"support\": 0.017, \"lift\": 11.053, \"len_itemset\": 2}, {\"antecedent\": [\"HUMBLE.\"], \"consequent\": [\"iSpy (feat. Lil Yachty)\"], \"confidence\": 0.333, \"support\": 0.016, \"lift\": 10.07, \"len_itemset\": 2}, {\"antecedent\": [\"iSpy (feat. Lil Yachty)\"], \"consequent\": [\"HUMBLE.\"], \"confidence\": 0.468, \"support\": 0.016, \"lift\": 10.07, \"len_itemset\": 2}, {\"antecedent\": [\"goosebumps\"], \"consequent\": [\"Bad and Boujee (feat. Lil Uzi Vert)\"], \"confidence\": 0.432, \"support\": 0.013, \"lift\": 12.516, \"len_itemset\": 2}, {\"antecedent\": [\"Bad and Boujee (feat. Lil Uzi Vert)\"], \"consequent\": [\"goosebumps\"], \"confidence\": 0.386, \"support\": 0.013, \"lift\": 12.516, \"len_itemset\": 2}, {\"antecedent\": [\"Bounce Back\"], \"consequent\": [\"Black Beatles\"], \"confidence\": 0.384, \"support\": 0.011, \"lift\": 13.468, \"len_itemset\": 2}, {\"antecedent\": [\"Black Beatles\"], \"consequent\": [\"Bounce Back\"], \"confidence\": 0.4, \"support\": 0.011, \"lift\": 13.468, \"len_itemset\": 2}, {\"antecedent\": [\"Closer\"], \"consequent\": [\"Paris\"], \"confidence\": 0.141, \"support\": 0.01, \"lift\": 5.447, \"len_itemset\": 2}, {\"antecedent\": [\"Paris\"], \"consequent\": [\"Closer\"], \"confidence\": 0.394, \"support\": 0.01, \"lift\": 5.447, \"len_itemset\": 2}, {\"antecedent\": [\"HUMBLE.\"], \"consequent\": [\"DNA.\"], \"confidence\": 0.409, \"support\": 0.019, \"lift\": 17.688, \"len_itemset\": 2}, {\"antecedent\": [\"DNA.\"], \"consequent\": [\"HUMBLE.\"], \"confidence\": 0.823, \"support\": 0.019, \"lift\": 17.688, \"len_itemset\": 2}, {\"antecedent\": [\"T-Shirt\"], \"consequent\": [\"Tunnel Vision\"], \"confidence\": 0.305, \"support\": 0.011, \"lift\": 12.342, \"len_itemset\": 2}, {\"antecedent\": [\"Tunnel Vision\"], \"consequent\": [\"T-Shirt\"], \"confidence\": 0.433, \"support\": 0.011, \"lift\": 12.342, \"len_itemset\": 2}, {\"antecedent\": [\"iSpy (feat. Lil Yachty)\"], \"consequent\": [\"Bad and Boujee (feat. Lil Uzi Vert)\"], \"confidence\": 0.459, \"support\": 0.015, \"lift\": 13.311, \"len_itemset\": 2}, {\"antecedent\": [\"Bad and Boujee (feat. Lil Uzi Vert)\"], \"consequent\": [\"iSpy (feat. Lil Yachty)\"], \"confidence\": 0.441, \"support\": 0.015, \"lift\": 13.311, \"len_itemset\": 2}, {\"antecedent\": [\"goosebumps\"], \"consequent\": [\"XO TOUR Llif3\", \"Mask Off\"], \"confidence\": 0.328, \"support\": 0.01, \"lift\": 20.118, \"len_itemset\": 3}, {\"antecedent\": [\"XO TOUR Llif3\"], \"consequent\": [\"goosebumps\", \"Mask Off\"], \"confidence\": 0.313, \"support\": 0.01, \"lift\": 21.128, \"len_itemset\": 3}, {\"antecedent\": [\"Mask Off\"], \"consequent\": [\"goosebumps\", \"XO TOUR Llif3\"], \"confidence\": 0.32, \"support\": 0.01, \"lift\": 21.028, \"len_itemset\": 3}, {\"antecedent\": [\"goosebumps\", \"XO TOUR Llif3\"], \"consequent\": [\"Mask Off\"], \"confidence\": 0.664, \"support\": 0.01, \"lift\": 21.028, \"len_itemset\": 3}, {\"antecedent\": [\"goosebumps\", \"Mask Off\"], \"consequent\": [\"XO TOUR Llif3\"], \"confidence\": 0.682, \"support\": 0.01, \"lift\": 21.128, \"len_itemset\": 3}, {\"antecedent\": [\"XO TOUR Llif3\", \"Mask Off\"], \"consequent\": [\"goosebumps\"], \"confidence\": 0.62, \"support\": 0.01, \"lift\": 20.118, \"len_itemset\": 3}, {\"antecedent\": [\"XO TOUR Llif3\"], \"consequent\": [\"Mask Off\", \"Congratulations\"], \"confidence\": 0.331, \"support\": 0.011, \"lift\": 20.449, \"len_itemset\": 3}, {\"antecedent\": [\"Mask Off\"], \"consequent\": [\"XO TOUR Llif3\", \"Congratulations\"], \"confidence\": 0.339, \"support\": 0.011, \"lift\": 18.917, \"len_itemset\": 3}, {\"antecedent\": [\"Congratulations\"], \"consequent\": [\"XO TOUR Llif3\", \"Mask Off\"], \"confidence\": 0.266, \"support\": 0.011, \"lift\": 16.289, \"len_itemset\": 3}, {\"antecedent\": [\"XO TOUR Llif3\", \"Mask Off\"], \"consequent\": [\"Congratulations\"], \"confidence\": 0.656, \"support\": 0.011, \"lift\": 16.289, \"len_itemset\": 3}, {\"antecedent\": [\"XO TOUR Llif3\", \"Congratulations\"], \"consequent\": [\"Mask Off\"], \"confidence\": 0.598, \"support\": 0.011, \"lift\": 18.917, \"len_itemset\": 3}, {\"antecedent\": [\"Mask Off\", \"Congratulations\"], \"consequent\": [\"XO TOUR Llif3\"], \"confidence\": 0.66, \"support\": 0.011, \"lift\": 20.449, \"len_itemset\": 3}, {\"antecedent\": [\"HUMBLE.\"], \"consequent\": [\"Congratulations\", \"iSpy (feat. Lil Yachty)\"], \"confidence\": 0.234, \"support\": 0.011, \"lift\": 14.47, \"len_itemset\": 3}, {\"antecedent\": [\"Congratulations\"], \"consequent\": [\"HUMBLE.\", \"iSpy (feat. Lil Yachty)\"], \"confidence\": 0.27, \"support\": 0.011, \"lift\": 17.45, \"len_itemset\": 3}, {\"antecedent\": [\"iSpy (feat. Lil Yachty)\"], \"consequent\": [\"HUMBLE.\", \"Congratulations\"], \"confidence\": 0.329, \"support\": 0.011, \"lift\": 15.388, \"len_itemset\": 3}, {\"antecedent\": [\"HUMBLE.\", \"Congratulations\"], \"consequent\": [\"iSpy (feat. Lil Yachty)\"], \"confidence\": 0.509, \"support\": 0.011, \"lift\": 15.388, \"len_itemset\": 3}, {\"antecedent\": [\"HUMBLE.\", \"iSpy (feat. Lil Yachty)\"], \"consequent\": [\"Congratulations\"], \"confidence\": 0.703, \"support\": 0.011, \"lift\": 17.45, \"len_itemset\": 3}, {\"antecedent\": [\"Congratulations\", \"iSpy (feat. Lil Yachty)\"], \"consequent\": [\"HUMBLE.\"], \"confidence\": 0.673, \"support\": 0.011, \"lift\": 14.47, \"len_itemset\": 3}, {\"antecedent\": [\"HUMBLE.\"], \"consequent\": [\"Mask Off\", \"iSpy (feat. Lil Yachty)\"], \"confidence\": 0.217, \"support\": 0.01, \"lift\": 14.776, \"len_itemset\": 3}, {\"antecedent\": [\"Mask Off\"], \"consequent\": [\"HUMBLE.\", \"iSpy (feat. Lil Yachty)\"], \"confidence\": 0.32, \"support\": 0.01, \"lift\": 20.621, \"len_itemset\": 3}, {\"antecedent\": [\"iSpy (feat. Lil Yachty)\"], \"consequent\": [\"HUMBLE.\", \"Mask Off\"], \"confidence\": 0.305, \"support\": 0.01, \"lift\": 14.958, \"len_itemset\": 3}, {\"antecedent\": [\"HUMBLE.\", \"Mask Off\"], \"consequent\": [\"iSpy (feat. Lil Yachty)\"], \"confidence\": 0.495, \"support\": 0.01, \"lift\": 14.958, \"len_itemset\": 3}, {\"antecedent\": [\"HUMBLE.\", \"iSpy (feat. Lil Yachty)\"], \"consequent\": [\"Mask Off\"], \"confidence\": 0.652, \"support\": 0.01, \"lift\": 20.621, \"len_itemset\": 3}, {\"antecedent\": [\"Mask Off\", \"iSpy (feat. Lil Yachty)\"], \"consequent\": [\"HUMBLE.\"], \"confidence\": 0.687, \"support\": 0.01, \"lift\": 14.776, \"len_itemset\": 3}, {\"antecedent\": [\"HUMBLE.\"], \"consequent\": [\"Congratulations\", \"Bad and Boujee (feat. Lil Uzi Vert)\"], \"confidence\": 0.217, \"support\": 0.01, \"lift\": 14.577, \"len_itemset\": 3}, {\"antecedent\": [\"Congratulations\"], \"consequent\": [\"HUMBLE.\", \"Bad and Boujee (feat. Lil Uzi Vert)\"], \"confidence\": 0.251, \"support\": 0.01, \"lift\": 15.007, \"len_itemset\": 3}, {\"antecedent\": [\"Bad and Boujee (feat. Lil Uzi Vert)\"], \"consequent\": [\"HUMBLE.\", \"Congratulations\"], \"confidence\": 0.293, \"support\": 0.01, \"lift\": 13.68, \"len_itemset\": 3}, {\"antecedent\": [\"HUMBLE.\", \"Congratulations\"], \"consequent\": [\"Bad and Boujee (feat. Lil Uzi Vert)\"], \"confidence\": 0.472, \"support\": 0.01, \"lift\": 13.68, \"len_itemset\": 3}, {\"antecedent\": [\"HUMBLE.\", \"Bad and Boujee (feat. Lil Uzi Vert)\"], \"consequent\": [\"Congratulations\"], \"confidence\": 0.605, \"support\": 0.01, \"lift\": 15.007, \"len_itemset\": 3}, {\"antecedent\": [\"Congratulations\", \"Bad and Boujee (feat. Lil Uzi Vert)\"], \"consequent\": [\"HUMBLE.\"], \"confidence\": 0.678, \"support\": 0.01, \"lift\": 14.577, \"len_itemset\": 3}, {\"antecedent\": [\"HUMBLE.\"], \"consequent\": [\"XO TOUR Llif3\", \"Slippery (feat. Gucci Mane)\"], \"confidence\": 0.217, \"support\": 0.01, \"lift\": 16.455, \"len_itemset\": 3}, {\"antecedent\": [\"XO TOUR Llif3\"], \"consequent\": [\"HUMBLE.\", \"Slippery (feat. Gucci Mane)\"], \"confidence\": 0.313, \"support\": 0.01, \"lift\": 21.128, \"len_itemset\": 3}, {\"antecedent\": [\"Slippery (feat. Gucci Mane)\"], \"consequent\": [\"HUMBLE.\", \"XO TOUR Llif3\"], \"confidence\": 0.428, \"support\": 0.01, \"lift\": 20.979, \"len_itemset\": 3}, {\"antecedent\": [\"HUMBLE.\", \"XO TOUR Llif3\"], \"consequent\": [\"Slippery (feat. Gucci Mane)\"], \"confidence\": 0.495, \"support\": 0.01, \"lift\": 20.979, \"len_itemset\": 3}, {\"antecedent\": [\"HUMBLE.\", \"Slippery (feat. Gucci Mane)\"], \"consequent\": [\"XO TOUR Llif3\"], \"confidence\": 0.682, \"support\": 0.01, \"lift\": 21.128, \"len_itemset\": 3}, {\"antecedent\": [\"XO TOUR Llif3\", \"Slippery (feat. Gucci Mane)\"], \"consequent\": [\"HUMBLE.\"], \"confidence\": 0.765, \"support\": 0.01, \"lift\": 16.455, \"len_itemset\": 3}, {\"antecedent\": [\"HUMBLE.\"], \"consequent\": [\"Bounce Back\", \"Mask Off\"], \"confidence\": 0.217, \"support\": 0.01, \"lift\": 15.971, \"len_itemset\": 3}, {\"antecedent\": [\"Bounce Back\"], \"consequent\": [\"HUMBLE.\", \"Mask Off\"], \"confidence\": 0.34, \"support\": 0.01, \"lift\": 16.67, \"len_itemset\": 3}, {\"antecedent\": [\"Mask Off\"], \"consequent\": [\"HUMBLE.\", \"Bounce Back\"], \"confidence\": 0.32, \"support\": 0.01, \"lift\": 20.488, \"len_itemset\": 3}, {\"antecedent\": [\"HUMBLE.\", \"Bounce Back\"], \"consequent\": [\"Mask Off\"], \"confidence\": 0.647, \"support\": 0.01, \"lift\": 20.488, \"len_itemset\": 3}, {\"antecedent\": [\"HUMBLE.\", \"Mask Off\"], \"consequent\": [\"Bounce Back\"], \"confidence\": 0.495, \"support\": 0.01, \"lift\": 16.67, \"len_itemset\": 3}, {\"antecedent\": [\"Bounce Back\", \"Mask Off\"], \"consequent\": [\"HUMBLE.\"], \"confidence\": 0.743, \"support\": 0.01, \"lift\": 15.971, \"len_itemset\": 3}, {\"antecedent\": [\"HUMBLE.\"], \"consequent\": [\"XO TOUR Llif3\", \"Tunnel Vision\"], \"confidence\": 0.219, \"support\": 0.01, \"lift\": 16.129, \"len_itemset\": 3}, {\"antecedent\": [\"XO TOUR Llif3\"], \"consequent\": [\"HUMBLE.\", \"Tunnel Vision\"], \"confidence\": 0.316, \"support\": 0.01, \"lift\": 22.719, \"len_itemset\": 3}, {\"antecedent\": [\"Tunnel Vision\"], \"consequent\": [\"HUMBLE.\", \"XO TOUR Llif3\"], \"confidence\": 0.413, \"support\": 0.01, \"lift\": 20.243, \"len_itemset\": 3}, {\"antecedent\": [\"HUMBLE.\", \"XO TOUR Llif3\"], \"consequent\": [\"Tunnel Vision\"], \"confidence\": 0.5, \"support\": 0.01, \"lift\": 20.243, \"len_itemset\": 3}, {\"antecedent\": [\"HUMBLE.\", \"Tunnel Vision\"], \"consequent\": [\"XO TOUR Llif3\"], \"confidence\": 0.734, \"support\": 0.01, \"lift\": 22.719, \"len_itemset\": 3}, {\"antecedent\": [\"XO TOUR Llif3\", \"Tunnel Vision\"], \"consequent\": [\"HUMBLE.\"], \"confidence\": 0.75, \"support\": 0.01, \"lift\": 16.129, \"len_itemset\": 3}, {\"antecedent\": [\"Bounce Back\"], \"consequent\": [\"Bad and Boujee (feat. Lil Uzi Vert)\", \"Broccoli (feat. Lil Yachty)\"], \"confidence\": 0.337, \"support\": 0.01, \"lift\": 21.723, \"len_itemset\": 3}, {\"antecedent\": [\"Broccoli (feat. Lil Yachty)\"], \"consequent\": [\"Bounce Back\", \"Bad and Boujee (feat. Lil Uzi Vert)\"], \"confidence\": 0.251, \"support\": 0.01, \"lift\": 14.83, \"len_itemset\": 3}, {\"antecedent\": [\"Bad and Boujee (feat. Lil Uzi Vert)\"], \"consequent\": [\"Bounce Back\", \"Broccoli (feat. Lil Yachty)\"], \"confidence\": 0.29, \"support\": 0.01, \"lift\": 22.469, \"len_itemset\": 3}, {\"antecedent\": [\"Bounce Back\", \"Broccoli (feat. Lil Yachty)\"], \"consequent\": [\"Bad and Boujee (feat. Lil Uzi Vert)\"], \"confidence\": 0.775, \"support\": 0.01, \"lift\": 22.469, \"len_itemset\": 3}, {\"antecedent\": [\"Bounce Back\", \"Bad and Boujee (feat. Lil Uzi Vert)\"], \"consequent\": [\"Broccoli (feat. Lil Yachty)\"], \"confidence\": 0.592, \"support\": 0.01, \"lift\": 14.83, \"len_itemset\": 3}, {\"antecedent\": [\"Bad and Boujee (feat. Lil Uzi Vert)\", \"Broccoli (feat. Lil Yachty)\"], \"consequent\": [\"Bounce Back\"], \"confidence\": 0.645, \"support\": 0.01, \"lift\": 21.723, \"len_itemset\": 3}, {\"antecedent\": [\"HUMBLE.\"], \"consequent\": [\"Mask Off\", \"DNA.\"], \"confidence\": 0.215, \"support\": 0.01, \"lift\": 19.55, \"len_itemset\": 3}, {\"antecedent\": [\"Mask Off\"], \"consequent\": [\"HUMBLE.\", \"DNA.\"], \"confidence\": 0.316, \"support\": 0.01, \"lift\": 16.656, \"len_itemset\": 3}, {\"antecedent\": [\"DNA.\"], \"consequent\": [\"HUMBLE.\", \"Mask Off\"], \"confidence\": 0.433, \"support\": 0.01, \"lift\": 21.221, \"len_itemset\": 3}, {\"antecedent\": [\"HUMBLE.\", \"Mask Off\"], \"consequent\": [\"DNA.\"], \"confidence\": 0.49, \"support\": 0.01, \"lift\": 21.221, \"len_itemset\": 3}, {\"antecedent\": [\"HUMBLE.\", \"DNA.\"], \"consequent\": [\"Mask Off\"], \"confidence\": 0.526, \"support\": 0.01, \"lift\": 16.656, \"len_itemset\": 3}, {\"antecedent\": [\"Mask Off\", \"DNA.\"], \"consequent\": [\"HUMBLE.\"], \"confidence\": 0.909, \"support\": 0.01, \"lift\": 19.55, \"len_itemset\": 3}, {\"antecedent\": [\"HUMBLE.\"], \"consequent\": [\"goosebumps\", \"Mask Off\"], \"confidence\": 0.237, \"support\": 0.011, \"lift\": 15.984, \"len_itemset\": 3}, {\"antecedent\": [\"goosebumps\"], \"consequent\": [\"HUMBLE.\", \"Mask Off\"], \"confidence\": 0.357, \"support\": 0.011, \"lift\": 17.507, \"len_itemset\": 3}, {\"antecedent\": [\"Mask Off\"], \"consequent\": [\"HUMBLE.\", \"goosebumps\"], \"confidence\": 0.348, \"support\": 0.011, \"lift\": 20.844, \"len_itemset\": 3}, {\"antecedent\": [\"HUMBLE.\", \"goosebumps\"], \"consequent\": [\"Mask Off\"], \"confidence\": 0.659, \"support\": 0.011, \"lift\": 20.844, \"len_itemset\": 3}, {\"antecedent\": [\"HUMBLE.\", \"Mask Off\"], \"consequent\": [\"goosebumps\"], \"confidence\": 0.539, \"support\": 0.011, \"lift\": 17.507, \"len_itemset\": 3}, {\"antecedent\": [\"goosebumps\", \"Mask Off\"], \"consequent\": [\"HUMBLE.\"], \"confidence\": 0.743, \"support\": 0.011, \"lift\": 15.984, \"len_itemset\": 3}, {\"antecedent\": [\"goosebumps\"], \"consequent\": [\"XO TOUR Llif3\", \"Congratulations\"], \"confidence\": 0.338, \"support\": 0.01, \"lift\": 18.864, \"len_itemset\": 3}, {\"antecedent\": [\"XO TOUR Llif3\"], \"consequent\": [\"goosebumps\", \"Congratulations\"], \"confidence\": 0.322, \"support\": 0.01, \"lift\": 20.773, \"len_itemset\": 3}, {\"antecedent\": [\"Congratulations\"], \"consequent\": [\"goosebumps\", \"XO TOUR Llif3\"], \"confidence\": 0.258, \"support\": 0.01, \"lift\": 16.978, \"len_itemset\": 3}, {\"antecedent\": [\"goosebumps\", \"XO TOUR Llif3\"], \"consequent\": [\"Congratulations\"], \"confidence\": 0.684, \"support\": 0.01, \"lift\": 16.978, \"len_itemset\": 3}, {\"antecedent\": [\"goosebumps\", \"Congratulations\"], \"consequent\": [\"XO TOUR Llif3\"], \"confidence\": 0.671, \"support\": 0.01, \"lift\": 20.773, \"len_itemset\": 3}, {\"antecedent\": [\"XO TOUR Llif3\", \"Congratulations\"], \"consequent\": [\"goosebumps\"], \"confidence\": 0.581, \"support\": 0.01, \"lift\": 18.864, \"len_itemset\": 3}, {\"antecedent\": [\"HUMBLE.\"], \"consequent\": [\"XO TOUR Llif3\", \"Congratulations\"], \"confidence\": 0.275, \"support\": 0.013, \"lift\": 15.378, \"len_itemset\": 3}, {\"antecedent\": [\"XO TOUR Llif3\"], \"consequent\": [\"HUMBLE.\", \"Congratulations\"], \"confidence\": 0.396, \"support\": 0.013, \"lift\": 18.518, \"len_itemset\": 3}, {\"antecedent\": [\"Congratulations\"], \"consequent\": [\"HUMBLE.\", \"XO TOUR Llif3\"], \"confidence\": 0.318, \"support\": 0.013, \"lift\": 15.57, \"len_itemset\": 3}, {\"antecedent\": [\"HUMBLE.\", \"XO TOUR Llif3\"], \"consequent\": [\"Congratulations\"], \"confidence\": 0.627, \"support\": 0.013, \"lift\": 15.57, \"len_itemset\": 3}, {\"antecedent\": [\"HUMBLE.\", \"Congratulations\"], \"consequent\": [\"XO TOUR Llif3\"], \"confidence\": 0.598, \"support\": 0.013, \"lift\": 18.518, \"len_itemset\": 3}, {\"antecedent\": [\"XO TOUR Llif3\", \"Congratulations\"], \"consequent\": [\"HUMBLE.\"], \"confidence\": 0.715, \"support\": 0.013, \"lift\": 15.378, \"len_itemset\": 3}, {\"antecedent\": [\"HUMBLE.\"], \"consequent\": [\"goosebumps\", \"Congratulations\"], \"confidence\": 0.241, \"support\": 0.011, \"lift\": 15.539, \"len_itemset\": 3}, {\"antecedent\": [\"goosebumps\"], \"consequent\": [\"HUMBLE.\", \"Congratulations\"], \"confidence\": 0.364, \"support\": 0.011, \"lift\": 16.992, \"len_itemset\": 3}, {\"antecedent\": [\"Congratulations\"], \"consequent\": [\"HUMBLE.\", \"goosebumps\"], \"confidence\": 0.278, \"support\": 0.011, \"lift\": 16.642, \"len_itemset\": 3}, {\"antecedent\": [\"HUMBLE.\", \"goosebumps\"], \"consequent\": [\"Congratulations\"], \"confidence\": 0.671, \"support\": 0.011, \"lift\": 16.642, \"len_itemset\": 3}, {\"antecedent\": [\"HUMBLE.\", \"Congratulations\"], \"consequent\": [\"goosebumps\"], \"confidence\": 0.523, \"support\": 0.011, \"lift\": 16.992, \"len_itemset\": 3}, {\"antecedent\": [\"goosebumps\", \"Congratulations\"], \"consequent\": [\"HUMBLE.\"], \"confidence\": 0.723, \"support\": 0.011, \"lift\": 15.539, \"len_itemset\": 3}, {\"antecedent\": [\"HUMBLE.\"], \"consequent\": [\"XO TOUR Llif3\", \"DNA.\"], \"confidence\": 0.219, \"support\": 0.01, \"lift\": 18.589, \"len_itemset\": 3}, {\"antecedent\": [\"XO TOUR Llif3\"], \"consequent\": [\"HUMBLE.\", \"DNA.\"], \"confidence\": 0.316, \"support\": 0.01, \"lift\": 16.62, \"len_itemset\": 3}, {\"antecedent\": [\"DNA.\"], \"consequent\": [\"HUMBLE.\", \"XO TOUR Llif3\"], \"confidence\": 0.442, \"support\": 0.01, \"lift\": 21.645, \"len_itemset\": 3}, {\"antecedent\": [\"HUMBLE.\", \"XO TOUR Llif3\"], \"consequent\": [\"DNA.\"], \"confidence\": 0.5, \"support\": 0.01, \"lift\": 21.645, \"len_itemset\": 3}, {\"antecedent\": [\"HUMBLE.\", \"DNA.\"], \"consequent\": [\"XO TOUR Llif3\"], \"confidence\": 0.537, \"support\": 0.01, \"lift\": 16.62, \"len_itemset\": 3}, {\"antecedent\": [\"XO TOUR Llif3\", \"DNA.\"], \"consequent\": [\"HUMBLE.\"], \"confidence\": 0.864, \"support\": 0.01, \"lift\": 18.589, \"len_itemset\": 3}, {\"antecedent\": [\"HUMBLE.\"], \"consequent\": [\"Mask Off\", \"Congratulations\"], \"confidence\": 0.26, \"support\": 0.012, \"lift\": 16.063, \"len_itemset\": 3}, {\"antecedent\": [\"Mask Off\"], \"consequent\": [\"HUMBLE.\", \"Congratulations\"], \"confidence\": 0.383, \"support\": 0.012, \"lift\": 17.893, \"len_itemset\": 3}, {\"antecedent\": [\"Congratulations\"], \"consequent\": [\"HUMBLE.\", \"Mask Off\"], \"confidence\": 0.3, \"support\": 0.012, \"lift\": 14.718, \"len_itemset\": 3}, {\"antecedent\": [\"HUMBLE.\", \"Mask Off\"], \"consequent\": [\"Congratulations\"], \"confidence\": 0.593, \"support\": 0.012, \"lift\": 14.718, \"len_itemset\": 3}, {\"antecedent\": [\"HUMBLE.\", \"Congratulations\"], \"consequent\": [\"Mask Off\"], \"confidence\": 0.565, \"support\": 0.012, \"lift\": 17.893, \"len_itemset\": 3}, {\"antecedent\": [\"Mask Off\", \"Congratulations\"], \"consequent\": [\"HUMBLE.\"], \"confidence\": 0.747, \"support\": 0.012, \"lift\": 16.063, \"len_itemset\": 3}, {\"antecedent\": [\"HUMBLE.\"], \"consequent\": [\"XO TOUR Llif3\", \"Mask Off\"], \"confidence\": 0.282, \"support\": 0.013, \"lift\": 17.283, \"len_itemset\": 3}, {\"antecedent\": [\"XO TOUR Llif3\"], \"consequent\": [\"HUMBLE.\", \"Mask Off\"], \"confidence\": 0.406, \"support\": 0.013, \"lift\": 19.881, \"len_itemset\": 3}, {\"antecedent\": [\"Mask Off\"], \"consequent\": [\"HUMBLE.\", \"XO TOUR Llif3\"], \"confidence\": 0.415, \"support\": 0.013, \"lift\": 20.321, \"len_itemset\": 3}, {\"antecedent\": [\"HUMBLE.\", \"XO TOUR Llif3\"], \"consequent\": [\"Mask Off\"], \"confidence\": 0.642, \"support\": 0.013, \"lift\": 20.321, \"len_itemset\": 3}, {\"antecedent\": [\"HUMBLE.\", \"Mask Off\"], \"consequent\": [\"XO TOUR Llif3\"], \"confidence\": 0.642, \"support\": 0.013, \"lift\": 19.881, \"len_itemset\": 3}, {\"antecedent\": [\"XO TOUR Llif3\", \"Mask Off\"], \"consequent\": [\"HUMBLE.\"], \"confidence\": 0.804, \"support\": 0.013, \"lift\": 17.283, \"len_itemset\": 3}, {\"antecedent\": [\"HUMBLE.\"], \"consequent\": [\"goosebumps\", \"XO TOUR Llif3\"], \"confidence\": 0.239, \"support\": 0.011, \"lift\": 15.705, \"len_itemset\": 3}, {\"antecedent\": [\"goosebumps\"], \"consequent\": [\"HUMBLE.\", \"XO TOUR Llif3\"], \"confidence\": 0.36, \"support\": 0.011, \"lift\": 17.666, \"len_itemset\": 3}, {\"antecedent\": [\"XO TOUR Llif3\"], \"consequent\": [\"HUMBLE.\", \"goosebumps\"], \"confidence\": 0.344, \"support\": 0.011, \"lift\": 20.578, \"len_itemset\": 3}, {\"antecedent\": [\"HUMBLE.\", \"goosebumps\"], \"consequent\": [\"XO TOUR Llif3\"], \"confidence\": 0.665, \"support\": 0.011, \"lift\": 20.578, \"len_itemset\": 3}, {\"antecedent\": [\"HUMBLE.\", \"XO TOUR Llif3\"], \"consequent\": [\"goosebumps\"], \"confidence\": 0.544, \"support\": 0.011, \"lift\": 17.666, \"len_itemset\": 3}, {\"antecedent\": [\"goosebumps\", \"XO TOUR Llif3\"], \"consequent\": [\"HUMBLE.\"], \"confidence\": 0.73, \"support\": 0.011, \"lift\": 15.705, \"len_itemset\": 3}, {\"antecedent\": [\"HUMBLE.\"], \"consequent\": [\"Mask Off\", \"Bad and Boujee (feat. Lil Uzi Vert)\"], \"confidence\": 0.237, \"support\": 0.011, \"lift\": 15.666, \"len_itemset\": 3}, {\"antecedent\": [\"Mask Off\"], \"consequent\": [\"HUMBLE.\", \"Bad and Boujee (feat. Lil Uzi Vert)\"], \"confidence\": 0.348, \"support\": 0.011, \"lift\": 20.844, \"len_itemset\": 3}, {\"antecedent\": [\"Bad and Boujee (feat. Lil Uzi Vert)\"], \"consequent\": [\"HUMBLE.\", \"Mask Off\"], \"confidence\": 0.319, \"support\": 0.011, \"lift\": 15.629, \"len_itemset\": 3}, {\"antecedent\": [\"HUMBLE.\", \"Mask Off\"], \"consequent\": [\"Bad and Boujee (feat. Lil Uzi Vert)\"], \"confidence\": 0.539, \"support\": 0.011, \"lift\": 15.629, \"len_itemset\": 3}, {\"antecedent\": [\"HUMBLE.\", \"Bad and Boujee (feat. Lil Uzi Vert)\"], \"consequent\": [\"Mask Off\"], \"confidence\": 0.659, \"support\": 0.011, \"lift\": 20.844, \"len_itemset\": 3}, {\"antecedent\": [\"Mask Off\", \"Bad and Boujee (feat. Lil Uzi Vert)\"], \"consequent\": [\"HUMBLE.\"], \"confidence\": 0.728, \"support\": 0.011, \"lift\": 15.666, \"len_itemset\": 3}]}};\n",
       "var opt = {};\n",
       "var type = \"vega-lite\";\n",
       "var id = \"0e65fee8-2c18-419a-962b-fbd54efcbd40\";\n",
       "\n",
       "var output_area = this;\n",
       "\n",
       "require([\"nbextensions/jupyter-vega/index\"], function(vega) {\n",
       "  var target = document.createElement(\"div\");\n",
       "  target.id = id;\n",
       "  target.className = \"vega-embed\";\n",
       "\n",
       "  var style = document.createElement(\"style\");\n",
       "  style.textContent = [\n",
       "    \".vega-embed .error p {\",\n",
       "    \"  color: firebrick;\",\n",
       "    \"  font-size: 14px;\",\n",
       "    \"}\",\n",
       "  ].join(\"\\\\n\");\n",
       "\n",
       "  // element is a jQuery wrapped DOM element inside the output area\n",
       "  // see http://ipython.readthedocs.io/en/stable/api/generated/\\\n",
       "  // IPython.display.html#IPython.display.Javascript.__init__\n",
       "  element[0].appendChild(target);\n",
       "  element[0].appendChild(style);\n",
       "\n",
       "  vega.render(\"#\" + id, spec, type, opt, output_area);\n",
       "}, function (err) {\n",
       "  if (err.requireType !== \"scripterror\") {\n",
       "    throw(err);\n",
       "  }\n",
       "});\n"
      ],
      "text/plain": [
       "<vega.vegalite.VegaLite at 0x10db9dbe0>"
      ]
     },
     "metadata": {
      "jupyter-vega": "#0e65fee8-2c18-419a-962b-fbd54efcbd40"
     },
     "output_type": "display_data"
    },
    {
     "data": {
      "text/plain": []
     },
     "execution_count": 17,
     "metadata": {},
     "output_type": "execute_result"
    },
    {
     "data": {
      "image/png": "[encoded data removed]"
     },
     "metadata": {
      "jupyter-vega": "#0e65fee8-2c18-419a-962b-fbd54efcbd40"
     },
     "output_type": "display_data"
    }
   ],
   "source": [
    "alt.Chart(apriori.rules_df).mark_circle(size=60).encode(\n",
    "    x=\"confidence\",\n",
    "    y=\"lift\",\n",
    "    color=\"len_itemset\",\n",
    "    tooltip=[\n",
    "        \"antecedent\", \"consequent\", \"confidence\", \"support\", \"lift\",\n",
    "        \"len_itemset\"\n",
    "    ]).interactive()"
   ]
  },
  {
   "cell_type": "markdown",
   "metadata": {},
   "source": [
    "## Referencias\n",
    "\n",
    "- Desde [este](https://chih-ling-hsu.github.io/2017/03/25/apriori) recurso se obtuvo la forma de generar *itemsets* candidatos descrita en esta implementación.\n",
    "- [Este](https://github.com/jgonzalezferrer/apriori/blob/master/Lab%202%20-%20Apriori%20-%20Javier-G%20Hamed-M.ipynb) desde este enlace se extrajo la idea de utilizar un diccionario como el anteriormente descrito para manejar los contadores de soporte."
   ]
  }
 ],
 "metadata": {
  "kernelspec": {
   "display_name": "Python 3",
   "language": "python",
   "name": "python3"
  },
  "language_info": {
   "codemirror_mode": {
    "name": "ipython",
    "version": 3
   },
   "file_extension": ".py",
   "mimetype": "text/x-python",
   "name": "python",
   "nbconvert_exporter": "python",
   "pygments_lexer": "ipython3",
   "version": "3.6.4"
  },
  "notify_time": "30",
  "varInspector": {
   "cols": {
    "lenName": 16,
    "lenType": 16,
    "lenVar": 40
   },
   "kernels_config": {
    "python": {
     "delete_cmd_postfix": "",
     "delete_cmd_prefix": "del ",
     "library": "var_list.py",
     "varRefreshCmd": "print(var_dic_list())"
    },
    "r": {
     "delete_cmd_postfix": ") ",
     "delete_cmd_prefix": "rm(",
     "library": "var_list.r",
     "varRefreshCmd": "cat(var_dic_list()) "
    }
   },
   "position": {
    "height": "144px",
    "left": "1069px",
    "right": "20px",
    "top": "120px",
    "width": "350px"
   },
   "types_to_exclude": [
    "module",
    "function",
    "builtin_function_or_method",
    "instance",
    "_Feature"
   ],
   "window_display": false
  }
 },
 "nbformat": 4,
 "nbformat_minor": 2
}
