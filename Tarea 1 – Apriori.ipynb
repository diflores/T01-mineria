{
 "cells": [
  {
   "cell_type": "code",
   "execution_count": 1,
   "metadata": {
    "ExecuteTime": {
     "end_time": "2018-09-18T02:18:20.694839Z",
     "start_time": "2018-09-18T02:18:20.606330Z"
    }
   },
   "outputs": [],
   "source": [
    "import numpy as np\n",
    "import collections"
   ]
  },
  {
   "cell_type": "code",
   "execution_count": 2,
   "metadata": {
    "ExecuteTime": {
     "end_time": "2018-09-18T02:18:20.714173Z",
     "start_time": "2018-09-18T02:18:20.697234Z"
    }
   },
   "outputs": [],
   "source": [
    "class Apriori:\n",
    "    def __init__(self,\n",
    "                 data,\n",
    "                 min_support=0.01,\n",
    "                 min_confidence=0.01,\n",
    "                 min_lift=0.01):\n",
    "        self.data = data\n",
    "        self.min_support = min_confidence\n",
    "        self.min_lift = min_lift\n",
    "\n",
    "    def prepare_data(self):\n",
    "        self.playlists = list(spotify_data.item().values())\n",
    "        self.playlists = [set(playlist) for playlist in self.playlists]\n",
    "        unique_songs = [item for sublist in self.playlists for item in sublist]\n",
    "        self.songs_counter = collections.Counter(unique_songs)\n",
    "\n",
    "    def calculate_song_frequency(self):\n",
    "        songs_in_playlists = collections.defaultdict(set)\n",
    "        for index, playlist in enumerate(self.playlists):\n",
    "            for song in playlist:\n",
    "                songs_in_playlists[song].add(index)\n",
    "        self.songs_in_playlists = songs_in_playlists\n",
    "\n",
    "    def generate_L_1(self):\n",
    "        self.L_1_counter = {\n",
    "            song: times\n",
    "            for song, times in self.songs_counter.items()\n",
    "            if times / len(self.playlists) >= self.min_support\n",
    "        }\n",
    "        self.L_1 = [{song} for song in self.L_1_counter]\n",
    "\n",
    "    def generate_new_candidates(self, current_itemsets, k):\n",
    "        C_k = set()\n",
    "        for candidate in current_itemsets:\n",
    "            for song in self.L_1:\n",
    "                new_candidate = frozenset(candidate).union(song)\n",
    "                if len(new_candidate) == k:\n",
    "                    C_k.add(new_candidate)\n",
    "        return C_k\n",
    "\n",
    "    def prune_itemsets(self, C_k):\n",
    "        C_k_counter = {}\n",
    "        for candidate in C_k:\n",
    "            playlists_inter = []\n",
    "            for song in candidate:\n",
    "                playlists_inter.append(self.songs_in_playlists[song])\n",
    "            C_k_counter[candidate] = len(set.intersection(*playlists_inter))\n",
    "\n",
    "        L_k_counter = {\n",
    "            subset: times\n",
    "            for subset, times in C_k_counter.items()\n",
    "            if times / len(self.playlists) >= self.min_support\n",
    "        }\n",
    "        return L_k_counter\n",
    "\n",
    "    def fit(self):\n",
    "        self.prepare_data()\n",
    "        self.calculate_song_frequency()\n",
    "        self.generate_L_1()\n",
    "\n",
    "        self.frequent_itemsets = []\n",
    "        k = 2\n",
    "        current = self.L_1\n",
    "        while len(current) != 0:\n",
    "            C_k = self.generate_new_candidates(current, k)\n",
    "            L_k_counter = self.prune_itemsets(C_k)\n",
    "            L_k = L_k_counter.keys()\n",
    "            self.frequent_itemsets.append(L_k)\n",
    "            print(\"K = {}: {}\".format(k, L_k_counter))\n",
    "            k += 1\n",
    "            current = L_k"
   ]
  },
  {
   "cell_type": "code",
   "execution_count": 3,
   "metadata": {
    "ExecuteTime": {
     "end_time": "2018-09-18T02:18:21.119612Z",
     "start_time": "2018-09-18T02:18:20.719513Z"
    }
   },
   "outputs": [],
   "source": [
    "spotify_data = np.load(\"spotify.npy\")"
   ]
  },
  {
   "cell_type": "code",
   "execution_count": 4,
   "metadata": {
    "ExecuteTime": {
     "end_time": "2018-09-18T02:18:21.126074Z",
     "start_time": "2018-09-18T02:18:21.121859Z"
    }
   },
   "outputs": [],
   "source": [
    "apriori = Apriori(\n",
    "    data=spotify_data, min_support=0.01, min_confidence=0.01, min_lift=0.01)"
   ]
  },
  {
   "cell_type": "code",
   "execution_count": 5,
   "metadata": {
    "ExecuteTime": {
     "end_time": "2018-09-18T02:18:30.299252Z",
     "start_time": "2018-09-18T02:18:21.138179Z"
    }
   },
   "outputs": [
    {
     "name": "stdout",
     "output_type": "stream",
     "text": [
      "K = 2: {frozenset({'iSpy (feat. Lil Yachty)', 'Congratulations'}): 162, frozenset({'XO TOUR Llif3', 'Drowning (feat. Kodak Black)'}): 124, frozenset({'Mask Off', 'HUMBLE.'}): 204, frozenset({'Mask Off', 'Broccoli (feat. Lil Yachty)'}): 104, frozenset({'XO TOUR Llif3', 'DNA.'}): 118, frozenset({'Bad and Boujee (feat. Lil Uzi Vert)', 'Swang'}): 103, frozenset({'Caroline', 'Bad and Boujee (feat. Lil Uzi Vert)'}): 153, frozenset({'XO TOUR Llif3', 'Unforgettable'}): 103, frozenset({'XO TOUR Llif3', 'Mask Off'}): 163, frozenset({'X (feat. Future)', 'Bad and Boujee (feat. Lil Uzi Vert)'}): 109, frozenset({'Closer', 'Shape of You'}): 111, frozenset({'goosebumps', 'Congratulations'}): 155, frozenset({'Starving', 'Closer'}): 112, frozenset({'Bad and Boujee (feat. Lil Uzi Vert)', 'Broccoli (feat. Lil Yachty)'}): 155, frozenset({'Panda', 'One Dance'}): 128, frozenset({'Closer', 'One Dance'}): 121, frozenset({'Bounce Back', 'Black Beatles'}): 114, frozenset({'goosebumps', 'No Problem (feat. Lil Wayne & 2 Chainz)'}): 100, frozenset({'Congratulations', \"I'm the One\"}): 117, frozenset({'Broccoli (feat. Lil Yachty)', 'Congratulations'}): 115, frozenset({'Bad and Boujee (feat. Lil Uzi Vert)', 'Black Beatles'}): 131, frozenset({'Congratulations', 'Swang'}): 112, frozenset({'Butterfly Effect', 'HUMBLE.'}): 101, frozenset({'Bad and Boujee (feat. Lil Uzi Vert)', 'You Was Right'}): 105, frozenset({'Passionfruit', 'HUMBLE.'}): 123, frozenset({'Closer', 'Broccoli (feat. Lil Yachty)'}): 107, frozenset({'Bounce Back', 'XO TOUR Llif3'}): 117, frozenset({'Broccoli (feat. Lil Yachty)', 'Panda'}): 132, frozenset({'No Problem (feat. Lil Wayne & 2 Chainz)', 'Congratulations'}): 100, frozenset({'Caroline', 'Broccoli (feat. Lil Yachty)'}): 172, frozenset({'Bad and Boujee (feat. Lil Uzi Vert)', 'Tunnel Vision'}): 107, frozenset({\"Don't Let Me Down\", 'Roses'}): 111, frozenset({'XO TOUR Llif3', 'Slippery (feat. Gucci Mane)'}): 132, frozenset({'pick up the phone', 'Bad and Boujee (feat. Lil Uzi Vert)'}): 100, frozenset({'Bank Account', 'Magnolia'}): 113, frozenset({'iSpy (feat. Lil Yachty)', 'Caroline'}): 134, frozenset({'rockstar', 'HUMBLE.'}): 117, frozenset({'Bank Account', 'HUMBLE.'}): 125, frozenset({'DNA.', 'HUMBLE.'}): 190, frozenset({'Bank Account', 'XO TOUR Llif3'}): 128, frozenset({'T-Shirt', 'goosebumps'}): 118, frozenset({'Caroline', 'HUMBLE.'}): 130, frozenset({'Tunnel Vision', 'HUMBLE.'}): 139, frozenset({'Congratulations', 'Unforgettable'}): 104, frozenset({'T-Shirt', 'Tunnel Vision'}): 107, frozenset({'iSpy (feat. Lil Yachty)', 'goosebumps'}): 122, frozenset({'XO TOUR Llif3', \"I'm the One\"}): 104, frozenset({'Black Beatles', 'No Problem (feat. Lil Wayne & 2 Chainz)'}): 100, frozenset({'Too Good', 'One Dance'}): 132, frozenset({'iSpy (feat. Lil Yachty)', 'Bad and Boujee (feat. Lil Uzi Vert)'}): 152, frozenset({'Bad and Boujee (feat. Lil Uzi Vert)', 'goosebumps'}): 133, frozenset({'Bank Account', 'Butterfly Effect'}): 111, frozenset({'rockstar', 'Congratulations'}): 112, frozenset({'No Problem (feat. Lil Wayne & 2 Chainz)', 'HUMBLE.'}): 119, frozenset({'Closer', 'Roses'}): 139, frozenset({'T-Shirt', 'Slippery (feat. Gucci Mane)'}): 111, frozenset({'Bounce Back', 'HUMBLE.'}): 156, frozenset({'XO TOUR Llif3', 'Butterfly Effect'}): 107, frozenset({'iSpy (feat. Lil Yachty)', 'HUMBLE.'}): 155, frozenset({'Closer', 'Paris'}): 102, frozenset({'XO TOUR Llif3', 'Portland'}): 102, frozenset({'Slippery (feat. Gucci Mane)', 'Bad and Boujee (feat. Lil Uzi Vert)'}): 121, frozenset({'Bank Account', 'Slippery (feat. Gucci Mane)'}): 105, frozenset({'Fake Love', 'iSpy (feat. Lil Yachty)'}): 114, frozenset({'goosebumps', 'rockstar'}): 105, frozenset({'Caroline', 'Mask Off'}): 101, frozenset({'X (feat. Future)', 'No Heart'}): 103, frozenset({'Bad and Boujee (feat. Lil Uzi Vert)', 'Chill Bill'}): 104, frozenset({'Tunnel Vision', 'Congratulations'}): 120, frozenset({'Caroline', 'No Problem (feat. Lil Wayne & 2 Chainz)'}): 135, frozenset({'pick up the phone', 'goosebumps'}): 103, frozenset({'Bounce Back', 'Broccoli (feat. Lil Yachty)'}): 129, frozenset({'Bounce Back', 'Mask Off'}): 136, frozenset({'XO TOUR Llif3', 'Magnolia'}): 117, frozenset({'Drowning (feat. Kodak Black)', 'Congratulations'}): 105, frozenset({'Bad and Boujee (feat. Lil Uzi Vert)', 'Mask Off'}): 151, frozenset({'Bounce Back', 'No Problem (feat. Lil Wayne & 2 Chainz)'}): 108, frozenset({'T-Shirt', 'HUMBLE.'}): 124, frozenset({'HUMBLE.', 'Magnolia'}): 108, frozenset({'goosebumps', 'Drowning (feat. Kodak Black)'}): 100, frozenset({'Let Me Love You', 'Closer'}): 159, frozenset({'Sorry', 'What Do You Mean?'}): 128, frozenset({\"Don't Let Me Down\", 'One Dance'}): 103, frozenset({'Gold', 'Closer'}): 118, frozenset({'HUMBLE.', 'Unforgettable'}): 106, frozenset({'Broccoli (feat. Lil Yachty)', 'HUMBLE.'}): 130, frozenset({'679 (feat. Remy Boyz)', 'Trap Queen'}): 122, frozenset({'Caroline', 'Black Beatles'}): 128, frozenset({'Mask Off', 'DNA.'}): 110, frozenset({'Fake Love', 'Caroline'}): 135, frozenset({'Closer', 'Cold Water (feat. Justin Bieber & MØ)'}): 145, frozenset({'iSpy (feat. Lil Yachty)', 'Tunnel Vision'}): 115, frozenset({'Bad and Boujee (feat. Lil Uzi Vert)', 'No Problem (feat. Lil Wayne & 2 Chainz)'}): 121, frozenset({'Caroline', 'goosebumps'}): 106, frozenset({'No Problem (feat. Lil Wayne & 2 Chainz)', 'Broccoli (feat. Lil Yachty)'}): 158, frozenset({'Bounce Back', 'goosebumps'}): 127, frozenset({'Wet Dreamz', 'No Role Modelz'}): 100, frozenset({'DNA.', 'Congratulations'}): 105, frozenset({'goosebumps', 'HUMBLE.'}): 167, frozenset({'Broccoli (feat. Lil Yachty)', 'One Dance'}): 121, frozenset({'Slippery (feat. Gucci Mane)', 'Mask Off'}): 126, frozenset({'HUMBLE.', 'Swang'}): 113, frozenset({'T-Shirt', 'Congratulations'}): 115, frozenset({'Bad and Boujee (feat. Lil Uzi Vert)', 'HUMBLE.'}): 167, frozenset({'Caroline', 'Chill Bill'}): 115, frozenset({'Mask Off', 'Swang'}): 112, frozenset({'Slippery (feat. Gucci Mane)', 'HUMBLE.'}): 148, frozenset({'XO TOUR Llif3', 'Congratulations'}): 179, frozenset({'Fake Love', 'Bad and Boujee (feat. Lil Uzi Vert)'}): 138, frozenset({'T-Shirt', 'Bad and Boujee (feat. Lil Uzi Vert)'}): 127, frozenset({'XO TOUR Llif3', 'Bad and Boujee (feat. Lil Uzi Vert)'}): 131, frozenset({'Closer', 'Ride'}): 118, frozenset({'Caroline', 'Congratulations'}): 116, frozenset({'Bank Account', 'goosebumps'}): 100, frozenset({'Bad and Boujee (feat. Lil Uzi Vert)', 'Money Longer'}): 108, frozenset({'XO TOUR Llif3', 'goosebumps'}): 152, frozenset({'Portland', 'HUMBLE.'}): 106, frozenset({'Fake Love', 'Broccoli (feat. Lil Yachty)'}): 110, frozenset({'Mask Off', 'Tunnel Vision'}): 127, frozenset({\"I'm the One\", 'HUMBLE.'}): 139, frozenset({'Bounce Back', 'Congratulations'}): 136, frozenset({'Mask Off', 'Congratulations'}): 162, frozenset({'iSpy (feat. Lil Yachty)', 'Broccoli (feat. Lil Yachty)'}): 117, frozenset({'Black Beatles', 'HUMBLE.'}): 100, frozenset({'Fake Love', 'Black Beatles'}): 100, frozenset({'XO TOUR Llif3', 'Swang'}): 113, frozenset({'XO TOUR Llif3', 'Tunnel Vision'}): 136, frozenset({'Bank Account', 'rockstar'}): 104, frozenset({'Drowning (feat. Kodak Black)', 'HUMBLE.'}): 117, frozenset({'goosebumps', 'Swang'}): 106, frozenset({'Despacito - Remix', \"I'm the One\"}): 120, frozenset({'Sorry', 'Love Yourself'}): 117, frozenset({'Bounce Back', 'Bad and Boujee (feat. Lil Uzi Vert)'}): 169, frozenset({'goosebumps', 'Tunnel Vision'}): 111, frozenset({'Chicken Fried', 'Knee Deep (feat. Jimmy Buffett)'}): 107, frozenset({'Money Longer', 'You Was Right'}): 117, frozenset({'Bounce Back', 'Caroline'}): 139, frozenset({'Controlla', 'One Dance'}): 124, frozenset({\"Don't Let Me Down\", 'Closer'}): 149, frozenset({'Bounce Back', 'iSpy (feat. Lil Yachty)'}): 134, frozenset({'Black Beatles', 'Broccoli (feat. Lil Yachty)'}): 138, frozenset({'iSpy (feat. Lil Yachty)', 'XO TOUR Llif3'}): 118, frozenset({'Fake Love', 'Mask Off'}): 100, frozenset({'Slippery (feat. Gucci Mane)', 'Congratulations'}): 132, frozenset({'Fake Love', 'No Problem (feat. Lil Wayne & 2 Chainz)'}): 102, frozenset({'XO TOUR Llif3', 'T-Shirt'}): 110, frozenset({'goosebumps', 'Mask Off'}): 148, frozenset({'Bounce Back', 'Fake Love'}): 120, frozenset({'iSpy (feat. Lil Yachty)', 'Swang'}): 100, frozenset({'Fake Love', 'Congratulations'}): 106, frozenset({'Panda', 'Jumpman'}): 113, frozenset({'Bounce Back', 'T-Shirt'}): 102, frozenset({'Jumpman', 'One Dance'}): 100, frozenset({'Let Me Love You', 'Cold Water (feat. Justin Bieber & MØ)'}): 115, frozenset({'Slippery (feat. Gucci Mane)', 'goosebumps'}): 125, frozenset({'Broccoli (feat. Lil Yachty)', 'Chill Bill'}): 121, frozenset({'Work', 'One Dance'}): 103, frozenset({'Slippery (feat. Gucci Mane)', 'Tunnel Vision'}): 110, frozenset({'Bad and Boujee (feat. Lil Uzi Vert)', 'Congratulations'}): 149, frozenset({'Congratulations', 'HUMBLE.'}): 214, frozenset({'iSpy (feat. Lil Yachty)', 'Mask Off'}): 147, frozenset({'HUMBLE.', '1-800-273-8255'}): 107, frozenset({'Closer', 'This Is What You Came For'}): 104, frozenset({'Fake Love', 'goosebumps'}): 101, frozenset({'XO TOUR Llif3', 'rockstar'}): 112, frozenset({'T-Shirt', 'Mask Off'}): 117, frozenset({'XO TOUR Llif3', 'HUMBLE.'}): 204}\n"
     ]
    },
    {
     "name": "stdout",
     "output_type": "stream",
     "text": [
      "K = 3: {frozenset({'Mask Off', 'DNA.', 'HUMBLE.'}): 100, frozenset({'Bounce Back', 'Bad and Boujee (feat. Lil Uzi Vert)', 'Broccoli (feat. Lil Yachty)'}): 100, frozenset({'XO TOUR Llif3', 'goosebumps', 'Mask Off'}): 101, frozenset({'Mask Off', 'Congratulations', 'HUMBLE.'}): 121, frozenset({'goosebumps', 'Mask Off', 'HUMBLE.'}): 110, frozenset({'Bad and Boujee (feat. Lil Uzi Vert)', 'Mask Off', 'HUMBLE.'}): 110, frozenset({'XO TOUR Llif3', 'goosebumps', 'HUMBLE.'}): 111, frozenset({'XO TOUR Llif3', 'DNA.', 'HUMBLE.'}): 102, frozenset({'XO TOUR Llif3', 'Tunnel Vision', 'HUMBLE.'}): 102, frozenset({'goosebumps', 'Congratulations', 'HUMBLE.'}): 112, frozenset({'iSpy (feat. Lil Yachty)', 'Congratulations', 'HUMBLE.'}): 109, frozenset({'XO TOUR Llif3', 'Slippery (feat. Gucci Mane)', 'HUMBLE.'}): 101, frozenset({'XO TOUR Llif3', 'Congratulations', 'HUMBLE.'}): 128, frozenset({'XO TOUR Llif3', 'Mask Off', 'HUMBLE.'}): 131, frozenset({'XO TOUR Llif3', 'goosebumps', 'Congratulations'}): 104, frozenset({'iSpy (feat. Lil Yachty)', 'Mask Off', 'HUMBLE.'}): 101, frozenset({'Bad and Boujee (feat. Lil Uzi Vert)', 'Congratulations', 'HUMBLE.'}): 101, frozenset({'XO TOUR Llif3', 'Mask Off', 'Congratulations'}): 107, frozenset({'Bounce Back', 'Mask Off', 'HUMBLE.'}): 101}\n",
      "K = 4: {}\n"
     ]
    }
   ],
   "source": [
    "apriori.fit()"
   ]
  }
 ],
 "metadata": {
  "kernelspec": {
   "display_name": "Python 3",
   "language": "python",
   "name": "python3"
  },
  "language_info": {
   "codemirror_mode": {
    "name": "ipython",
    "version": 3
   },
   "file_extension": ".py",
   "mimetype": "text/x-python",
   "name": "python",
   "nbconvert_exporter": "python",
   "pygments_lexer": "ipython3",
   "version": "3.6.4"
  },
  "notify_time": "5"
 },
 "nbformat": 4,
 "nbformat_minor": 2
}
