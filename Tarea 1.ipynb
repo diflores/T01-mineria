{
 "cells": [
  {
   "cell_type": "markdown",
   "metadata": {},
   "source": [
    "# Cargar datos"
   ]
  },
  {
   "cell_type": "code",
   "execution_count": 1,
   "metadata": {},
   "outputs": [],
   "source": [
    "import numpy as np\n",
    "import pandas as pd\n",
    "import collections\n",
    "import itertools"
   ]
  },
  {
   "cell_type": "code",
   "execution_count": 2,
   "metadata": {},
   "outputs": [],
   "source": [
    "spotify_data = np.load(\"spotify.npy\")\n",
    "spotify_playlists = list(spotify_data.item().values())\n",
    "spotify_playlists = [set(playlist) for playlist in spotify_playlists]\n",
    "songs_flatten = [item for sublist in spotify_playlists for item in sublist]\n",
    "total_songs_count = pd.Series(songs_flatten).value_counts().to_dict()"
   ]
  },
  {
   "cell_type": "code",
   "execution_count": 3,
   "metadata": {},
   "outputs": [
    {
     "data": {
      "text/plain": [
       "10000"
      ]
     },
     "execution_count": 3,
     "metadata": {},
     "output_type": "execute_result"
    }
   ],
   "source": [
    "min_support = 0.04\n",
    "playlists_length = len(spotify_playlists)\n",
    "playlists_length"
   ]
  },
  {
   "cell_type": "code",
   "execution_count": 4,
   "metadata": {},
   "outputs": [],
   "source": [
    "songs_id_dict = {}\n",
    "songs_song_name_dict = {}\n",
    "for song_id,song_name in enumerate(total_songs_count):\n",
    "    songs_id_dict[song_id] = song_name\n",
    "    songs_song_name_dict[song_name] = song_id"
   ]
  },
  {
   "cell_type": "code",
   "execution_count": 5,
   "metadata": {},
   "outputs": [
    {
     "data": {
      "text/plain": [
       "{0: 723, 1: 465, 2: 454, 3: 424, 4: 414, 5: 411, 6: 403}"
      ]
     },
     "execution_count": 5,
     "metadata": {},
     "output_type": "execute_result"
    }
   ],
   "source": [
    "filtered_songs = {key:value for key,value in total_songs_count.items() if value > min_support * playlists_length}\n",
    "filtered_songs_id = {songs_song_name_dict[key]: value for key,value in filtered_songs.items()}\n",
    "filtered_songs_id"
   ]
  },
  {
   "cell_type": "code",
   "execution_count": 6,
   "metadata": {},
   "outputs": [],
   "source": [
    "def count_occurences(songs_subset, full_transactions):\n",
    "    filtered = list(filter(lambda playlist: set(songs_subset) < set(playlist), full_transactions))\n",
    "    return len(filtered)"
   ]
  },
  {
   "cell_type": "code",
   "execution_count": 7,
   "metadata": {},
   "outputs": [],
   "source": [
    "def prune(counter, threshold):\n",
    "    itemsets_list = [tuple(itemset) for itemset in itemsets_list]\n",
    "    confidence = np.ceil(len(itemsets_list) * threshold)\n",
    "    pruned = [itemset for itemset in counter.keys() if counter[itemset] >= confidence]\n",
    "    return pruned"
   ]
  },
  {
   "cell_type": "code",
   "execution_count": 8,
   "metadata": {},
   "outputs": [],
   "source": [
    "spotify_playlists_id = []\n",
    "for playlist in spotify_playlists:\n",
    "    new_playlist = set()\n",
    "    for song in playlist:\n",
    "        new_playlist.add(songs_song_name_dict[song])\n",
    "    spotify_playlists_id.append(new_playlist)"
   ]
  },
  {
   "cell_type": "code",
   "execution_count": 12,
   "metadata": {},
   "outputs": [
    {
     "name": "stdout",
     "output_type": "stream",
     "text": [
      "21\n",
      "[(0, 1), (0, 2), (0, 3), (0, 4), (0, 5), (0, 6), (1, 2), (1, 3), (1, 4), (1, 5), (1, 6), (2, 3), (2, 4), (2, 5), (2, 6), (3, 4), (3, 5), (3, 6), (4, 5), (4, 6), (5, 6)]\n"
     ]
    }
   ],
   "source": [
    "converge_flag = False\n",
    "count_len = 2\n",
    "while not converge_flag:\n",
    "    transactions = list(itertools.combinations(filtered_songs_id.keys(), count_len))\n",
    "    print(len(transactions))\n",
    "    survivors = [transaction for transaction in transactions if count_occurences(transaction, spotify_playlists_id) >= min_support * playlists_length]\n",
    "    break"
   ]
  },
  {
   "cell_type": "code",
   "execution_count": null,
   "metadata": {},
   "outputs": [],
   "source": []
  },
  {
   "cell_type": "code",
   "execution_count": null,
   "metadata": {},
   "outputs": [],
   "source": []
  }
 ],
 "metadata": {
  "kernelspec": {
   "display_name": "Python 3",
   "language": "python",
   "name": "python3"
  },
  "language_info": {
   "codemirror_mode": {
    "name": "ipython",
    "version": 3
   },
   "file_extension": ".py",
   "mimetype": "text/x-python",
   "name": "python",
   "nbconvert_exporter": "python",
   "pygments_lexer": "ipython3",
   "version": "3.6.4"
  }
 },
 "nbformat": 4,
 "nbformat_minor": 2
}
