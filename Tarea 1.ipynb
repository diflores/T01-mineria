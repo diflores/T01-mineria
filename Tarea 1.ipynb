{
 "cells": [
  {
   "cell_type": "markdown",
   "metadata": {},
   "source": [
    "# Cargar datos"
   ]
  },
  {
   "cell_type": "code",
   "execution_count": 16,
   "metadata": {},
   "outputs": [],
   "source": [
    "import numpy as np\n",
    "import pandas as pd\n",
    "import collections\n",
    "import itertools"
   ]
  },
  {
   "cell_type": "code",
   "execution_count": 17,
   "metadata": {},
   "outputs": [],
   "source": [
    "spotify_data = np.load(\"spotify.npy\")\n",
    "spotify_playlists = list(spotify_data.item().values())\n",
    "spotify_playlists = [set(playlist) for playlist in spotify_playlists]\n",
    "songs_flatten = [item for sublist in spotify_playlists for item in sublist]\n",
    "total_songs_count = pd.Series(songs_flatten).value_counts().to_dict()"
   ]
  },
  {
   "cell_type": "code",
   "execution_count": 18,
   "metadata": {},
   "outputs": [],
   "source": [
    "min_support = 0.01\n",
    "playlists_length = len(spotify_playlists)"
   ]
  },
  {
   "cell_type": "code",
   "execution_count": 19,
   "metadata": {},
   "outputs": [],
   "source": [
    "songs_id_dict = {}\n",
    "songs_name_dict = {}\n",
    "for song_id, song_name in enumerate(total_songs_count):\n",
    "    songs_id_dict[song_id] = song_name\n",
    "    songs_name_dict[song_name] = song_id"
   ]
  },
  {
   "cell_type": "code",
   "execution_count": 20,
   "metadata": {},
   "outputs": [],
   "source": [
    "filtered_songs = {key:value for key,value in total_songs_count.items() if value > min_support * playlists_length}\n",
    "filtered_songs_id = {songs_name_dict[key]: value for key,value in filtered_songs.items()}\n"
   ]
  },
  {
   "cell_type": "code",
   "execution_count": 21,
   "metadata": {},
   "outputs": [],
   "source": [
    "def count_occurences(songs_subset, full_transactions):\n",
    "    filtered = list(filter(lambda playlist: set(songs_subset) < set(playlist), full_transactions))\n",
    "    return len(filtered)"
   ]
  },
  {
   "cell_type": "code",
   "execution_count": 22,
   "metadata": {},
   "outputs": [],
   "source": [
    "def prune(counter, threshold):\n",
    "    itemsets_list = [tuple(itemset) for itemset in itemsets_list]\n",
    "    confidence = np.ceil(len(itemsets_list) * threshold)\n",
    "    pruned = [itemset for itemset in counter.keys() if counter[itemset] >= confidence]\n",
    "    return pruned"
   ]
  },
  {
   "cell_type": "code",
   "execution_count": 23,
   "metadata": {},
   "outputs": [],
   "source": [
    "spotify_playlists_id = []\n",
    "for playlist in spotify_playlists:\n",
    "    new_playlist = set()\n",
    "    for song in playlist:\n",
    "        new_playlist.add(songs_name_dict[song])\n",
    "    spotify_playlists_id.append(sorted(list(new_playlist)))"
   ]
  },
  {
   "cell_type": "code",
   "execution_count": null,
   "metadata": {},
   "outputs": [],
   "source": []
  }
 ],
 "metadata": {
  "kernelspec": {
   "display_name": "Python 3",
   "language": "python",
   "name": "python3"
  },
  "language_info": {
   "codemirror_mode": {
    "name": "ipython",
    "version": 3
   },
   "file_extension": ".py",
   "mimetype": "text/x-python",
   "name": "python",
   "nbconvert_exporter": "python",
   "pygments_lexer": "ipython3",
   "version": "3.6.4"
  }
 },
 "nbformat": 4,
 "nbformat_minor": 2
}
