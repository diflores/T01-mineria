{
 "cells": [
  {
   "cell_type": "markdown",
   "metadata": {},
   "source": [
    "# Cargar datos"
   ]
  },
  {
   "cell_type": "code",
   "execution_count": 1,
   "metadata": {},
   "outputs": [],
   "source": [
    "import numpy as np\n",
    "import pandas as pd\n",
    "import collections\n",
    "import itertools"
   ]
  },
  {
   "cell_type": "code",
   "execution_count": 2,
   "metadata": {},
   "outputs": [],
   "source": [
    "spotify_data = np.load(\"spotify.npy\")\n",
    "spotify_playlists = list(spotify_data.item().values())\n",
    "spotify_playlists = [set(playlist) for playlist in spotify_playlists]\n",
    "songs_flatten = [item for sublist in spotify_playlists for item in sublist]\n",
    "total_songs_count = pd.Series(songs_flatten).value_counts().to_dict()"
   ]
  },
  {
   "cell_type": "code",
   "execution_count": 3,
   "metadata": {},
   "outputs": [],
   "source": [
    "min_support = 0.01\n",
    "playlists_length = len(spotify_playlists)"
   ]
  },
  {
   "cell_type": "code",
   "execution_count": 4,
   "metadata": {},
   "outputs": [],
   "source": [
    "songs_id_dict = {}\n",
    "songs_name_dict = {}\n",
    "for song_id, song_name in enumerate(total_songs_count):\n",
    "    songs_id_dict[song_id] = song_name\n",
    "    songs_name_dict[song_name] = song_id"
   ]
  },
  {
   "cell_type": "code",
   "execution_count": 5,
   "metadata": {},
   "outputs": [],
   "source": [
    "filtered_songs = {key:value for key,value in total_songs_count.items() if value > min_support * playlists_length}\n",
    "filtered_songs_id = {songs_name_dict[key]: value for key,value in filtered_songs.items()}"
   ]
  },
  {
   "cell_type": "code",
   "execution_count": 6,
   "metadata": {},
   "outputs": [],
   "source": [
    "spotify_playlists_id = []\n",
    "for playlist in spotify_playlists:\n",
    "    new_playlist = set()\n",
    "    for song in playlist:\n",
    "        new_playlist.add(songs_name_dict[song])\n",
    "    spotify_playlists_id.append(sorted(list(new_playlist)))"
   ]
  },
  {
   "cell_type": "code",
   "execution_count": 7,
   "metadata": {},
   "outputs": [],
   "source": [
    "def generate_sub_sets(l_k, k):\n",
    "    final_set = []\n",
    "    lk_length = len(l_k)\n",
    "    for i in range(lk_length):\n",
    "        for j in range(i + 1, lk_length):\n",
    "            L1 = list(l_k[i])[:k-2]; L2 = list(l_k[j])[:k-2]\n",
    "            L1.sort(); L2.sort()\n",
    "            if L1 == L2:\n",
    "                retList.append(l_k[i] | l_k[j])\n",
    "    return final_set"
   ]
  },
  {
   "cell_type": "code",
   "execution_count": 10,
   "metadata": {},
   "outputs": [],
   "source": [
    "c_1 = [{song} for song in filtered_songs_id.keys()]"
   ]
  },
  {
   "cell_type": "code",
   "execution_count": null,
   "metadata": {},
   "outputs": [],
   "source": [
    "l_1 = "
   ]
  }
 ],
 "metadata": {
  "kernelspec": {
   "display_name": "Python 3",
   "language": "python",
   "name": "python3"
  },
  "language_info": {
   "codemirror_mode": {
    "name": "ipython",
    "version": 3
   },
   "file_extension": ".py",
   "mimetype": "text/x-python",
   "name": "python",
   "nbconvert_exporter": "python",
   "pygments_lexer": "ipython3",
   "version": "3.6.4"
  }
 },
 "nbformat": 4,
 "nbformat_minor": 2
}
